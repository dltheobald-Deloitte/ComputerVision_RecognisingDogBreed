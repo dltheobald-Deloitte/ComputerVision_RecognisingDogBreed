{
 "cells": [
  {
   "cell_type": "markdown",
   "metadata": {},
   "source": [
    "# Data Scientist Nanodegree\n",
    "\n",
    "## Convolutional Neural Networks\n",
    "\n",
    "## Project: Write an Algorithm for a Dog Identification App \n",
    "\n",
    "\n",
    "This notebook walks you through one of the most popular Udacity projects across machine learning and artificial intellegence nanodegree programs.  The goal is to classify images of dogs according to their breed.  \n",
    "\n",
    "If you are looking for a more guided capstone project related to deep learning and convolutional neural networks, this might be just it.  Notice that even if you follow the notebook to creating your classifier, you must still create a blog post or deploy an application to fulfill the requirements of the capstone project.\n",
    "\n",
    "Also notice, you may be able to use only parts of this notebook (for example certain coding portions or the data) without completing all parts and still meet all requirements of the capstone project.\n",
    "\n",
    "---\n",
    "\n",
    "In this notebook, some template code has already been provided for you, and you will need to implement additional functionality to successfully complete this project. You will not need to modify the included code beyond what is requested. Sections that begin with **'(IMPLEMENTATION)'** in the header indicate that the following block of code will require additional functionality which you must provide. Instructions will be provided for each section, and the specifics of the implementation are marked in the code block with a 'TODO' statement. Please be sure to read the instructions carefully! \n",
    "\n",
    "In addition to implementing code, there will be questions that you must answer which relate to the project and your implementation. Each section where you will answer a question is preceded by a **'Question X'** header. Carefully read each question and provide thorough answers in the following text boxes that begin with **'Answer:'**. Your project submission will be evaluated based on your answers to each of the questions and the implementation you provide.\n",
    "\n",
    ">**Note:** Code and Markdown cells can be executed using the **Shift + Enter** keyboard shortcut.  Markdown cells can be edited by double-clicking the cell to enter edit mode.\n",
    "\n",
    "The rubric contains _optional_ \"Stand Out Suggestions\" for enhancing the project beyond the minimum requirements. If you decide to pursue the \"Stand Out Suggestions\", you should include the code in this IPython notebook.\n",
    "\n",
    "\n",
    "\n",
    "---\n",
    "### Why We're Here \n",
    "\n",
    "In this notebook, you will make the first steps towards developing an algorithm that could be used as part of a mobile or web app.  At the end of this project, your code will accept any user-supplied image as input.  If a dog is detected in the image, it will provide an estimate of the dog's breed.  If a human is detected, it will provide an estimate of the dog breed that is most resembling.  The image below displays potential sample output of your finished project (... but we expect that each student's algorithm will behave differently!). \n",
    "\n",
    "![Sample Dog Output](images/sample_dog_output.png)\n",
    "\n",
    "In this real-world setting, you will need to piece together a series of models to perform different tasks; for instance, the algorithm that detects humans in an image will be different from the CNN that infers dog breed.  There are many points of possible failure, and no perfect algorithm exists.  Your imperfect solution will nonetheless create a fun user experience!\n",
    "\n",
    "### The Road Ahead\n",
    "\n",
    "We break the notebook into separate steps.  Feel free to use the links below to navigate the notebook.\n",
    "\n",
    "* [Step 0](#step0): Import Datasets\n",
    "* [Step 1](#step1): Detect Humans\n",
    "* [Step 2](#step2): Detect Dogs\n",
    "* [Step 3](#step3): Create a CNN to Classify Dog Breeds (from Scratch)\n",
    "* [Step 4](#step4): Use a CNN to Classify Dog Breeds (using Transfer Learning)\n",
    "* [Step 5](#step5): Create a CNN to Classify Dog Breeds (using Transfer Learning)\n",
    "* [Step 6](#step6): Write your Algorithm\n",
    "* [Step 7](#step7): Test Your Algorithm\n",
    "\n",
    "---\n",
    "<a id='step0'></a>\n",
    "## Step 0: Import Datasets\n",
    "\n",
    "### Import Dog Dataset\n",
    "\n",
    "In the code cell below, we import a dataset of dog images.  We populate a few variables through the use of the `load_files` function from the scikit-learn library:\n",
    "- `train_files`, `valid_files`, `test_files` - numpy arrays containing file paths to images\n",
    "- `train_targets`, `valid_targets`, `test_targets` - numpy arrays containing onehot-encoded classification labels \n",
    "- `dog_names` - list of string-valued dog breed names for translating labels"
   ]
  },
  {
   "cell_type": "code",
   "execution_count": 1,
   "metadata": {},
   "outputs": [
    {
     "name": "stderr",
     "output_type": "stream",
     "text": [
      "Using TensorFlow backend.\n"
     ]
    },
    {
     "name": "stdout",
     "output_type": "stream",
     "text": [
      "There are 133 total dog categories.\n",
      "There are 8351 total dog images.\n",
      "\n",
      "There are 6680 training dog images.\n",
      "There are 835 validation dog images.\n",
      "There are 836 test dog images.\n"
     ]
    }
   ],
   "source": [
    "from sklearn.datasets import load_files       \n",
    "from keras.utils import np_utils\n",
    "import numpy as np\n",
    "from glob import glob\n",
    "\n",
    "# define function to load train, test, and validation datasets\n",
    "def load_dataset(path):\n",
    "    \"\"\"Loads all files from a path and returns it as file and labels\n",
    "    \n",
    "    Parameters:\n",
    "    path (String): THis is a directory containing data required\n",
    "    \n",
    "    Returns:\n",
    "    dog_files (np.array): arrays of file names loaded from the path\n",
    "    dog_targets (np.array): Array of folder names (i.e. dog breed) relating to the files\n",
    "    \"\"\"\n",
    "    #Loads in all files from path\n",
    "    data = load_files(path)\n",
    "    \n",
    "    #Isolates all file and folder names within\n",
    "    dog_files = np.array(data['filenames'])\n",
    "    dog_targets = np_utils.to_categorical(np.array(data['target']), 133)\n",
    "    \n",
    "    return dog_files, dog_targets\n",
    "\n",
    "# load train, test, and validation datasets\n",
    "train_files, train_targets = load_dataset('../dogImages/train')\n",
    "valid_files, valid_targets = load_dataset('../dogImages/valid')\n",
    "test_files, test_targets = load_dataset('../dogImages/test')\n",
    "\n",
    "# load list of dog names\n",
    "dog_names = [item[20:-1] for item in sorted(glob(\"../dogImages/train/*/\"))]\n",
    "\n",
    "# print statistics about the dataset\n",
    "print('There are %d total dog categories.' % len(dog_names))\n",
    "print('There are %s total dog images.\\n' % len(np.hstack([train_files, valid_files, test_files])))\n",
    "print('There are %d training dog images.' % len(train_files))\n",
    "print('There are %d validation dog images.' % len(valid_files))\n",
    "print('There are %d test dog images.'% len(test_files))"
   ]
  },
  {
   "cell_type": "markdown",
   "metadata": {},
   "source": [
    "### Import Human Dataset\n",
    "\n",
    "In the code cell below, we import a dataset of human images, where the file paths are stored in the numpy array `human_files`."
   ]
  },
  {
   "cell_type": "code",
   "execution_count": 2,
   "metadata": {},
   "outputs": [
    {
     "name": "stdout",
     "output_type": "stream",
     "text": [
      "There are 13233 total human images.\n"
     ]
    }
   ],
   "source": [
    "import random\n",
    "random.seed(8675309)\n",
    "\n",
    "# load filenames in shuffled human dataset\n",
    "human_files = np.array(glob(\"../lfw/*/*\"))\n",
    "random.shuffle(human_files)\n",
    "\n",
    "# print statistics about the dataset\n",
    "print('There are %d total human images.' % len(human_files))"
   ]
  },
  {
   "cell_type": "markdown",
   "metadata": {},
   "source": [
    "---\n",
    "<a id='step1'></a>\n",
    "## Step 1: Detect Humans\n",
    "\n",
    "We use OpenCV's implementation of [Haar feature-based cascade classifiers](http://docs.opencv.org/trunk/d7/d8b/tutorial_py_face_detection.html) to detect human faces in images.  OpenCV provides many pre-trained face detectors, stored as XML files on [github](https://github.com/opencv/opencv/tree/master/data/haarcascades).  We have downloaded one of these detectors and stored it in the `haarcascades` directory.\n",
    "\n",
    "In the next code cell, we demonstrate how to use this detector to find human faces in a sample image."
   ]
  },
  {
   "cell_type": "code",
   "execution_count": 3,
   "metadata": {},
   "outputs": [
    {
     "name": "stdout",
     "output_type": "stream",
     "text": [
      "Number of faces detected: 1\n"
     ]
    },
    {
     "data": {
      "image/png": "[encoded data removed]",
      "text/plain": [
       "<Figure size 432x288 with 1 Axes>"
      ]
     },
     "metadata": {
      "needs_background": "light"
     },
     "output_type": "display_data"
    }
   ],
   "source": [
    "import cv2                \n",
    "import matplotlib.pyplot as plt                        \n",
    "%matplotlib inline                               \n",
    "\n",
    "# extract pre-trained face detector\n",
    "face_cascade = cv2.CascadeClassifier('haarcascades/haarcascade_frontalface_alt.xml')\n",
    "\n",
    "# load color (BGR) image\n",
    "img = cv2.imread(human_files[1])\n",
    "# convert BGR image to grayscale\n",
    "gray = cv2.cvtColor(img, cv2.COLOR_BGR2GRAY)\n",
    "\n",
    "# find faces in image\n",
    "faces = face_cascade.detectMultiScale(gray)\n",
    "\n",
    "# print number of faces detected in the image\n",
    "print('Number of faces detected:', len(faces))\n",
    "\n",
    "# get bounding box for each detected face\n",
    "for (x,y,w,h) in faces:\n",
    "    # add bounding box to color image\n",
    "    cv2.rectangle(img,(x,y),(x+w,y+h),(255,0,0),2)\n",
    "    \n",
    "# convert BGR image to RGB for plotting\n",
    "cv_rgb = cv2.cvtColor(img, cv2.COLOR_BGR2RGB)\n",
    "\n",
    "# display the image, along with bounding box\n",
    "plt.imshow(cv_rgb)\n",
    "plt.show()"
   ]
  },
  {
   "cell_type": "markdown",
   "metadata": {},
   "source": [
    "Before using any of the face detectors, it is standard procedure to convert the images to grayscale.  The `detectMultiScale` function executes the classifier stored in `face_cascade` and takes the grayscale image as a parameter.  \n",
    "\n",
    "In the above code, `faces` is a numpy array of detected faces, where each row corresponds to a detected face.  Each detected face is a 1D array with four entries that specifies the bounding box of the detected face.  The first two entries in the array (extracted in the above code as `x` and `y`) specify the horizontal and vertical positions of the top left corner of the bounding box.  The last two entries in the array (extracted here as `w` and `h`) specify the width and height of the box.\n",
    "\n",
    "### Write a Human Face Detector\n",
    "\n",
    "We can use this procedure to write a function that returns `True` if a human face is detected in an image and `False` otherwise.  This function, aptly named `face_detector`, takes a string-valued file path to an image as input and appears in the code block below."
   ]
  },
  {
   "cell_type": "code",
   "execution_count": 4,
   "metadata": {},
   "outputs": [],
   "source": [
    "# returns \"True\" if face is detected in image stored at img_path\n",
    "def face_detector(img_path):\n",
    "    \"\"\"Takes a file path of an image and detects whether a human face is present.\n",
    "\n",
    "    Parameters:\n",
    "    img_path (String): Path to a file containing the image.\n",
    "\n",
    "    Returns:\n",
    "    (Boolean): Presence of a human face\n",
    "    \"\"\"\n",
    "    #Loads face classifier\n",
    "    face_cascade = cv2.CascadeClassifier('haarcascades/haarcascade_frontalface_alt.xml')\n",
    "    \n",
    "    #Reads in images and converts format\n",
    "    img = cv2.imread(img_path)\n",
    "    gray = cv2.cvtColor(img, cv2.COLOR_BGR2GRAY)\n",
    "    \n",
    "    #generates list of faces\n",
    "    faces = face_cascade.detectMultiScale(gray)\n",
    "    \n",
    "    return len(faces) > 0"
   ]
  },
  {
   "cell_type": "markdown",
   "metadata": {},
   "source": [
    "### (IMPLEMENTATION) Assess the Human Face Detector\n",
    "\n",
    "__Question 1:__ Use the code cell below to test the performance of the `face_detector` function.  \n",
    "- What percentage of the first 100 images in `human_files` have a detected human face?  \n",
    "- What percentage of the first 100 images in `dog_files` have a detected human face? \n",
    "\n",
    "Ideally, we would like 100% of human images with a detected face and 0% of dog images with a detected face.  You will see that our algorithm falls short of this goal, but still gives acceptable performance.  We extract the file paths for the first 100 images from each of the datasets and store them in the numpy arrays `human_files_short` and `dog_files_short`.\n",
    "\n",
    "__Answer:__ "
   ]
  },
  {
   "cell_type": "code",
   "execution_count": 5,
   "metadata": {},
   "outputs": [
    {
     "name": "stdout",
     "output_type": "stream",
     "text": [
      "The face detector correctly guessed 99% presence of human faces.\n",
      "The face detector incorrectly guessed 12% of dogs as having human faces.\n"
     ]
    }
   ],
   "source": [
    "#Generates a small subset of data\n",
    "human_files_short = human_files[:100]\n",
    "dog_files_short = train_files[:100]\n",
    "# Do NOT modify the code above this line.\n",
    "\n",
    "## TODO: Test the performance of the face_detector algorithm \n",
    "## on the images in human_files_short and dog_files_short.\n",
    "\n",
    "#Finds number of human faces detected\n",
    "human_face_detected = 0\n",
    "for human in human_files_short:\n",
    "    if face_detector(human):\n",
    "        human_face_detected += 1\n",
    "\n",
    "#Finds number of dogs mistakenly detected\n",
    "dog_face_detected = 0\n",
    "for dog in dog_files_short:\n",
    "    if face_detector(dog):\n",
    "        dog_face_detected += 1\n",
    "\n",
    "#Creating accuracy metric for the face detector\n",
    "human_accuracy = float(human_face_detected) / float(len(human_files_short))\n",
    "dog_accuracy = float(dog_face_detected) / float(len(dog_files_short))\n",
    "human_accuracy = \"{0:.0%}\".format(human_accuracy)\n",
    "dog_accuracy = \"{0:.0%}\".format(dog_accuracy)\n",
    "\n",
    "#Printing performance of face detector\n",
    "print(\"The face detector correctly guessed %s presence of human faces.\"%(human_accuracy))    \n",
    "print(\"The face detector incorrectly guessed %s of dogs as having human faces.\"%(dog_accuracy))\n"
   ]
  },
  {
   "cell_type": "markdown",
   "metadata": {},
   "source": [
    "__Question 2:__ This algorithmic choice necessitates that we communicate to the user that we accept human images only when they provide a clear view of a face (otherwise, we risk having unneccessarily frustrated users!). In your opinion, is this a reasonable expectation to pose on the user? If not, can you think of a way to detect humans in images that does not necessitate an image with a clearly presented face?\n",
    "\n",
    "__Answer:__\n",
    "\n",
    "We suggest the face detector from OpenCV as a potential way to detect human images in your algorithm, but you are free to explore other approaches, especially approaches that make use of deep learning :).  Please use the code cell below to design and test your own face detection algorithm.  If you decide to pursue this _optional_ task, report performance on each of the datasets."
   ]
  },
  {
   "cell_type": "code",
   "execution_count": 6,
   "metadata": {},
   "outputs": [],
   "source": [
    "## (Optional) TODO: Report the performance of another \n",
    "## face detection algorithm on the LFW dataset\n",
    "### Feel free to use as many code cells as needed."
   ]
  },
  {
   "cell_type": "markdown",
   "metadata": {},
   "source": [
    "---\n",
    "<a id='step2'></a>\n",
    "## Step 2: Detect Dogs\n",
    "\n",
    "In this section, we use a pre-trained [ResNet-50](http://ethereon.github.io/netscope/#/gist/db945b393d40bfa26006) model to detect dogs in images.  Our first line of code downloads the ResNet-50 model, along with weights that have been trained on [ImageNet](http://www.image-net.org/), a very large, very popular dataset used for image classification and other vision tasks.  ImageNet contains over 10 million URLs, each linking to an image containing an object from one of [1000 categories](https://gist.github.com/yrevar/942d3a0ac09ec9e5eb3a).  Given an image, this pre-trained ResNet-50 model returns a prediction (derived from the available categories in ImageNet) for the object that is contained in the image."
   ]
  },
  {
   "cell_type": "code",
   "execution_count": 7,
   "metadata": {},
   "outputs": [
    {
     "name": "stdout",
     "output_type": "stream",
     "text": [
      "WARNING:tensorflow:From C:\\Users\\dltheobald\\AppData\\Local\\Continuum\\anaconda3\\envs\\capstone\\lib\\site-packages\\keras\\backend\\tensorflow_backend.py:74: The name tf.get_default_graph is deprecated. Please use tf.compat.v1.get_default_graph instead.\n",
      "\n",
      "WARNING:tensorflow:From C:\\Users\\dltheobald\\AppData\\Local\\Continuum\\anaconda3\\envs\\capstone\\lib\\site-packages\\keras\\backend\\tensorflow_backend.py:517: The name tf.placeholder is deprecated. Please use tf.compat.v1.placeholder instead.\n",
      "\n",
      "WARNING:tensorflow:From C:\\Users\\dltheobald\\AppData\\Local\\Continuum\\anaconda3\\envs\\capstone\\lib\\site-packages\\keras\\backend\\tensorflow_backend.py:4185: The name tf.truncated_normal is deprecated. Please use tf.random.truncated_normal instead.\n",
      "\n",
      "WARNING:tensorflow:From C:\\Users\\dltheobald\\AppData\\Local\\Continuum\\anaconda3\\envs\\capstone\\lib\\site-packages\\keras\\backend\\tensorflow_backend.py:174: The name tf.get_default_session is deprecated. Please use tf.compat.v1.get_default_session instead.\n",
      "\n",
      "WARNING:tensorflow:From C:\\Users\\dltheobald\\AppData\\Local\\Continuum\\anaconda3\\envs\\capstone\\lib\\site-packages\\keras\\backend\\tensorflow_backend.py:181: The name tf.ConfigProto is deprecated. Please use tf.compat.v1.ConfigProto instead.\n",
      "\n",
      "WARNING:tensorflow:From C:\\Users\\dltheobald\\AppData\\Local\\Continuum\\anaconda3\\envs\\capstone\\lib\\site-packages\\keras\\backend\\tensorflow_backend.py:186: The name tf.Session is deprecated. Please use tf.compat.v1.Session instead.\n",
      "\n",
      "WARNING:tensorflow:From C:\\Users\\dltheobald\\AppData\\Local\\Continuum\\anaconda3\\envs\\capstone\\lib\\site-packages\\keras\\backend\\tensorflow_backend.py:190: The name tf.global_variables is deprecated. Please use tf.compat.v1.global_variables instead.\n",
      "\n",
      "WARNING:tensorflow:From C:\\Users\\dltheobald\\AppData\\Local\\Continuum\\anaconda3\\envs\\capstone\\lib\\site-packages\\keras\\backend\\tensorflow_backend.py:199: The name tf.is_variable_initialized is deprecated. Please use tf.compat.v1.is_variable_initialized instead.\n",
      "\n",
      "WARNING:tensorflow:From C:\\Users\\dltheobald\\AppData\\Local\\Continuum\\anaconda3\\envs\\capstone\\lib\\site-packages\\keras\\backend\\tensorflow_backend.py:206: The name tf.variables_initializer is deprecated. Please use tf.compat.v1.variables_initializer instead.\n",
      "\n",
      "WARNING:tensorflow:From C:\\Users\\dltheobald\\AppData\\Local\\Continuum\\anaconda3\\envs\\capstone\\lib\\site-packages\\keras\\backend\\tensorflow_backend.py:1834: The name tf.nn.fused_batch_norm is deprecated. Please use tf.compat.v1.nn.fused_batch_norm instead.\n",
      "\n",
      "WARNING:tensorflow:From C:\\Users\\dltheobald\\AppData\\Local\\Continuum\\anaconda3\\envs\\capstone\\lib\\site-packages\\keras\\backend\\tensorflow_backend.py:133: The name tf.placeholder_with_default is deprecated. Please use tf.compat.v1.placeholder_with_default instead.\n",
      "\n",
      "WARNING:tensorflow:From C:\\Users\\dltheobald\\AppData\\Local\\Continuum\\anaconda3\\envs\\capstone\\lib\\site-packages\\keras\\backend\\tensorflow_backend.py:3976: The name tf.nn.max_pool is deprecated. Please use tf.nn.max_pool2d instead.\n",
      "\n",
      "WARNING:tensorflow:From C:\\Users\\dltheobald\\AppData\\Local\\Continuum\\anaconda3\\envs\\capstone\\lib\\site-packages\\keras\\backend\\tensorflow_backend.py:4138: The name tf.random_uniform is deprecated. Please use tf.random.uniform instead.\n",
      "\n"
     ]
    }
   ],
   "source": [
    "from keras.applications.resnet50 import ResNet50\n",
    "\n",
    "# define ResNet50 model\n",
    "ResNet50_model = ResNet50(weights='imagenet')"
   ]
  },
  {
   "cell_type": "markdown",
   "metadata": {},
   "source": [
    "### Pre-process the Data\n",
    "\n",
    "When using TensorFlow as backend, Keras CNNs require a 4D array (which we'll also refer to as a 4D tensor) as input, with shape\n",
    "\n",
    "$$\n",
    "(\\text{nb_samples}, \\text{rows}, \\text{columns}, \\text{channels}),\n",
    "$$\n",
    "\n",
    "where `nb_samples` corresponds to the total number of images (or samples), and `rows`, `columns`, and `channels` correspond to the number of rows, columns, and channels for each image, respectively.  \n",
    "\n",
    "The `path_to_tensor` function below takes a string-valued file path to a color image as input and returns a 4D tensor suitable for supplying to a Keras CNN.  The function first loads the image and resizes it to a square image that is $224 \\times 224$ pixels.  Next, the image is converted to an array, which is then resized to a 4D tensor.  In this case, since we are working with color images, each image has three channels.  Likewise, since we are processing a single image (or sample), the returned tensor will always have shape\n",
    "\n",
    "$$\n",
    "(1, 224, 224, 3).\n",
    "$$\n",
    "\n",
    "The `paths_to_tensor` function takes a numpy array of string-valued image paths as input and returns a 4D tensor with shape \n",
    "\n",
    "$$\n",
    "(\\text{nb_samples}, 224, 224, 3).\n",
    "$$\n",
    "\n",
    "Here, `nb_samples` is the number of samples, or number of images, in the supplied array of image paths.  It is best to think of `nb_samples` as the number of 3D tensors (where each 3D tensor corresponds to a different image) in your dataset!"
   ]
  },
  {
   "cell_type": "code",
   "execution_count": 8,
   "metadata": {},
   "outputs": [],
   "source": [
    "from keras.preprocessing import image                  \n",
    "from tqdm import tqdm\n",
    "\n",
    "def path_to_tensor(img_path):\n",
    "    \"\"\"Takes a file path of an image, loads it and then extracts information into a fixed shape numpy \n",
    "    array, ready to be used for VGG19 feature extracrion.\n",
    "\n",
    "    Parameters:\n",
    "    img_path (String): Path to a file containing the image.\n",
    "\n",
    "    Returns:\n",
    "    (np.array): A numpy array with fixed dimensions and information from an image\n",
    "    \"\"\"\n",
    "    \n",
    "    # loads RGB image as PIL.Image.Image type\n",
    "    img = image.load_img(img_path, target_size=(224, 224))\n",
    "    # convert PIL.Image.Image type to 3D tensor with shape (224, 224, 3)\n",
    "    x = image.img_to_array(img)\n",
    "    \n",
    "    # convert 3D tensor to 4D tensor with shape (1, 224, 224, 3) and return 4D tensor\n",
    "    return np.expand_dims(x, axis=0)\n",
    "\n",
    "def paths_to_tensor(img_paths):\n",
    "    \"\"\"Takes multiple file path of an image, loads it and then extracts information into a fixed shape numpy \n",
    "    array, ready to be used for VGG19 feature extraction.\n",
    "\n",
    "    Parameters:\n",
    "    img_path (String): Path to a file containing the image.\n",
    "\n",
    "    Returns:\n",
    "    (np.array): A numpy array with fixed dimensions and information from a selection image\n",
    "    \"\"\"\n",
    "    list_of_tensors = [path_to_tensor(img_path) for img_path in tqdm(img_paths)]\n",
    "    \n",
    "    return np.vstack(list_of_tensors)"
   ]
  },
  {
   "cell_type": "markdown",
   "metadata": {},
   "source": [
    "### Making Predictions with ResNet-50\n",
    "\n",
    "Getting the 4D tensor ready for ResNet-50, and for any other pre-trained model in Keras, requires some additional processing.  First, the RGB image is converted to BGR by reordering the channels.  All pre-trained models have the additional normalization step that the mean pixel (expressed in RGB as $[103.939, 116.779, 123.68]$ and calculated from all pixels in all images in ImageNet) must be subtracted from every pixel in each image.  This is implemented in the imported function `preprocess_input`.  If you're curious, you can check the code for `preprocess_input` [here](https://github.com/fchollet/keras/blob/master/keras/applications/imagenet_utils.py).\n",
    "\n",
    "Now that we have a way to format our image for supplying to ResNet-50, we are now ready to use the model to extract the predictions.  This is accomplished with the `predict` method, which returns an array whose $i$-th entry is the model's predicted probability that the image belongs to the $i$-th ImageNet category.  This is implemented in the `ResNet50_predict_labels` function below.\n",
    "\n",
    "By taking the argmax of the predicted probability vector, we obtain an integer corresponding to the model's predicted object class, which we can identify with an object category through the use of this [dictionary](https://gist.github.com/yrevar/942d3a0ac09ec9e5eb3a). "
   ]
  },
  {
   "cell_type": "code",
   "execution_count": 9,
   "metadata": {},
   "outputs": [],
   "source": [
    "from keras.applications.resnet50 import preprocess_input, decode_predictions\n",
    "\n",
    "def ResNet50_predict_labels(img_path):\n",
    "    \"\"\"Takes an image path, extracts information from it and uses the resnet model to classify the image\n",
    "\n",
    "    Parameters:\n",
    "    img_path (String): Path to a file containing the image.\n",
    "\n",
    "    Returns:\n",
    "    (Integer): A integer corresponding to the classification of the image\n",
    "    \"\"\"\n",
    "    # returns prediction vector for image located at img_path\n",
    "    img = preprocess_input(path_to_tensor(img_path))\n",
    "    \n",
    "    return np.argmax(ResNet50_model.predict(img))"
   ]
  },
  {
   "cell_type": "markdown",
   "metadata": {},
   "source": [
    "### Write a Dog Detector\n",
    "\n",
    "While looking at the [dictionary](https://gist.github.com/yrevar/942d3a0ac09ec9e5eb3a), you will notice that the categories corresponding to dogs appear in an uninterrupted sequence and correspond to dictionary keys 151-268, inclusive, to include all categories from `'Chihuahua'` to `'Mexican hairless'`.  Thus, in order to check to see if an image is predicted to contain a dog by the pre-trained ResNet-50 model, we need only check if the `ResNet50_predict_labels` function above returns a value between 151 and 268 (inclusive).\n",
    "\n",
    "We use these ideas to complete the `dog_detector` function below, which returns `True` if a dog is detected in an image (and `False` if not)."
   ]
  },
  {
   "cell_type": "code",
   "execution_count": 10,
   "metadata": {},
   "outputs": [],
   "source": [
    "### returns \"True\" if a dog is detected in the image stored at img_path\n",
    "def dog_detector(img_path):\n",
    "    \"\"\"Takes a file path of an image and returns whether it is a dog or not\n",
    "\n",
    "    Parameters:\n",
    "    img_path (String): Path to a file containing the image.\n",
    "\n",
    "    Returns:\n",
    "    (Boolean): Presence of a dog\n",
    "    \"\"\"\n",
    "    #USesresnet to predict category of image\n",
    "    prediction = ResNet50_predict_labels(img_path)\n",
    "    \n",
    "    #Dogs are between the numbers returns below\n",
    "    return ((prediction <= 268) & (prediction >= 151)) "
   ]
  },
  {
   "cell_type": "markdown",
   "metadata": {},
   "source": [
    "### (IMPLEMENTATION) Assess the Dog Detector\n",
    "\n",
    "__Question 3:__ Use the code cell below to test the performance of your `dog_detector` function.  \n",
    "- What percentage of the images in `human_files_short` have a detected dog?  \n",
    "- What percentage of the images in `dog_files_short` have a detected dog?\n",
    "\n",
    "__Answer:__ "
   ]
  },
  {
   "cell_type": "code",
   "execution_count": 11,
   "metadata": {},
   "outputs": [
    {
     "name": "stdout",
     "output_type": "stream",
     "text": [
      "The face detector incorrectly guessed 1% of humans as a dog.\n",
      "The face detector correctly guessed 100% of dog faces.\n"
     ]
    }
   ],
   "source": [
    "### TODO: Test the performance of the dog_detector function\n",
    "### on the images in human_files_short and dog_files_short.\n",
    "\n",
    "#Detects the mistakes of the dog detector on humans\n",
    "human_count = 0\n",
    "dog_count = 0\n",
    "for human in human_files_short:\n",
    "    if dog_detector(human):\n",
    "        human_count += 1\n",
    "\n",
    "#Detects the accuracy of the dog detector        \n",
    "dog_count = 0\n",
    "for dog in dog_files_short:\n",
    "    if dog_detector(dog):\n",
    "        dog_count += 1\n",
    "        \n",
    "#calculates the accuracy of dog_detector\n",
    "human_dog_accuracy = float(human_count) / float(len(human_files_short))\n",
    "dog_dog_accuracy = float(dog_count) / float(len(dog_files_short))\n",
    "human_dog_accuracy = \"{0:.0%}\".format(human_dog_accuracy)\n",
    "dog_dog_accuracy = \"{0:.0%}\".format(dog_dog_accuracy)\n",
    "\n",
    "#Prints accuracy metric\n",
    "print(\"The face detector incorrectly guessed %s of humans as a dog.\"%(human_dog_accuracy))    \n",
    "print(\"The face detector correctly guessed %s of dog faces.\"%(dog_dog_accuracy))"
   ]
  },
  {
   "cell_type": "markdown",
   "metadata": {},
   "source": [
    "---\n",
    "<a id='step3'></a>\n",
    "## Step 3: Create a CNN to Classify Dog Breeds (from Scratch)\n",
    "\n",
    "Now that we have functions for detecting humans and dogs in images, we need a way to predict breed from images.  In this step, you will create a CNN that classifies dog breeds.  You must create your CNN _from scratch_ (so, you can't use transfer learning _yet_!), and you must attain a test accuracy of at least 1%.  In Step 5 of this notebook, you will have the opportunity to use transfer learning to create a CNN that attains greatly improved accuracy.\n",
    "\n",
    "Be careful with adding too many trainable layers!  More parameters means longer training, which means you are more likely to need a GPU to accelerate the training process.  Thankfully, Keras provides a handy estimate of the time that each epoch is likely to take; you can extrapolate this estimate to figure out how long it will take for your algorithm to train. \n",
    "\n",
    "We mention that the task of assigning breed to dogs from images is considered exceptionally challenging.  To see why, consider that *even a human* would have great difficulty in distinguishing between a Brittany and a Welsh Springer Spaniel.  \n",
    "\n",
    "Brittany | Welsh Springer Spaniel\n",
    "- | - \n",
    "<img src=\"images/Brittany_02625.jpg\" width=\"100\"> | <img src=\"images/Welsh_springer_spaniel_08203.jpg\" width=\"200\">\n",
    "\n",
    "It is not difficult to find other dog breed pairs with minimal inter-class variation (for instance, Curly-Coated Retrievers and American Water Spaniels).  \n",
    "\n",
    "Curly-Coated Retriever | American Water Spaniel\n",
    "- | -\n",
    "<img src=\"images/Curly-coated_retriever_03896.jpg\" width=\"200\"> | <img src=\"images/American_water_spaniel_00648.jpg\" width=\"200\">\n",
    "\n",
    "\n",
    "Likewise, recall that labradors come in yellow, chocolate, and black.  Your vision-based algorithm will have to conquer this high intra-class variation to determine how to classify all of these different shades as the same breed.  \n",
    "\n",
    "Yellow Labrador | Chocolate Labrador | Black Labrador\n",
    "- | -\n",
    "<img src=\"images/Labrador_retriever_06457.jpg\" width=\"150\"> | <img src=\"images/Labrador_retriever_06455.jpg\" width=\"240\"> | <img src=\"images/Labrador_retriever_06449.jpg\" width=\"220\">\n",
    "\n",
    "We also mention that random chance presents an exceptionally low bar: setting aside the fact that the classes are slightly imabalanced, a random guess will provide a correct answer roughly 1 in 133 times, which corresponds to an accuracy of less than 1%.  \n",
    "\n",
    "Remember that the practice is far ahead of the theory in deep learning.  Experiment with many different architectures, and trust your intuition.  And, of course, have fun! \n",
    "\n",
    "### Pre-process the Data\n",
    "\n",
    "We rescale the images by dividing every pixel in every image by 255."
   ]
  },
  {
   "cell_type": "code",
   "execution_count": 12,
   "metadata": {},
   "outputs": [
    {
     "name": "stderr",
     "output_type": "stream",
     "text": [
      "100%|██████████| 6680/6680 [01:30<00:00, 73.72it/s] \n",
      "100%|██████████| 835/835 [00:11<00:00, 74.54it/s]\n",
      "100%|██████████| 836/836 [00:13<00:00, 63.09it/s]\n"
     ]
    }
   ],
   "source": [
    "from PIL import ImageFile                            \n",
    "ImageFile.LOAD_TRUNCATED_IMAGES = True                 \n",
    "\n",
    "# pre-process the data for Keras\n",
    "train_tensors = paths_to_tensor(train_files).astype('float32')/255\n",
    "valid_tensors = paths_to_tensor(valid_files).astype('float32')/255\n",
    "test_tensors = paths_to_tensor(test_files).astype('float32')/255"
   ]
  },
  {
   "cell_type": "markdown",
   "metadata": {},
   "source": [
    "### (IMPLEMENTATION) Model Architecture\n",
    "\n",
    "Create a CNN to classify dog breed.  At the end of your code cell block, summarize the layers of your model by executing the line:\n",
    "    \n",
    "        model.summary()\n",
    "\n",
    "We have imported some Python modules to get you started, but feel free to import as many modules as you need.  If you end up getting stuck, here's a hint that specifies a model that trains relatively fast on CPU and attains >1% test accuracy in 5 epochs:\n",
    "\n",
    "![Sample CNN](images/sample_cnn.png)\n",
    "           \n",
    "__Question 4:__ Outline the steps you took to get to your final CNN architecture and your reasoning at each step.  If you chose to use the hinted architecture above, describe why you think that CNN architecture should work well for the image classification task.\n",
    "\n",
    "__Answer:__ "
   ]
  },
  {
   "cell_type": "code",
   "execution_count": 13,
   "metadata": {},
   "outputs": [
    {
     "name": "stdout",
     "output_type": "stream",
     "text": [
      "_________________________________________________________________\n",
      "Layer (type)                 Output Shape              Param #   \n",
      "=================================================================\n",
      "conv2d_1 (Conv2D)            (None, 224, 224, 8)       224       \n",
      "_________________________________________________________________\n",
      "max_pooling2d_2 (MaxPooling2 (None, 112, 112, 8)       0         \n",
      "_________________________________________________________________\n",
      "conv2d_2 (Conv2D)            (None, 112, 112, 16)      1168      \n",
      "_________________________________________________________________\n",
      "max_pooling2d_3 (MaxPooling2 (None, 56, 56, 16)        0         \n",
      "_________________________________________________________________\n",
      "conv2d_3 (Conv2D)            (None, 56, 56, 32)        4640      \n",
      "_________________________________________________________________\n",
      "max_pooling2d_4 (MaxPooling2 (None, 28, 28, 32)        0         \n",
      "_________________________________________________________________\n",
      "flatten_1 (Flatten)          (None, 25088)             0         \n",
      "_________________________________________________________________\n",
      "dense_1 (Dense)              (None, 133)               3336837   \n",
      "=================================================================\n",
      "Total params: 3,342,869\n",
      "Trainable params: 3,342,869\n",
      "Non-trainable params: 0\n",
      "_________________________________________________________________\n"
     ]
    }
   ],
   "source": [
    "from keras.layers import Conv2D, MaxPooling2D, GlobalAveragePooling2D\n",
    "from keras.layers import Dropout, Flatten, Dense\n",
    "from keras.models import Sequential\n",
    "\n",
    "#Instatiate model with Sequential Keras object\n",
    "model = Sequential()\n",
    "\n",
    "#Defines model architecture (activations etc.)\n",
    "model.add(Conv2D(8, kernel_size = 3, strides = 1,\n",
    "                 activation = 'relu', padding = 'same',\n",
    "                 input_shape = (224,224,3)))\n",
    "model.add(MaxPooling2D(2,2))\n",
    "model.add(Conv2D(16, kernel_size = 3, strides = 1,\n",
    "                activation = 'relu', padding = 'same'))\n",
    "model.add(MaxPooling2D(2,2))\n",
    "model.add(Conv2D(32, kernel_size = 3, strides = 1,\n",
    "                activation = 'relu', padding = 'same'))\n",
    "model.add(MaxPooling2D(2,2))\n",
    "model.add(Flatten())\n",
    "model.add(Dense(133, activation = 'softmax'))\n",
    "\n",
    "#Print models architecture\n",
    "model.summary()"
   ]
  },
  {
   "cell_type": "markdown",
   "metadata": {},
   "source": [
    "### Compile the Model"
   ]
  },
  {
   "cell_type": "code",
   "execution_count": 14,
   "metadata": {},
   "outputs": [
    {
     "name": "stdout",
     "output_type": "stream",
     "text": [
      "WARNING:tensorflow:From C:\\Users\\dltheobald\\AppData\\Local\\Continuum\\anaconda3\\envs\\capstone\\lib\\site-packages\\keras\\optimizers.py:790: The name tf.train.Optimizer is deprecated. Please use tf.compat.v1.train.Optimizer instead.\n",
      "\n",
      "WARNING:tensorflow:From C:\\Users\\dltheobald\\AppData\\Local\\Continuum\\anaconda3\\envs\\capstone\\lib\\site-packages\\keras\\backend\\tensorflow_backend.py:3295: The name tf.log is deprecated. Please use tf.math.log instead.\n",
      "\n"
     ]
    }
   ],
   "source": [
    "#Defines the metric to measure against, the optimiser and the loss function used for training the model\n",
    "model.compile(optimizer='rmsprop', loss='categorical_crossentropy', metrics=['accuracy']) "
   ]
  },
  {
   "cell_type": "markdown",
   "metadata": {},
   "source": [
    "### (IMPLEMENTATION) Train the Model\n",
    "\n",
    "Train your model in the code cell below.  Use model checkpointing to save the model that attains the best validation loss.\n",
    "\n",
    "You are welcome to [augment the training data](https://blog.keras.io/building-powerful-image-classification-models-using-very-little-data.html), but this is not a requirement. "
   ]
  },
  {
   "cell_type": "code",
   "execution_count": 15,
   "metadata": {},
   "outputs": [
    {
     "name": "stdout",
     "output_type": "stream",
     "text": [
      "WARNING:tensorflow:From C:\\Users\\dltheobald\\AppData\\Local\\Continuum\\anaconda3\\envs\\capstone\\lib\\site-packages\\tensorflow_core\\python\\ops\\math_grad.py:1424: where (from tensorflow.python.ops.array_ops) is deprecated and will be removed in a future version.\n",
      "Instructions for updating:\n",
      "Use tf.where in 2.0, which has the same broadcast rule as np.where\n",
      "WARNING:tensorflow:From C:\\Users\\dltheobald\\AppData\\Local\\Continuum\\anaconda3\\envs\\capstone\\lib\\site-packages\\keras\\backend\\tensorflow_backend.py:986: The name tf.assign_add is deprecated. Please use tf.compat.v1.assign_add instead.\n",
      "\n",
      "WARNING:tensorflow:From C:\\Users\\dltheobald\\AppData\\Local\\Continuum\\anaconda3\\envs\\capstone\\lib\\site-packages\\keras\\backend\\tensorflow_backend.py:973: The name tf.assign is deprecated. Please use tf.compat.v1.assign instead.\n",
      "\n",
      "Train on 6680 samples, validate on 835 samples\n",
      "Epoch 1/5\n",
      "6680/6680 [==============================] - 72s 11ms/step - loss: 4.8270 - acc: 0.0201 - val_loss: 4.6927 - val_acc: 0.0287\n",
      "Epoch 2/5\n",
      "6680/6680 [==============================] - 81s 12ms/step - loss: 4.1613 - acc: 0.1145 - val_loss: 4.7454 - val_acc: 0.0467\n",
      "Epoch 3/5\n",
      "6680/6680 [==============================] - 66s 10ms/step - loss: 2.3317 - acc: 0.4660 - val_loss: 5.9249 - val_acc: 0.0623\n",
      "Epoch 4/5\n",
      "6680/6680 [==============================] - 66s 10ms/step - loss: 1.0804 - acc: 0.7449 - val_loss: 7.6881 - val_acc: 0.0635\n",
      "Epoch 5/5\n",
      "6680/6680 [==============================] - 67s 10ms/step - loss: 0.4340 - acc: 0.8901 - val_loss: 9.5514 - val_acc: 0.0587\n"
     ]
    },
    {
     "data": {
      "text/plain": [
       "<keras.callbacks.History at 0x2a79b10a048>"
      ]
     },
     "execution_count": 15,
     "metadata": {},
     "output_type": "execute_result"
    }
   ],
   "source": [
    "from keras.callbacks import ModelCheckpoint  \n",
    "\n",
    "### TODO: specify the number of epochs that you would like to use to train the model.\n",
    "\n",
    "epochs = 5\n",
    "\n",
    "### Do NOT modify the code below this line.\n",
    "\n",
    "#The below fits the CNN and saves the weights for the epoch which yields the ebst results\n",
    "checkpointer = ModelCheckpoint(filepath='model/notebook/weights.best.from_scratch.hdf5', \n",
    "                               verbose=0, save_best_only=True)\n",
    "\n",
    "model.fit(train_tensors, train_targets, \n",
    "          validation_data=(valid_tensors, valid_targets),\n",
    "          epochs=epochs, batch_size=20, callbacks=[checkpointer], verbose=1)"
   ]
  },
  {
   "cell_type": "markdown",
   "metadata": {},
   "source": [
    "### Load the Model with the Best Validation Loss"
   ]
  },
  {
   "cell_type": "code",
   "execution_count": 16,
   "metadata": {},
   "outputs": [],
   "source": [
    "#Loads the weights of the highest performing epoch\n",
    "model.load_weights('model/notebook/weights.best.from_scratch.hdf5')"
   ]
  },
  {
   "cell_type": "markdown",
   "metadata": {},
   "source": [
    "### Test the Model\n",
    "\n",
    "Try out your model on the test dataset of dog images.  Ensure that your test accuracy is greater than 1%."
   ]
  },
  {
   "cell_type": "code",
   "execution_count": 17,
   "metadata": {},
   "outputs": [
    {
     "name": "stdout",
     "output_type": "stream",
     "text": [
      "Test accuracy: 2.7512%\n"
     ]
    }
   ],
   "source": [
    "# get index of predicted dog breed for each image in test set\n",
    "dog_breed_predictions = [np.argmax(model.predict(np.expand_dims(tensor, axis=0))) for tensor in test_tensors]\n",
    "\n",
    "# report test accuracy\n",
    "test_accuracy = 100*np.sum(np.array(dog_breed_predictions)==np.argmax(test_targets, axis=1))/len(dog_breed_predictions)\n",
    "print('Test accuracy: %.4f%%' % test_accuracy)"
   ]
  },
  {
   "cell_type": "markdown",
   "metadata": {},
   "source": [
    "---\n",
    "<a id='step4'></a>\n",
    "## Step 4: Use a CNN to Classify Dog Breeds\n",
    "\n",
    "To reduce training time without sacrificing accuracy, we show you how to train a CNN using transfer learning.  In the following step, you will get a chance to use transfer learning to train your own CNN.\n",
    "\n",
    "### Obtain Bottleneck Features"
   ]
  },
  {
   "cell_type": "code",
   "execution_count": 18,
   "metadata": {},
   "outputs": [],
   "source": [
    "#Loads in pre-processed VGG16 features for test, train and validation images.\n",
    "bottleneck_features = np.load('bottleneck_features/DogVGG16Data.npz')\n",
    "train_VGG16 = bottleneck_features['train']\n",
    "valid_VGG16 = bottleneck_features['valid']\n",
    "test_VGG16 = bottleneck_features['test']"
   ]
  },
  {
   "cell_type": "markdown",
   "metadata": {},
   "source": [
    "### Model Architecture\n",
    "\n",
    "The model uses the the pre-trained VGG-16 model as a fixed feature extractor, where the last convolutional output of VGG-16 is fed as input to our model.  We only add a global average pooling layer and a fully connected layer, where the latter contains one node for each dog category and is equipped with a softmax."
   ]
  },
  {
   "cell_type": "code",
   "execution_count": 19,
   "metadata": {},
   "outputs": [
    {
     "name": "stdout",
     "output_type": "stream",
     "text": [
      "_________________________________________________________________\n",
      "Layer (type)                 Output Shape              Param #   \n",
      "=================================================================\n",
      "global_average_pooling2d_1 ( (None, 512)               0         \n",
      "_________________________________________________________________\n",
      "dense_2 (Dense)              (None, 133)               68229     \n",
      "=================================================================\n",
      "Total params: 68,229\n",
      "Trainable params: 68,229\n",
      "Non-trainable params: 0\n",
      "_________________________________________________________________\n"
     ]
    }
   ],
   "source": [
    "#Defines the model architecture\n",
    "VGG16_model = Sequential()\n",
    "VGG16_model.add(GlobalAveragePooling2D(input_shape=train_VGG16.shape[1:]))\n",
    "VGG16_model.add(Dense(133, activation='softmax'))\n",
    "\n",
    "#Prints model architecture\n",
    "VGG16_model.summary()"
   ]
  },
  {
   "cell_type": "markdown",
   "metadata": {},
   "source": [
    "### Compile the Model"
   ]
  },
  {
   "cell_type": "code",
   "execution_count": 20,
   "metadata": {},
   "outputs": [],
   "source": [
    "#Defines the metric to measure against, the optimiser and the loss function used for training the model\n",
    "VGG16_model.compile(loss='categorical_crossentropy', optimizer='rmsprop', metrics=['accuracy'])"
   ]
  },
  {
   "cell_type": "markdown",
   "metadata": {},
   "source": [
    "### Train the Model"
   ]
  },
  {
   "cell_type": "code",
   "execution_count": 21,
   "metadata": {},
   "outputs": [
    {
     "name": "stdout",
     "output_type": "stream",
     "text": [
      "Train on 6680 samples, validate on 835 samples\n",
      "Epoch 1/20\n",
      "6680/6680 [==============================] - 4s 559us/step - loss: 11.5300 - acc: 0.1478 - val_loss: 9.6507 - val_acc: 0.2587\n",
      "\n",
      "Epoch 00001: val_loss improved from inf to 9.65070, saving model to model/notebook/weights.best.VGG16.hdf5\n",
      "Epoch 2/20\n",
      "6680/6680 [==============================] - 2s 346us/step - loss: 8.7763 - acc: 0.3337 - val_loss: 8.7079 - val_acc: 0.3473\n",
      "\n",
      "Epoch 00002: val_loss improved from 9.65070 to 8.70791, saving model to model/notebook/weights.best.VGG16.hdf5\n",
      "Epoch 3/20\n",
      "6680/6680 [==============================] - 3s 376us/step - loss: 8.2067 - acc: 0.4141 - val_loss: 8.4435 - val_acc: 0.3880\n",
      "\n",
      "Epoch 00003: val_loss improved from 8.70791 to 8.44352, saving model to model/notebook/weights.best.VGG16.hdf5\n",
      "Epoch 4/20\n",
      "6680/6680 [==============================] - 2s 368us/step - loss: 7.9396 - acc: 0.4448 - val_loss: 8.3146 - val_acc: 0.3928\n",
      "\n",
      "Epoch 00004: val_loss improved from 8.44352 to 8.31463, saving model to model/notebook/weights.best.VGG16.hdf5\n",
      "Epoch 5/20\n",
      "6680/6680 [==============================] - 2s 373us/step - loss: 7.7054 - acc: 0.4705 - val_loss: 8.2408 - val_acc: 0.3784\n",
      "\n",
      "Epoch 00005: val_loss improved from 8.31463 to 8.24079, saving model to model/notebook/weights.best.VGG16.hdf5\n",
      "Epoch 6/20\n",
      "6680/6680 [==============================] - 2s 363us/step - loss: 7.4025 - acc: 0.4909 - val_loss: 7.7865 - val_acc: 0.4180\n",
      "\n",
      "Epoch 00006: val_loss improved from 8.24079 to 7.78646, saving model to model/notebook/weights.best.VGG16.hdf5\n",
      "Epoch 7/20\n",
      "6680/6680 [==============================] - 2s 369us/step - loss: 7.1020 - acc: 0.5075 - val_loss: 7.6455 - val_acc: 0.4287\n",
      "\n",
      "Epoch 00007: val_loss improved from 7.78646 to 7.64551, saving model to model/notebook/weights.best.VGG16.hdf5\n",
      "Epoch 8/20\n",
      "6680/6680 [==============================] - 2s 366us/step - loss: 6.7732 - acc: 0.5325 - val_loss: 7.3465 - val_acc: 0.4455\n",
      "\n",
      "Epoch 00008: val_loss improved from 7.64551 to 7.34653, saving model to model/notebook/weights.best.VGG16.hdf5\n",
      "Epoch 9/20\n",
      "6680/6680 [==============================] - 2s 373us/step - loss: 6.6364 - acc: 0.5566 - val_loss: 7.2834 - val_acc: 0.4515\n",
      "\n",
      "Epoch 00009: val_loss improved from 7.34653 to 7.28339, saving model to model/notebook/weights.best.VGG16.hdf5\n",
      "Epoch 10/20\n",
      "6680/6680 [==============================] - 3s 431us/step - loss: 6.4222 - acc: 0.5684 - val_loss: 7.1034 - val_acc: 0.4659\n",
      "\n",
      "Epoch 00010: val_loss improved from 7.28339 to 7.10340, saving model to model/notebook/weights.best.VGG16.hdf5\n",
      "Epoch 11/20\n",
      "6680/6680 [==============================] - 3s 402us/step - loss: 6.2678 - acc: 0.5847 - val_loss: 6.9820 - val_acc: 0.4754\n",
      "\n",
      "Epoch 00011: val_loss improved from 7.10340 to 6.98204, saving model to model/notebook/weights.best.VGG16.hdf5\n",
      "Epoch 12/20\n",
      "6680/6680 [==============================] - 3s 417us/step - loss: 6.0466 - acc: 0.6019 - val_loss: 6.8919 - val_acc: 0.4862\n",
      "\n",
      "Epoch 00012: val_loss improved from 6.98204 to 6.89191, saving model to model/notebook/weights.best.VGG16.hdf5\n",
      "Epoch 13/20\n",
      "6680/6680 [==============================] - 2s 370us/step - loss: 5.9793 - acc: 0.6136 - val_loss: 6.8655 - val_acc: 0.4898\n",
      "\n",
      "Epoch 00013: val_loss improved from 6.89191 to 6.86547, saving model to model/notebook/weights.best.VGG16.hdf5\n",
      "Epoch 14/20\n",
      "6680/6680 [==============================] - 2s 353us/step - loss: 5.9574 - acc: 0.6180 - val_loss: 6.7811 - val_acc: 0.4886\n",
      "\n",
      "Epoch 00014: val_loss improved from 6.86547 to 6.78108, saving model to model/notebook/weights.best.VGG16.hdf5\n",
      "Epoch 15/20\n",
      "6680/6680 [==============================] - 3s 382us/step - loss: 5.9278 - acc: 0.6181 - val_loss: 6.6923 - val_acc: 0.4922\n",
      "\n",
      "Epoch 00015: val_loss improved from 6.78108 to 6.69232, saving model to model/notebook/weights.best.VGG16.hdf5\n",
      "Epoch 16/20\n",
      "6680/6680 [==============================] - 3s 375us/step - loss: 5.7787 - acc: 0.6238 - val_loss: 6.5764 - val_acc: 0.5042\n",
      "\n",
      "Epoch 00016: val_loss improved from 6.69232 to 6.57641, saving model to model/notebook/weights.best.VGG16.hdf5\n",
      "Epoch 17/20\n",
      "6680/6680 [==============================] - 2s 374us/step - loss: 5.6741 - acc: 0.6362 - val_loss: 6.6405 - val_acc: 0.5054\n",
      "\n",
      "Epoch 00017: val_loss did not improve from 6.57641\n",
      "Epoch 18/20\n",
      "6680/6680 [==============================] - 2s 368us/step - loss: 5.6340 - acc: 0.6383 - val_loss: 6.5782 - val_acc: 0.5066\n",
      "\n",
      "Epoch 00018: val_loss did not improve from 6.57641\n",
      "Epoch 19/20\n",
      "6680/6680 [==============================] - 2s 370us/step - loss: 5.5965 - acc: 0.6425 - val_loss: 6.5876 - val_acc: 0.5006\n",
      "\n",
      "Epoch 00019: val_loss did not improve from 6.57641\n",
      "Epoch 20/20\n",
      "6680/6680 [==============================] - 2s 367us/step - loss: 5.5202 - acc: 0.6476 - val_loss: 6.6138 - val_acc: 0.4934\n",
      "\n",
      "Epoch 00020: val_loss did not improve from 6.57641\n"
     ]
    },
    {
     "data": {
      "text/plain": [
       "<keras.callbacks.History at 0x2a79e8a8388>"
      ]
     },
     "execution_count": 21,
     "metadata": {},
     "output_type": "execute_result"
    }
   ],
   "source": [
    "#The below fits the CNN and saves the weights for the epoch which yields the ebst results\n",
    "checkpointer = ModelCheckpoint(filepath='model/notebook/weights.best.VGG16.hdf5', \n",
    "                               verbose=1, save_best_only=True)\n",
    "\n",
    "VGG16_model.fit(train_VGG16, train_targets, \n",
    "          validation_data=(valid_VGG16, valid_targets),\n",
    "          epochs=20, batch_size=20, callbacks=[checkpointer], verbose=1)"
   ]
  },
  {
   "cell_type": "markdown",
   "metadata": {},
   "source": [
    "### Load the Model with the Best Validation Loss"
   ]
  },
  {
   "cell_type": "code",
   "execution_count": 22,
   "metadata": {},
   "outputs": [],
   "source": [
    "#Loads the weights of the best performing epoch\n",
    "VGG16_model.load_weights('model/notebook/weights.best.VGG16.hdf5')"
   ]
  },
  {
   "cell_type": "markdown",
   "metadata": {},
   "source": [
    "### Test the Model\n",
    "\n",
    "Now, we can use the CNN to test how well it identifies breed within our test dataset of dog images.  We print the test accuracy below."
   ]
  },
  {
   "cell_type": "code",
   "execution_count": 23,
   "metadata": {},
   "outputs": [
    {
     "name": "stdout",
     "output_type": "stream",
     "text": [
      "Test accuracy: 49.1627%\n"
     ]
    }
   ],
   "source": [
    "# get index of predicted dog breed for each image in test set\n",
    "VGG16_predictions = [np.argmax(VGG16_model.predict(np.expand_dims(feature, axis=0))) for feature in test_VGG16]\n",
    "\n",
    "# report test accuracy\n",
    "test_accuracy = 100*np.sum(np.array(VGG16_predictions)==np.argmax(test_targets, axis=1))/len(VGG16_predictions)\n",
    "print('Test accuracy: %.4f%%' % test_accuracy)"
   ]
  },
  {
   "cell_type": "markdown",
   "metadata": {},
   "source": [
    "### Predict Dog Breed with the Model"
   ]
  },
  {
   "cell_type": "code",
   "execution_count": 24,
   "metadata": {},
   "outputs": [],
   "source": [
    "from model.extract_bottleneck_features import *\n",
    "\n",
    "def VGG16_predict_breed(img_path):\n",
    "    \"\"\"Takes a file path of an image, extracts features, classifies it then\n",
    "    states what breed the image mostly resembles  according to the VGG19 model.\n",
    "\n",
    "    Parameters:\n",
    "    img_path (String): Path to a file containing the image.\n",
    "\n",
    "    Returns:\n",
    "    (Boolean): The breed which the image submitted most resembles\n",
    "    \"\"\"\n",
    "    # extract bottleneck features\n",
    "    bottleneck_feature = extract_VGG16(path_to_tensor(img_path))\n",
    "    # obtain predicted vector\n",
    "    predicted_vector = VGG16_model.predict(bottleneck_feature)\n",
    "    # return dog breed that is predicted by the model\n",
    "    return dog_names[np.argmax(predicted_vector)]"
   ]
  },
  {
   "cell_type": "markdown",
   "metadata": {},
   "source": [
    "---\n",
    "<a id='step5'></a>\n",
    "## Step 5: Create a CNN to Classify Dog Breeds (using Transfer Learning)\n",
    "\n",
    "You will now use transfer learning to create a CNN that can identify dog breed from images.  Your CNN must attain at least 60% accuracy on the test set.\n",
    "\n",
    "In Step 4, we used transfer learning to create a CNN using VGG-16 bottleneck features.  In this section, you must use the bottleneck features from a different pre-trained model.  To make things easier for you, we have pre-computed the features for all of the networks that are currently available in Keras:\n",
    "- [VGG-19](https://s3-us-west-1.amazonaws.com/udacity-aind/dog-project/DogVGG19Data.npz) bottleneck features\n",
    "- [ResNet-50](https://s3-us-west-1.amazonaws.com/udacity-aind/dog-project/DogResnet50Data.npz) bottleneck features\n",
    "- [Inception](https://s3-us-west-1.amazonaws.com/udacity-aind/dog-project/DogInceptionV3Data.npz) bottleneck features\n",
    "- [Xception](https://s3-us-west-1.amazonaws.com/udacity-aind/dog-project/DogXceptionData.npz) bottleneck features\n",
    "\n",
    "The files are encoded as such:\n",
    "\n",
    "    Dog{network}Data.npz\n",
    "    \n",
    "where `{network}`, in the above filename, can be one of `VGG19`, `Resnet50`, `InceptionV3`, or `Xception`.  Pick one of the above architectures, download the corresponding bottleneck features, and store the downloaded file in the `bottleneck_features/` folder in the repository.\n",
    "\n",
    "### (IMPLEMENTATION) Obtain Bottleneck Features\n",
    "\n",
    "In the code block below, extract the bottleneck features corresponding to the train, test, and validation sets by running the following:\n",
    "\n",
    "    bottleneck_features = np.load('bottleneck_features/Dog{network}Data.npz')\n",
    "    train_{network} = bottleneck_features['train']\n",
    "    valid_{network} = bottleneck_features['valid']\n",
    "    test_{network} = bottleneck_features['test']"
   ]
  },
  {
   "cell_type": "code",
   "execution_count": 25,
   "metadata": {},
   "outputs": [],
   "source": [
    "#THIS SHOULD HAVE BEEN DONE IN THE Preprocessing.py\n",
    "\n",
    "### TODO: Obtain bottleneck features from another pre-trained CNN.\n",
    "\n",
    "#import requests\n",
    "#url = r'https://s3-us-west-1.amazonaws.com/udacity-aind/dog-project/DogVGG19Data.npz'\n",
    "#print('processing')\n",
    "#myfile = requests.get(url)\n",
    "#print('received')\n",
    "\n",
    "#open('bottleneck_features/DogVGG19Data.npz', 'wb').write(myfile.content)"
   ]
  },
  {
   "cell_type": "code",
   "execution_count": 26,
   "metadata": {},
   "outputs": [],
   "source": [
    "#Loads in pre-processed VGG16 features for test, train and validation images.\n",
    "bottleneck_features = np.load('bottleneck_features/DogVGG19Data.npz')\n",
    "train_VGG19 = bottleneck_features['train']\n",
    "valid_VGG19 = bottleneck_features['valid']\n",
    "test_VGG19 = bottleneck_features['test']"
   ]
  },
  {
   "cell_type": "markdown",
   "metadata": {},
   "source": [
    "### (IMPLEMENTATION) Model Architecture\n",
    "\n",
    "Create a CNN to classify dog breed.  At the end of your code cell block, summarize the layers of your model by executing the line:\n",
    "    \n",
    "        <your model's name>.summary()\n",
    "   \n",
    "__Question 5:__ Outline the steps you took to get to your final CNN architecture and your reasoning at each step.  Describe why you think the architecture is suitable for the current problem.\n",
    "\n",
    "__Answer:__ \n",
    "\n"
   ]
  },
  {
   "cell_type": "code",
   "execution_count": 27,
   "metadata": {},
   "outputs": [
    {
     "name": "stdout",
     "output_type": "stream",
     "text": [
      "_________________________________________________________________\n",
      "Layer (type)                 Output Shape              Param #   \n",
      "=================================================================\n",
      "global_average_pooling2d_2 ( (None, 512)               0         \n",
      "_________________________________________________________________\n",
      "dense_3 (Dense)              (None, 256)               131328    \n",
      "_________________________________________________________________\n",
      "activation_50 (Activation)   (None, 256)               0         \n",
      "_________________________________________________________________\n",
      "dense_4 (Dense)              (None, 133)               34181     \n",
      "_________________________________________________________________\n",
      "activation_51 (Activation)   (None, 133)               0         \n",
      "=================================================================\n",
      "Total params: 165,509\n",
      "Trainable params: 165,509\n",
      "Non-trainable params: 0\n",
      "_________________________________________________________________\n"
     ]
    }
   ],
   "source": [
    "### TODO: Define your architecture.\n",
    "from keras.layers import Activation, GlobalAveragePooling2D, Flatten, Activation, Dense, MaxPooling2D\n",
    "from keras.models import Sequential\n",
    "\n",
    "#Instatiates model and defines its architecture\n",
    "VGG19_model = Sequential()\n",
    "\n",
    "VGG19_model.add(GlobalAveragePooling2D(input_shape=train_VGG19.shape[1:]))\n",
    "\n",
    "VGG19_model.add(Dense(256))\n",
    "VGG19_model.add(Activation('relu'))\n",
    "\n",
    "VGG19_model.add(Dense(133))\n",
    "VGG19_model.add(Activation('softmax'))\n",
    "\n",
    "#Prints model architecture\n",
    "VGG19_model.summary()"
   ]
  },
  {
   "cell_type": "markdown",
   "metadata": {},
   "source": [
    "### (IMPLEMENTATION) Compile the Model"
   ]
  },
  {
   "cell_type": "code",
   "execution_count": 28,
   "metadata": {},
   "outputs": [],
   "source": [
    "### TODO: Compile the model.\n",
    "#Defines the metric to measure against, the optimiser and the loss function used for training the model\n",
    "VGG19_model.compile(loss='categorical_crossentropy', optimizer='adam', metrics=['accuracy'])"
   ]
  },
  {
   "cell_type": "markdown",
   "metadata": {},
   "source": [
    "### (IMPLEMENTATION) Train the Model\n",
    "\n",
    "Train your model in the code cell below.  Use model checkpointing to save the model that attains the best validation loss.  \n",
    "\n",
    "You are welcome to [augment the training data](https://blog.keras.io/building-powerful-image-classification-models-using-very-little-data.html), but this is not a requirement. "
   ]
  },
  {
   "cell_type": "code",
   "execution_count": 29,
   "metadata": {},
   "outputs": [
    {
     "name": "stdout",
     "output_type": "stream",
     "text": [
      "Train on 6680 samples, validate on 835 samples\n",
      "Epoch 1/20\n",
      "6680/6680 [==============================] - 5s 705us/step - loss: 3.4002 - acc: 0.3910 - val_loss: 1.4101 - val_acc: 0.6240\n",
      "\n",
      "Epoch 00001: val_loss improved from inf to 1.41014, saving model to model/notebook/weights.best.VGG19.hdf5\n",
      "Epoch 2/20\n",
      "6680/6680 [==============================] - 3s 518us/step - loss: 0.8548 - acc: 0.7524 - val_loss: 1.2587 - val_acc: 0.6754\n",
      "\n",
      "Epoch 00002: val_loss improved from 1.41014 to 1.25873, saving model to model/notebook/weights.best.VGG19.hdf5\n",
      "Epoch 3/20\n",
      "6680/6680 [==============================] - 3s 469us/step - loss: 0.4752 - acc: 0.8515 - val_loss: 1.0988 - val_acc: 0.7066\n",
      "\n",
      "Epoch 00003: val_loss improved from 1.25873 to 1.09883, saving model to model/notebook/weights.best.VGG19.hdf5\n",
      "Epoch 4/20\n",
      "6680/6680 [==============================] - 3s 517us/step - loss: 0.3154 - acc: 0.8960 - val_loss: 1.1497 - val_acc: 0.7293\n",
      "\n",
      "Epoch 00004: val_loss did not improve from 1.09883\n",
      "Epoch 5/20\n",
      "6680/6680 [==============================] - 3s 494us/step - loss: 0.2010 - acc: 0.9341 - val_loss: 1.1839 - val_acc: 0.7126\n",
      "\n",
      "Epoch 00005: val_loss did not improve from 1.09883\n",
      "Epoch 6/20\n",
      "6680/6680 [==============================] - 3s 454us/step - loss: 0.1607 - acc: 0.9493 - val_loss: 1.1246 - val_acc: 0.7413\n",
      "\n",
      "Epoch 00006: val_loss did not improve from 1.09883\n",
      "Epoch 7/20\n",
      "6680/6680 [==============================] - 3s 471us/step - loss: 0.1243 - acc: 0.9600 - val_loss: 1.0908 - val_acc: 0.7485\n",
      "\n",
      "Epoch 00007: val_loss improved from 1.09883 to 1.09084, saving model to model/notebook/weights.best.VGG19.hdf5\n",
      "Epoch 8/20\n",
      "6680/6680 [==============================] - 4s 525us/step - loss: 0.1196 - acc: 0.9639 - val_loss: 1.2299 - val_acc: 0.7353\n",
      "\n",
      "Epoch 00008: val_loss did not improve from 1.09084\n",
      "Epoch 9/20\n",
      "6680/6680 [==============================] - 3s 459us/step - loss: 0.1438 - acc: 0.9560 - val_loss: 1.3833 - val_acc: 0.7186\n",
      "\n",
      "Epoch 00009: val_loss did not improve from 1.09084\n",
      "Epoch 10/20\n",
      "6680/6680 [==============================] - 4s 537us/step - loss: 0.1067 - acc: 0.9663 - val_loss: 1.2998 - val_acc: 0.7473\n",
      "\n",
      "Epoch 00010: val_loss did not improve from 1.09084\n",
      "Epoch 11/20\n",
      "6680/6680 [==============================] - 4s 591us/step - loss: 0.1292 - acc: 0.9612 - val_loss: 1.2328 - val_acc: 0.7521\n",
      "\n",
      "Epoch 00011: val_loss did not improve from 1.09084\n",
      "Epoch 12/20\n",
      "6680/6680 [==============================] - 3s 466us/step - loss: 0.1488 - acc: 0.9557 - val_loss: 1.4551 - val_acc: 0.7353\n",
      "\n",
      "Epoch 00012: val_loss did not improve from 1.09084\n",
      "Epoch 13/20\n",
      "6680/6680 [==============================] - 3s 482us/step - loss: 0.1506 - acc: 0.9540 - val_loss: 1.3612 - val_acc: 0.7377\n",
      "\n",
      "Epoch 00013: val_loss did not improve from 1.09084\n",
      "Epoch 14/20\n",
      "6680/6680 [==============================] - 4s 544us/step - loss: 0.1619 - acc: 0.9563 - val_loss: 1.6759 - val_acc: 0.7222\n",
      "\n",
      "Epoch 00014: val_loss did not improve from 1.09084\n",
      "Epoch 15/20\n",
      "6680/6680 [==============================] - 3s 478us/step - loss: 0.1146 - acc: 0.9659 - val_loss: 1.5324 - val_acc: 0.7389\n",
      "\n",
      "Epoch 00015: val_loss did not improve from 1.09084\n",
      "Epoch 16/20\n",
      "6680/6680 [==============================] - 3s 515us/step - loss: 0.0642 - acc: 0.9814 - val_loss: 1.4262 - val_acc: 0.7557\n",
      "\n",
      "Epoch 00016: val_loss did not improve from 1.09084\n",
      "Epoch 17/20\n",
      "6680/6680 [==============================] - 4s 541us/step - loss: 0.0580 - acc: 0.9838 - val_loss: 1.5359 - val_acc: 0.7509\n",
      "\n",
      "Epoch 00017: val_loss did not improve from 1.09084\n",
      "Epoch 18/20\n",
      "6680/6680 [==============================] - 4s 559us/step - loss: 0.0729 - acc: 0.9786 - val_loss: 1.6749 - val_acc: 0.7353\n",
      "\n",
      "Epoch 00018: val_loss did not improve from 1.09084\n",
      "Epoch 19/20\n",
      "6680/6680 [==============================] - 3s 477us/step - loss: 0.1489 - acc: 0.9576 - val_loss: 1.6351 - val_acc: 0.7389\n",
      "\n",
      "Epoch 00019: val_loss did not improve from 1.09084\n",
      "Epoch 20/20\n",
      "6680/6680 [==============================] - 5s 721us/step - loss: 0.1029 - acc: 0.9701 - val_loss: 1.8382 - val_acc: 0.7317\n",
      "\n",
      "Epoch 00020: val_loss did not improve from 1.09084\n"
     ]
    },
    {
     "data": {
      "text/plain": [
       "<keras.callbacks.History at 0x2a7a01833c8>"
      ]
     },
     "execution_count": 29,
     "metadata": {},
     "output_type": "execute_result"
    }
   ],
   "source": [
    "### TODO: Train the model.\n",
    "from keras.callbacks import ModelCheckpoint  \n",
    "\n",
    "#The below fits the CNN and saves the weights for the epoch which yields the ebst results\n",
    "checkpointer = ModelCheckpoint(filepath='model/notebook/weights.best.VGG19.hdf5', \n",
    "                               verbose=1, save_best_only=True)\n",
    "\n",
    "VGG19_model.fit(train_VGG19, train_targets, \n",
    "          validation_data=(valid_VGG19, valid_targets),\n",
    "          epochs=20, batch_size=20, callbacks=[checkpointer], verbose=1)"
   ]
  },
  {
   "cell_type": "markdown",
   "metadata": {},
   "source": [
    "### (IMPLEMENTATION) Load the Model with the Best Validation Loss"
   ]
  },
  {
   "cell_type": "code",
   "execution_count": 30,
   "metadata": {},
   "outputs": [],
   "source": [
    "### TODO: Load the model weights with the best validation loss.\n",
    "VGG19_model.load_weights('model/notebook/weights.best.VGG19.hdf5')"
   ]
  },
  {
   "cell_type": "markdown",
   "metadata": {},
   "source": [
    "### (IMPLEMENTATION) Test the Model\n",
    "\n",
    "Try out your model on the test dataset of dog images. Ensure that your test accuracy is greater than 60%."
   ]
  },
  {
   "cell_type": "code",
   "execution_count": 31,
   "metadata": {},
   "outputs": [
    {
     "name": "stdout",
     "output_type": "stream",
     "text": [
      "Test accuracy: 74.2823%\n"
     ]
    }
   ],
   "source": [
    "### TODO: Calculate classification accuracy on the test dataset.\n",
    "VGG19_predictions = [np.argmax(VGG19_model.predict(np.expand_dims(feature, axis=0))) for feature in test_VGG19]\n",
    "\n",
    "# report test accuracy\n",
    "test_accuracy = 100*np.sum(np.array(VGG19_predictions)==np.argmax(test_targets, axis=1))/len(VGG19_predictions)\n",
    "print('Test accuracy: %.4f%%' % test_accuracy)"
   ]
  },
  {
   "cell_type": "markdown",
   "metadata": {},
   "source": [
    "### (IMPLEMENTATION) Predict Dog Breed with the Model\n",
    "\n",
    "Write a function that takes an image path as input and returns the dog breed (`Affenpinscher`, `Afghan_hound`, etc) that is predicted by your model.  \n",
    "\n",
    "Similar to the analogous function in Step 5, your function should have three steps:\n",
    "1. Extract the bottleneck features corresponding to the chosen CNN model.\n",
    "2. Supply the bottleneck features as input to the model to return the predicted vector.  Note that the argmax of this prediction vector gives the index of the predicted dog breed.\n",
    "3. Use the `dog_names` array defined in Step 0 of this notebook to return the corresponding breed.\n",
    "\n",
    "The functions to extract the bottleneck features can be found in `extract_bottleneck_features.py`, and they have been imported in an earlier code cell.  To obtain the bottleneck features corresponding to your chosen CNN architecture, you need to use the function\n",
    "\n",
    "    extract_{network}\n",
    "    \n",
    "where `{network}`, in the above filename, should be one of `VGG19`, `Resnet50`, `InceptionV3`, or `Xception`."
   ]
  },
  {
   "cell_type": "code",
   "execution_count": 32,
   "metadata": {},
   "outputs": [],
   "source": [
    "### TODO: Write a function that takes a path to an image as input\n",
    "### and returns the dog breed that is predicted by the model.\n",
    "\n",
    "def VGG19_predict_breed(img_path):\n",
    "    \"\"\"Takes a file path of an image, extracts features then classifies it then\n",
    "    states what breed the image mostly resembles according to the VGG19 model.\n",
    "\n",
    "    Parameters:\n",
    "    img_path (String): Path to a file containing the image.\n",
    "\n",
    "    Returns:\n",
    "    (Boolean): The breed which the image submitted most resembles\n",
    "    \"\"\"\n",
    "    # extract bottleneck features\n",
    "    bottleneck_feature = extract_VGG19(path_to_tensor(img_path))\n",
    "    # obtain predicted vector\n",
    "    predicted_vector = VGG19_model.predict(bottleneck_feature)\n",
    "    # return dog breed that is predicted by the model\n",
    "    return dog_names[np.argmax(predicted_vector)]"
   ]
  },
  {
   "cell_type": "markdown",
   "metadata": {},
   "source": [
    "---\n",
    "<a id='step6'></a>\n",
    "## Step 6: Write your Algorithm\n",
    "\n",
    "Write an algorithm that accepts a file path to an image and first determines whether the image contains a human, dog, or neither.  Then,\n",
    "- if a __dog__ is detected in the image, return the predicted breed.\n",
    "- if a __human__ is detected in the image, return the resembling dog breed.\n",
    "- if __neither__ is detected in the image, provide output that indicates an error.\n",
    "\n",
    "You are welcome to write your own functions for detecting humans and dogs in images, but feel free to use the `face_detector` and `dog_detector` functions developed above.  You are __required__ to use your CNN from Step 5 to predict dog breed.  \n",
    "\n",
    "A sample image and output for our algorithm is provided below, but feel free to design your own user experience!\n",
    "\n",
    "![Sample Human Output](images/sample_human_2.png)\n",
    "\n",
    "This photo looks like an Afghan Hound.\n",
    "### (IMPLEMENTATION) Write your Algorithm"
   ]
  },
  {
   "cell_type": "code",
   "execution_count": 33,
   "metadata": {},
   "outputs": [],
   "source": [
    "### TODO: Write your algorithm.\n",
    "### Feel free to use as many code cells as needed.\n",
    "def dog_breed_predictor(img_path):\n",
    "    \"\"\"Takes a file path of an image, classifies if it is potentially a dog or human then\n",
    "    states what breed the image mostly resembles.\n",
    "\n",
    "    Parameters:\n",
    "    img_path (String): Path to a file containing the image.\n",
    "\n",
    "    Returns:\n",
    "    (Boolean): The breed which the image submitted most resembles if a human/dog is found.\n",
    "    \"\"\"\n",
    "    #Detects if there's human or dog faces\n",
    "    if face_detector(img_path) > 0 or dog_detector(img_path) > 0:\n",
    "        #Predicts breed\n",
    "        output = VGG19_predict_breed(img_path).split('.')[-1]\n",
    "    else:\n",
    "        output = \"No human face or dog found.\"\n",
    "        \n",
    "    return output"
   ]
  },
  {
   "cell_type": "markdown",
   "metadata": {},
   "source": [
    "---\n",
    "<a id='step7'></a>\n",
    "## Step 7: Test Your Algorithm\n",
    "\n",
    "In this section, you will take your new algorithm for a spin!  What kind of dog does the algorithm think that __you__ look like?  If you have a dog, does it predict your dog's breed accurately?  If you have a cat, does it mistakenly think that your cat is a dog?\n",
    "\n",
    "### (IMPLEMENTATION) Test Your Algorithm on Sample Images!\n",
    "\n",
    "Test your algorithm at least six images on your computer.  Feel free to use any images you like.  Use at least two human and two dog images.  \n",
    "\n",
    "__Question 6:__ Is the output better than you expected :) ?  Or worse :( ?  Provide at least three possible points of improvement for your algorithm.\n",
    "\n",
    "__Answer:__ "
   ]
  },
  {
   "cell_type": "code",
   "execution_count": 34,
   "metadata": {},
   "outputs": [
    {
     "name": "stdout",
     "output_type": "stream",
     "text": [
      "Wayne's world:  Silky_terrier\n",
      "Johnny Depp:  Xoloitzcuintli\n",
      "Ariana:  Chinese_crested\n",
      "Bulldog:  Boxer\n",
      "Malamute:  Alaskan_malamute\n",
      "Labrador:  Labrador_retriever\n"
     ]
    }
   ],
   "source": [
    "print(\"Wayne's world: \", dog_breed_predictor('app/static/sample_human_2.png'))\n",
    "print(\"Johnny Depp: \", dog_breed_predictor('app/static/Johnny-Depp.jpg'))\n",
    "print(\"Ariana: \", dog_breed_predictor('app/static/Ariana.jpg'))\n",
    "print(\"Bulldog: \", dog_breed_predictor('app/static/Bulldog.jpg'))\n",
    "print(\"Malamute: \", dog_breed_predictor('app/static/Malamute.jpg'))\n",
    "print(\"Labrador: \", dog_breed_predictor('app/static/Lab.jpg')) "
   ]
  },
  {
   "cell_type": "markdown",
   "metadata": {},
   "source": [
    "The model performs well in some scenarios, but in others it hasn't done so well (i.e. Malamute).\n",
    "\n",
    "In short, the above model will predict a cat as a dog. This is because it is trying map the images to a dog breed and there will be a breed which looks most similar. This is NOT to say, it thinks a cat is a dog with high probability, but it looks more like one breed than another\n",
    "\n",
    "## Improvements\n",
    "Firstly,The model is currently biased as there are more images for Malamute than there are for Manchester Terriers, this means the model will favour features which detect Malamutes over those for Manchester Terriers.\n",
    "\n",
    "Secondly, The model is quite basic, taking taking only the features for one model. We could potentially add more features, from multiple models which may give us more information for prediction.\n",
    "\n",
    "Thirdly, the model is currently geared up to only predict over the total image. IF there are multiple dogs in an image, this is not the prepared well for prediction. Extra preprocessing / tagging could be used to isolate different animals within the dataset, isolate these images out, then predict on what they are. This could give better results / be more applicable to a wider range of images.\n",
    "\n",
    "Finally, images tend to be of the correct orientation (by inspection) in the dataset. To improve on this, or to refine the model further, it could be possible to change the orientation of these images and refit for these newly generated images.\n",
    "\n"
   ]
  },
  {
   "cell_type": "code",
   "execution_count": null,
   "metadata": {},
   "outputs": [],
   "source": []
  }
 ],
 "metadata": {
  "anaconda-cloud": {},
  "kernelspec": {
   "display_name": "Python (capstone)",
   "language": "python",
   "name": "capstone"
  },
  "language_info": {
   "codemirror_mode": {
    "name": "ipython",
    "version": 3
   },
   "file_extension": ".py",
   "mimetype": "text/x-python",
   "name": "python",
   "nbconvert_exporter": "python",
   "pygments_lexer": "ipython3",
   "version": "3.7.6"
  }
 },
 "nbformat": 4,
 "nbformat_minor": 1
}
