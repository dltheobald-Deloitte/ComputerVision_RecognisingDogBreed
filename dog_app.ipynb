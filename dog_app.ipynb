{
 "cells": [
  {
   "cell_type": "markdown",
   "metadata": {},
   "source": [
    "# Data Scientist Nanodegree\n",
    "\n",
    "## Convolutional Neural Networks\n",
    "\n",
    "## Project: Write an Algorithm for a Dog Identification App \n",
    "\n",
    "\n",
    "This notebook walks you through one of the most popular Udacity projects across machine learning and artificial intellegence nanodegree programs.  The goal is to classify images of dogs according to their breed.  \n",
    "\n",
    "If you are looking for a more guided capstone project related to deep learning and convolutional neural networks, this might be just it.  Notice that even if you follow the notebook to creating your classifier, you must still create a blog post or deploy an application to fulfill the requirements of the capstone project.\n",
    "\n",
    "Also notice, you may be able to use only parts of this notebook (for example certain coding portions or the data) without completing all parts and still meet all requirements of the capstone project.\n",
    "\n",
    "---\n",
    "\n",
    "In this notebook, some template code has already been provided for you, and you will need to implement additional functionality to successfully complete this project. You will not need to modify the included code beyond what is requested. Sections that begin with **'(IMPLEMENTATION)'** in the header indicate that the following block of code will require additional functionality which you must provide. Instructions will be provided for each section, and the specifics of the implementation are marked in the code block with a 'TODO' statement. Please be sure to read the instructions carefully! \n",
    "\n",
    "In addition to implementing code, there will be questions that you must answer which relate to the project and your implementation. Each section where you will answer a question is preceded by a **'Question X'** header. Carefully read each question and provide thorough answers in the following text boxes that begin with **'Answer:'**. Your project submission will be evaluated based on your answers to each of the questions and the implementation you provide.\n",
    "\n",
    ">**Note:** Code and Markdown cells can be executed using the **Shift + Enter** keyboard shortcut.  Markdown cells can be edited by double-clicking the cell to enter edit mode.\n",
    "\n",
    "The rubric contains _optional_ \"Stand Out Suggestions\" for enhancing the project beyond the minimum requirements. If you decide to pursue the \"Stand Out Suggestions\", you should include the code in this IPython notebook.\n",
    "\n",
    "\n",
    "\n",
    "---\n",
    "### Why We're Here \n",
    "\n",
    "In this notebook, you will make the first steps towards developing an algorithm that could be used as part of a mobile or web app.  At the end of this project, your code will accept any user-supplied image as input.  If a dog is detected in the image, it will provide an estimate of the dog's breed.  If a human is detected, it will provide an estimate of the dog breed that is most resembling.  The image below displays potential sample output of your finished project (... but we expect that each student's algorithm will behave differently!). \n",
    "\n",
    "![Sample Dog Output](images/sample_dog_output.png)\n",
    "\n",
    "In this real-world setting, you will need to piece together a series of models to perform different tasks; for instance, the algorithm that detects humans in an image will be different from the CNN that infers dog breed.  There are many points of possible failure, and no perfect algorithm exists.  Your imperfect solution will nonetheless create a fun user experience!\n",
    "\n",
    "### The Road Ahead\n",
    "\n",
    "We break the notebook into separate steps.  Feel free to use the links below to navigate the notebook.\n",
    "\n",
    "* [Step 0](#step0): Import Datasets\n",
    "* [Step 1](#step1): Detect Humans\n",
    "* [Step 2](#step2): Detect Dogs\n",
    "* [Step 3](#step3): Create a CNN to Classify Dog Breeds (from Scratch)\n",
    "* [Step 4](#step4): Use a CNN to Classify Dog Breeds (using Transfer Learning)\n",
    "* [Step 5](#step5): Create a CNN to Classify Dog Breeds (using Transfer Learning)\n",
    "* [Step 6](#step6): Write your Algorithm\n",
    "* [Step 7](#step7): Test Your Algorithm\n",
    "\n",
    "---\n",
    "<a id='step0'></a>\n",
    "## Step 0: Import Datasets\n",
    "\n",
    "### Import Dog Dataset\n",
    "\n",
    "In the code cell below, we import a dataset of dog images.  We populate a few variables through the use of the `load_files` function from the scikit-learn library:\n",
    "- `train_files`, `valid_files`, `test_files` - numpy arrays containing file paths to images\n",
    "- `train_targets`, `valid_targets`, `test_targets` - numpy arrays containing onehot-encoded classification labels \n",
    "- `dog_names` - list of string-valued dog breed names for translating labels"
   ]
  },
  {
   "cell_type": "code",
   "execution_count": 1,
   "metadata": {},
   "outputs": [
    {
     "name": "stderr",
     "output_type": "stream",
     "text": [
      "Using TensorFlow backend.\n"
     ]
    },
    {
     "name": "stdout",
     "output_type": "stream",
     "text": [
      "There are 133 total dog categories.\n",
      "There are 8351 total dog images.\n",
      "\n",
      "There are 6680 training dog images.\n",
      "There are 835 validation dog images.\n",
      "There are 836 test dog images.\n"
     ]
    }
   ],
   "source": [
    "from sklearn.datasets import load_files       \n",
    "from keras.utils import np_utils\n",
    "import numpy as np\n",
    "from glob import glob\n",
    "\n",
    "# define function to load train, test, and validation datasets\n",
    "def load_dataset(path):\n",
    "    \"\"\"Loads all files from a path and returns it as file and labels\n",
    "    \n",
    "    Parameters:\n",
    "    path (String): THis is a directory containing data required\n",
    "    \n",
    "    Returns:\n",
    "    dog_files (np.array): arrays of file names loaded from the path\n",
    "    dog_targets (np.array): Array of folder names (i.e. dog breed) relating to the files\n",
    "    \"\"\"\n",
    "    #Loads in all files from path\n",
    "    data = load_files(path)\n",
    "    \n",
    "    #Isolates all file and folder names within\n",
    "    dog_files = np.array(data['filenames'])\n",
    "    dog_targets = np_utils.to_categorical(np.array(data['target']), 133)\n",
    "    \n",
    "    return dog_files, dog_targets\n",
    "\n",
    "# load train, test, and validation datasets\n",
    "train_files, train_targets = load_dataset('../dogImages/train')\n",
    "valid_files, valid_targets = load_dataset('../dogImages/valid')\n",
    "test_files, test_targets = load_dataset('../dogImages/test')\n",
    "\n",
    "# load list of dog names\n",
    "dog_names = [item[20:-1] for item in sorted(glob(\"../dogImages/train/*/\"))]\n",
    "\n",
    "# print statistics about the dataset\n",
    "print('There are %d total dog categories.' % len(dog_names))\n",
    "print('There are %s total dog images.\\n' % len(np.hstack([train_files, valid_files, test_files])))\n",
    "print('There are %d training dog images.' % len(train_files))\n",
    "print('There are %d validation dog images.' % len(valid_files))\n",
    "print('There are %d test dog images.'% len(test_files))"
   ]
  },
  {
   "cell_type": "markdown",
   "metadata": {},
   "source": [
    "### Import Human Dataset\n",
    "\n",
    "In the code cell below, we import a dataset of human images, where the file paths are stored in the numpy array `human_files`."
   ]
  },
  {
   "cell_type": "code",
   "execution_count": 2,
   "metadata": {},
   "outputs": [
    {
     "name": "stdout",
     "output_type": "stream",
     "text": [
      "There are 13233 total human images.\n"
     ]
    }
   ],
   "source": [
    "import random\n",
    "random.seed(8675309)\n",
    "\n",
    "# load filenames in shuffled human dataset\n",
    "human_files = np.array(glob(\"../lfw/*/*\"))\n",
    "random.shuffle(human_files)\n",
    "\n",
    "# print statistics about the dataset\n",
    "print('There are %d total human images.' % len(human_files))"
   ]
  },
  {
   "cell_type": "markdown",
   "metadata": {},
   "source": [
    "---\n",
    "<a id='step1'></a>\n",
    "## Step 1: Detect Humans\n",
    "\n",
    "We use OpenCV's implementation of [Haar feature-based cascade classifiers](http://docs.opencv.org/trunk/d7/d8b/tutorial_py_face_detection.html) to detect human faces in images.  OpenCV provides many pre-trained face detectors, stored as XML files on [github](https://github.com/opencv/opencv/tree/master/data/haarcascades).  We have downloaded one of these detectors and stored it in the `haarcascades` directory.\n",
    "\n",
    "In the next code cell, we demonstrate how to use this detector to find human faces in a sample image."
   ]
  },
  {
   "cell_type": "code",
   "execution_count": 3,
   "metadata": {},
   "outputs": [
    {
     "name": "stdout",
     "output_type": "stream",
     "text": [
      "Number of faces detected: 1\n"
     ]
    },
    {
     "data": {
      "image/png": "[encoded data removed]",
      "text/plain": [
       "<Figure size 432x288 with 1 Axes>"
      ]
     },
     "metadata": {
      "needs_background": "light"
     },
     "output_type": "display_data"
    }
   ],
   "source": [
    "import cv2                \n",
    "import matplotlib.pyplot as plt                        \n",
    "%matplotlib inline                               \n",
    "\n",
    "# extract pre-trained face detector\n",
    "face_cascade = cv2.CascadeClassifier('haarcascades/haarcascade_frontalface_alt.xml')\n",
    "\n",
    "# load color (BGR) image\n",
    "img = cv2.imread(human_files[1])\n",
    "# convert BGR image to grayscale\n",
    "gray = cv2.cvtColor(img, cv2.COLOR_BGR2GRAY)\n",
    "\n",
    "# find faces in image\n",
    "faces = face_cascade.detectMultiScale(gray)\n",
    "\n",
    "# print number of faces detected in the image\n",
    "print('Number of faces detected:', len(faces))\n",
    "\n",
    "# get bounding box for each detected face\n",
    "for (x,y,w,h) in faces:\n",
    "    # add bounding box to color image\n",
    "    cv2.rectangle(img,(x,y),(x+w,y+h),(255,0,0),2)\n",
    "    \n",
    "# convert BGR image to RGB for plotting\n",
    "cv_rgb = cv2.cvtColor(img, cv2.COLOR_BGR2RGB)\n",
    "\n",
    "# display the image, along with bounding box\n",
    "plt.imshow(cv_rgb)\n",
    "plt.show()"
   ]
  },
  {
   "cell_type": "markdown",
   "metadata": {},
   "source": [
    "Before using any of the face detectors, it is standard procedure to convert the images to grayscale.  The `detectMultiScale` function executes the classifier stored in `face_cascade` and takes the grayscale image as a parameter.  \n",
    "\n",
    "In the above code, `faces` is a numpy array of detected faces, where each row corresponds to a detected face.  Each detected face is a 1D array with four entries that specifies the bounding box of the detected face.  The first two entries in the array (extracted in the above code as `x` and `y`) specify the horizontal and vertical positions of the top left corner of the bounding box.  The last two entries in the array (extracted here as `w` and `h`) specify the width and height of the box.\n",
    "\n",
    "### Write a Human Face Detector\n",
    "\n",
    "We can use this procedure to write a function that returns `True` if a human face is detected in an image and `False` otherwise.  This function, aptly named `face_detector`, takes a string-valued file path to an image as input and appears in the code block below."
   ]
  },
  {
   "cell_type": "code",
   "execution_count": 4,
   "metadata": {},
   "outputs": [],
   "source": [
    "# returns \"True\" if face is detected in image stored at img_path\n",
    "def face_detector(img_path):\n",
    "    \"\"\"Takes a file path of an image and detects whether a human face is present.\n",
    "\n",
    "    Parameters:\n",
    "    img_path (String): Path to a file containing the image.\n",
    "\n",
    "    Returns:\n",
    "    (Boolean): Presence of a human face\n",
    "    \"\"\"\n",
    "    #Loads face classifier\n",
    "    face_cascade = cv2.CascadeClassifier('haarcascades/haarcascade_frontalface_alt.xml')\n",
    "    \n",
    "    #Reads in images and converts format\n",
    "    img = cv2.imread(img_path)\n",
    "    gray = cv2.cvtColor(img, cv2.COLOR_BGR2GRAY)\n",
    "    \n",
    "    #generates list of faces\n",
    "    faces = face_cascade.detectMultiScale(gray)\n",
    "    \n",
    "    return len(faces) > 0"
   ]
  },
  {
   "cell_type": "markdown",
   "metadata": {},
   "source": [
    "### (IMPLEMENTATION) Assess the Human Face Detector\n",
    "\n",
    "__Question 1:__ Use the code cell below to test the performance of the `face_detector` function.  \n",
    "- What percentage of the first 100 images in `human_files` have a detected human face?  \n",
    "- What percentage of the first 100 images in `dog_files` have a detected human face? \n",
    "\n",
    "Ideally, we would like 100% of human images with a detected face and 0% of dog images with a detected face.  You will see that our algorithm falls short of this goal, but still gives acceptable performance.  We extract the file paths for the first 100 images from each of the datasets and store them in the numpy arrays `human_files_short` and `dog_files_short`.\n",
    "\n",
    "__Answer:__ "
   ]
  },
  {
   "cell_type": "code",
   "execution_count": 5,
   "metadata": {},
   "outputs": [
    {
     "name": "stdout",
     "output_type": "stream",
     "text": [
      "The face detector correctly guessed 99% presence of human faces.\n",
      "The face detector incorrectly guessed 12% of dogs as having human faces.\n"
     ]
    }
   ],
   "source": [
    "#Generates a small subset of data\n",
    "human_files_short = human_files[:100]\n",
    "dog_files_short = train_files[:100]\n",
    "# Do NOT modify the code above this line.\n",
    "\n",
    "## TODO: Test the performance of the face_detector algorithm \n",
    "## on the images in human_files_short and dog_files_short.\n",
    "\n",
    "#Finds number of human faces detected\n",
    "human_face_detected = 0\n",
    "for human in human_files_short:\n",
    "    if face_detector(human):\n",
    "        human_face_detected += 1\n",
    "\n",
    "#Finds number of dogs mistakenly detected\n",
    "dog_face_detected = 0\n",
    "for dog in dog_files_short:\n",
    "    if face_detector(dog):\n",
    "        dog_face_detected += 1\n",
    "\n",
    "#Creating accuracy metric for the face detector\n",
    "human_accuracy = float(human_face_detected) / float(len(human_files_short))\n",
    "dog_accuracy = float(dog_face_detected) / float(len(dog_files_short))\n",
    "human_accuracy = \"{0:.0%}\".format(human_accuracy)\n",
    "dog_accuracy = \"{0:.0%}\".format(dog_accuracy)\n",
    "\n",
    "#Printing performance of face detector\n",
    "print(\"The face detector correctly guessed %s presence of human faces.\"%(human_accuracy))    \n",
    "print(\"The face detector incorrectly guessed %s of dogs as having human faces.\"%(dog_accuracy))\n"
   ]
  },
  {
   "cell_type": "markdown",
   "metadata": {},
   "source": [
    "__Question 2:__ This algorithmic choice necessitates that we communicate to the user that we accept human images only when they provide a clear view of a face (otherwise, we risk having unneccessarily frustrated users!). In your opinion, is this a reasonable expectation to pose on the user? If not, can you think of a way to detect humans in images that does not necessitate an image with a clearly presented face?\n",
    "\n",
    "__Answer:__\n",
    "\n",
    "We suggest the face detector from OpenCV as a potential way to detect human images in your algorithm, but you are free to explore other approaches, especially approaches that make use of deep learning :).  Please use the code cell below to design and test your own face detection algorithm.  If you decide to pursue this _optional_ task, report performance on each of the datasets."
   ]
  },
  {
   "cell_type": "code",
   "execution_count": 6,
   "metadata": {},
   "outputs": [],
   "source": [
    "## (Optional) TODO: Report the performance of another \n",
    "## face detection algorithm on the LFW dataset\n",
    "### Feel free to use as many code cells as needed."
   ]
  },
  {
   "cell_type": "markdown",
   "metadata": {},
   "source": [
    "---\n",
    "<a id='step2'></a>\n",
    "## Step 2: Detect Dogs\n",
    "\n",
    "In this section, we use a pre-trained [ResNet-50](http://ethereon.github.io/netscope/#/gist/db945b393d40bfa26006) model to detect dogs in images.  Our first line of code downloads the ResNet-50 model, along with weights that have been trained on [ImageNet](http://www.image-net.org/), a very large, very popular dataset used for image classification and other vision tasks.  ImageNet contains over 10 million URLs, each linking to an image containing an object from one of [1000 categories](https://gist.github.com/yrevar/942d3a0ac09ec9e5eb3a).  Given an image, this pre-trained ResNet-50 model returns a prediction (derived from the available categories in ImageNet) for the object that is contained in the image."
   ]
  },
  {
   "cell_type": "code",
   "execution_count": 7,
   "metadata": {},
   "outputs": [
    {
     "name": "stdout",
     "output_type": "stream",
     "text": [
      "WARNING:tensorflow:From C:\\Users\\dltheobald\\AppData\\Local\\Continuum\\anaconda3\\lib\\site-packages\\keras\\backend\\tensorflow_backend.py:74: The name tf.get_default_graph is deprecated. Please use tf.compat.v1.get_default_graph instead.\n",
      "\n",
      "WARNING:tensorflow:From C:\\Users\\dltheobald\\AppData\\Local\\Continuum\\anaconda3\\lib\\site-packages\\keras\\backend\\tensorflow_backend.py:517: The name tf.placeholder is deprecated. Please use tf.compat.v1.placeholder instead.\n",
      "\n",
      "WARNING:tensorflow:From C:\\Users\\dltheobald\\AppData\\Local\\Continuum\\anaconda3\\lib\\site-packages\\keras\\backend\\tensorflow_backend.py:4185: The name tf.truncated_normal is deprecated. Please use tf.random.truncated_normal instead.\n",
      "\n",
      "WARNING:tensorflow:From C:\\Users\\dltheobald\\AppData\\Local\\Continuum\\anaconda3\\lib\\site-packages\\keras\\backend\\tensorflow_backend.py:174: The name tf.get_default_session is deprecated. Please use tf.compat.v1.get_default_session instead.\n",
      "\n",
      "WARNING:tensorflow:From C:\\Users\\dltheobald\\AppData\\Local\\Continuum\\anaconda3\\lib\\site-packages\\keras\\backend\\tensorflow_backend.py:181: The name tf.ConfigProto is deprecated. Please use tf.compat.v1.ConfigProto instead.\n",
      "\n",
      "WARNING:tensorflow:From C:\\Users\\dltheobald\\AppData\\Local\\Continuum\\anaconda3\\lib\\site-packages\\keras\\backend\\tensorflow_backend.py:1834: The name tf.nn.fused_batch_norm is deprecated. Please use tf.compat.v1.nn.fused_batch_norm instead.\n",
      "\n",
      "WARNING:tensorflow:From C:\\Users\\dltheobald\\AppData\\Local\\Continuum\\anaconda3\\lib\\site-packages\\keras\\backend\\tensorflow_backend.py:3976: The name tf.nn.max_pool is deprecated. Please use tf.nn.max_pool2d instead.\n",
      "\n"
     ]
    }
   ],
   "source": [
    "from keras.applications.resnet50 import ResNet50\n",
    "\n",
    "# define ResNet50 model\n",
    "ResNet50_model = ResNet50(weights='imagenet')"
   ]
  },
  {
   "cell_type": "markdown",
   "metadata": {},
   "source": [
    "### Pre-process the Data\n",
    "\n",
    "When using TensorFlow as backend, Keras CNNs require a 4D array (which we'll also refer to as a 4D tensor) as input, with shape\n",
    "\n",
    "$$\n",
    "(\\text{nb_samples}, \\text{rows}, \\text{columns}, \\text{channels}),\n",
    "$$\n",
    "\n",
    "where `nb_samples` corresponds to the total number of images (or samples), and `rows`, `columns`, and `channels` correspond to the number of rows, columns, and channels for each image, respectively.  \n",
    "\n",
    "The `path_to_tensor` function below takes a string-valued file path to a color image as input and returns a 4D tensor suitable for supplying to a Keras CNN.  The function first loads the image and resizes it to a square image that is $224 \\times 224$ pixels.  Next, the image is converted to an array, which is then resized to a 4D tensor.  In this case, since we are working with color images, each image has three channels.  Likewise, since we are processing a single image (or sample), the returned tensor will always have shape\n",
    "\n",
    "$$\n",
    "(1, 224, 224, 3).\n",
    "$$\n",
    "\n",
    "The `paths_to_tensor` function takes a numpy array of string-valued image paths as input and returns a 4D tensor with shape \n",
    "\n",
    "$$\n",
    "(\\text{nb_samples}, 224, 224, 3).\n",
    "$$\n",
    "\n",
    "Here, `nb_samples` is the number of samples, or number of images, in the supplied array of image paths.  It is best to think of `nb_samples` as the number of 3D tensors (where each 3D tensor corresponds to a different image) in your dataset!"
   ]
  },
  {
   "cell_type": "code",
   "execution_count": 8,
   "metadata": {},
   "outputs": [],
   "source": [
    "from keras.preprocessing import image                  \n",
    "from tqdm import tqdm\n",
    "\n",
    "def path_to_tensor(img_path):\n",
    "    \"\"\"Takes a file path of an image, loads it and then extracts information into a fixed shape numpy \n",
    "    array, ready to be used for VGG19 feature extracrion.\n",
    "\n",
    "    Parameters:\n",
    "    img_path (String): Path to a file containing the image.\n",
    "\n",
    "    Returns:\n",
    "    (np.array): A numpy array with fixed dimensions and information from an image\n",
    "    \"\"\"\n",
    "    \n",
    "    # loads RGB image as PIL.Image.Image type\n",
    "    img = image.load_img(img_path, target_size=(224, 224))\n",
    "    # convert PIL.Image.Image type to 3D tensor with shape (224, 224, 3)\n",
    "    x = image.img_to_array(img)\n",
    "    \n",
    "    # convert 3D tensor to 4D tensor with shape (1, 224, 224, 3) and return 4D tensor\n",
    "    return np.expand_dims(x, axis=0)\n",
    "\n",
    "def paths_to_tensor(img_paths):\n",
    "    \"\"\"Takes multiple file path of an image, loads it and then extracts information into a fixed shape numpy \n",
    "    array, ready to be used for VGG19 feature extraction.\n",
    "\n",
    "    Parameters:\n",
    "    img_path (String): Path to a file containing the image.\n",
    "\n",
    "    Returns:\n",
    "    (np.array): A numpy array with fixed dimensions and information from a selection image\n",
    "    \"\"\"\n",
    "    list_of_tensors = [path_to_tensor(img_path) for img_path in tqdm(img_paths)]\n",
    "    \n",
    "    return np.vstack(list_of_tensors)"
   ]
  },
  {
   "cell_type": "markdown",
   "metadata": {},
   "source": [
    "### Making Predictions with ResNet-50\n",
    "\n",
    "Getting the 4D tensor ready for ResNet-50, and for any other pre-trained model in Keras, requires some additional processing.  First, the RGB image is converted to BGR by reordering the channels.  All pre-trained models have the additional normalization step that the mean pixel (expressed in RGB as $[103.939, 116.779, 123.68]$ and calculated from all pixels in all images in ImageNet) must be subtracted from every pixel in each image.  This is implemented in the imported function `preprocess_input`.  If you're curious, you can check the code for `preprocess_input` [here](https://github.com/fchollet/keras/blob/master/keras/applications/imagenet_utils.py).\n",
    "\n",
    "Now that we have a way to format our image for supplying to ResNet-50, we are now ready to use the model to extract the predictions.  This is accomplished with the `predict` method, which returns an array whose $i$-th entry is the model's predicted probability that the image belongs to the $i$-th ImageNet category.  This is implemented in the `ResNet50_predict_labels` function below.\n",
    "\n",
    "By taking the argmax of the predicted probability vector, we obtain an integer corresponding to the model's predicted object class, which we can identify with an object category through the use of this [dictionary](https://gist.github.com/yrevar/942d3a0ac09ec9e5eb3a). "
   ]
  },
  {
   "cell_type": "code",
   "execution_count": 9,
   "metadata": {},
   "outputs": [],
   "source": [
    "from keras.applications.resnet50 import preprocess_input, decode_predictions\n",
    "\n",
    "def ResNet50_predict_labels(img_path):\n",
    "    \"\"\"Takes an image path, extracts information from it and uses the resnet model to classify the image\n",
    "\n",
    "    Parameters:\n",
    "    img_path (String): Path to a file containing the image.\n",
    "\n",
    "    Returns:\n",
    "    (Integer): A integer corresponding to the classification of the image\n",
    "    \"\"\"\n",
    "    # returns prediction vector for image located at img_path\n",
    "    img = preprocess_input(path_to_tensor(img_path))\n",
    "    \n",
    "    return np.argmax(ResNet50_model.predict(img))"
   ]
  },
  {
   "cell_type": "markdown",
   "metadata": {},
   "source": [
    "### Write a Dog Detector\n",
    "\n",
    "While looking at the [dictionary](https://gist.github.com/yrevar/942d3a0ac09ec9e5eb3a), you will notice that the categories corresponding to dogs appear in an uninterrupted sequence and correspond to dictionary keys 151-268, inclusive, to include all categories from `'Chihuahua'` to `'Mexican hairless'`.  Thus, in order to check to see if an image is predicted to contain a dog by the pre-trained ResNet-50 model, we need only check if the `ResNet50_predict_labels` function above returns a value between 151 and 268 (inclusive).\n",
    "\n",
    "We use these ideas to complete the `dog_detector` function below, which returns `True` if a dog is detected in an image (and `False` if not)."
   ]
  },
  {
   "cell_type": "code",
   "execution_count": 10,
   "metadata": {},
   "outputs": [],
   "source": [
    "### returns \"True\" if a dog is detected in the image stored at img_path\n",
    "def dog_detector(img_path):\n",
    "    \"\"\"Takes a file path of an image and returns whether it is a dog or not\n",
    "\n",
    "    Parameters:\n",
    "    img_path (String): Path to a file containing the image.\n",
    "\n",
    "    Returns:\n",
    "    (Boolean): Presence of a dog\n",
    "    \"\"\"\n",
    "    #USesresnet to predict category of image\n",
    "    prediction = ResNet50_predict_labels(img_path)\n",
    "    \n",
    "    #Dogs are between the numbers returns below\n",
    "    return ((prediction <= 268) & (prediction >= 151)) "
   ]
  },
  {
   "cell_type": "markdown",
   "metadata": {},
   "source": [
    "### (IMPLEMENTATION) Assess the Dog Detector\n",
    "\n",
    "__Question 3:__ Use the code cell below to test the performance of your `dog_detector` function.  \n",
    "- What percentage of the images in `human_files_short` have a detected dog?  \n",
    "- What percentage of the images in `dog_files_short` have a detected dog?\n",
    "\n",
    "__Answer:__ "
   ]
  },
  {
   "cell_type": "code",
   "execution_count": 11,
   "metadata": {},
   "outputs": [
    {
     "name": "stdout",
     "output_type": "stream",
     "text": [
      "The face detector incorrectly guessed 1% of humans as a dog.\n",
      "The face detector correctly guessed 100% of dog faces.\n"
     ]
    }
   ],
   "source": [
    "### TODO: Test the performance of the dog_detector function\n",
    "### on the images in human_files_short and dog_files_short.\n",
    "\n",
    "#Detects the mistakes of the dog detector on humans\n",
    "human_count = 0\n",
    "dog_count = 0\n",
    "for human in human_files_short:\n",
    "    if dog_detector(human):\n",
    "        human_count += 1\n",
    "\n",
    "#Detects the accuracy of the dog detector        \n",
    "dog_count = 0\n",
    "for dog in dog_files_short:\n",
    "    if dog_detector(dog):\n",
    "        dog_count += 1\n",
    "        \n",
    "#calculates the accuracy of dog_detector\n",
    "human_dog_accuracy = float(human_count) / float(len(human_files_short))\n",
    "dog_dog_accuracy = float(dog_count) / float(len(dog_files_short))\n",
    "human_dog_accuracy = \"{0:.0%}\".format(human_dog_accuracy)\n",
    "dog_dog_accuracy = \"{0:.0%}\".format(dog_dog_accuracy)\n",
    "\n",
    "#Prints accuracy metric\n",
    "print(\"The face detector incorrectly guessed %s of humans as a dog.\"%(human_dog_accuracy))    \n",
    "print(\"The face detector correctly guessed %s of dog faces.\"%(dog_dog_accuracy))"
   ]
  },
  {
   "cell_type": "markdown",
   "metadata": {},
   "source": [
    "---\n",
    "<a id='step3'></a>\n",
    "## Step 3: Create a CNN to Classify Dog Breeds (from Scratch)\n",
    "\n",
    "Now that we have functions for detecting humans and dogs in images, we need a way to predict breed from images.  In this step, you will create a CNN that classifies dog breeds.  You must create your CNN _from scratch_ (so, you can't use transfer learning _yet_!), and you must attain a test accuracy of at least 1%.  In Step 5 of this notebook, you will have the opportunity to use transfer learning to create a CNN that attains greatly improved accuracy.\n",
    "\n",
    "Be careful with adding too many trainable layers!  More parameters means longer training, which means you are more likely to need a GPU to accelerate the training process.  Thankfully, Keras provides a handy estimate of the time that each epoch is likely to take; you can extrapolate this estimate to figure out how long it will take for your algorithm to train. \n",
    "\n",
    "We mention that the task of assigning breed to dogs from images is considered exceptionally challenging.  To see why, consider that *even a human* would have great difficulty in distinguishing between a Brittany and a Welsh Springer Spaniel.  \n",
    "\n",
    "Brittany | Welsh Springer Spaniel\n",
    "- | - \n",
    "<img src=\"images/Brittany_02625.jpg\" width=\"100\"> | <img src=\"images/Welsh_springer_spaniel_08203.jpg\" width=\"200\">\n",
    "\n",
    "It is not difficult to find other dog breed pairs with minimal inter-class variation (for instance, Curly-Coated Retrievers and American Water Spaniels).  \n",
    "\n",
    "Curly-Coated Retriever | American Water Spaniel\n",
    "- | -\n",
    "<img src=\"images/Curly-coated_retriever_03896.jpg\" width=\"200\"> | <img src=\"images/American_water_spaniel_00648.jpg\" width=\"200\">\n",
    "\n",
    "\n",
    "Likewise, recall that labradors come in yellow, chocolate, and black.  Your vision-based algorithm will have to conquer this high intra-class variation to determine how to classify all of these different shades as the same breed.  \n",
    "\n",
    "Yellow Labrador | Chocolate Labrador | Black Labrador\n",
    "- | -\n",
    "<img src=\"images/Labrador_retriever_06457.jpg\" width=\"150\"> | <img src=\"images/Labrador_retriever_06455.jpg\" width=\"240\"> | <img src=\"images/Labrador_retriever_06449.jpg\" width=\"220\">\n",
    "\n",
    "We also mention that random chance presents an exceptionally low bar: setting aside the fact that the classes are slightly imabalanced, a random guess will provide a correct answer roughly 1 in 133 times, which corresponds to an accuracy of less than 1%.  \n",
    "\n",
    "Remember that the practice is far ahead of the theory in deep learning.  Experiment with many different architectures, and trust your intuition.  And, of course, have fun! \n",
    "\n",
    "### Pre-process the Data\n",
    "\n",
    "We rescale the images by dividing every pixel in every image by 255."
   ]
  },
  {
   "cell_type": "code",
   "execution_count": 12,
   "metadata": {},
   "outputs": [
    {
     "name": "stderr",
     "output_type": "stream",
     "text": [
      "100%|██████████████████████████████████████████████████████████████████████████████| 6680/6680 [01:13<00:00, 90.41it/s]\n",
      "100%|███████████████████████████████████████████████████████████████████████████████| 835/835 [00:08<00:00, 100.31it/s]\n",
      "100%|███████████████████████████████████████████████████████████████████████████████| 836/836 [00:08<00:00, 102.97it/s]\n"
     ]
    }
   ],
   "source": [
    "from PIL import ImageFile                            \n",
    "ImageFile.LOAD_TRUNCATED_IMAGES = True                 \n",
    "\n",
    "# pre-process the data for Keras\n",
    "train_tensors = paths_to_tensor(train_files).astype('float32')/255\n",
    "valid_tensors = paths_to_tensor(valid_files).astype('float32')/255\n",
    "test_tensors = paths_to_tensor(test_files).astype('float32')/255"
   ]
  },
  {
   "cell_type": "markdown",
   "metadata": {},
   "source": [
    "### (IMPLEMENTATION) Model Architecture\n",
    "\n",
    "Create a CNN to classify dog breed.  At the end of your code cell block, summarize the layers of your model by executing the line:\n",
    "    \n",
    "        model.summary()\n",
    "\n",
    "We have imported some Python modules to get you started, but feel free to import as many modules as you need.  If you end up getting stuck, here's a hint that specifies a model that trains relatively fast on CPU and attains >1% test accuracy in 5 epochs:\n",
    "\n",
    "![Sample CNN](images/sample_cnn.png)\n",
    "           \n",
    "__Question 4:__ Outline the steps you took to get to your final CNN architecture and your reasoning at each step.  If you chose to use the hinted architecture above, describe why you think that CNN architecture should work well for the image classification task.\n",
    "\n",
    "__Answer:__ "
   ]
  },
  {
   "cell_type": "code",
   "execution_count": 13,
   "metadata": {},
   "outputs": [
    {
     "name": "stdout",
     "output_type": "stream",
     "text": [
      "_________________________________________________________________\n",
      "Layer (type)                 Output Shape              Param #   \n",
      "=================================================================\n",
      "conv2d_1 (Conv2D)            (None, 224, 224, 8)       224       \n",
      "_________________________________________________________________\n",
      "max_pooling2d_2 (MaxPooling2 (None, 112, 112, 8)       0         \n",
      "_________________________________________________________________\n",
      "conv2d_2 (Conv2D)            (None, 112, 112, 16)      1168      \n",
      "_________________________________________________________________\n",
      "max_pooling2d_3 (MaxPooling2 (None, 56, 56, 16)        0         \n",
      "_________________________________________________________________\n",
      "conv2d_3 (Conv2D)            (None, 56, 56, 32)        4640      \n",
      "_________________________________________________________________\n",
      "max_pooling2d_4 (MaxPooling2 (None, 28, 28, 32)        0         \n",
      "_________________________________________________________________\n",
      "flatten_1 (Flatten)          (None, 25088)             0         \n",
      "_________________________________________________________________\n",
      "dense_1 (Dense)              (None, 133)               3336837   \n",
      "=================================================================\n",
      "Total params: 3,342,869\n",
      "Trainable params: 3,342,869\n",
      "Non-trainable params: 0\n",
      "_________________________________________________________________\n"
     ]
    }
   ],
   "source": [
    "from keras.layers import Conv2D, MaxPooling2D, GlobalAveragePooling2D\n",
    "from keras.layers import Dropout, Flatten, Dense\n",
    "from keras.models import Sequential\n",
    "\n",
    "#Instatiate model with Sequential Keras object\n",
    "model = Sequential()\n",
    "\n",
    "#Defines model architecture (activations etc.)\n",
    "model.add(Conv2D(8, kernel_size = 3, strides = 1,\n",
    "                 activation = 'relu', padding = 'same',\n",
    "                 input_shape = (224,224,3)))\n",
    "model.add(MaxPooling2D(2,2))\n",
    "model.add(Conv2D(16, kernel_size = 3, strides = 1,\n",
    "                activation = 'relu', padding = 'same'))\n",
    "model.add(MaxPooling2D(2,2))\n",
    "model.add(Conv2D(32, kernel_size = 3, strides = 1,\n",
    "                activation = 'relu', padding = 'same'))\n",
    "model.add(MaxPooling2D(2,2))\n",
    "model.add(Flatten())\n",
    "model.add(Dense(133, activation = 'softmax'))\n",
    "\n",
    "#Print models architecture\n",
    "model.summary()"
   ]
  },
  {
   "cell_type": "markdown",
   "metadata": {},
   "source": [
    "### Compile the Model"
   ]
  },
  {
   "cell_type": "code",
   "execution_count": 14,
   "metadata": {},
   "outputs": [
    {
     "name": "stdout",
     "output_type": "stream",
     "text": [
      "WARNING:tensorflow:From C:\\Users\\dltheobald\\AppData\\Local\\Continuum\\anaconda3\\lib\\site-packages\\keras\\optimizers.py:790: The name tf.train.Optimizer is deprecated. Please use tf.compat.v1.train.Optimizer instead.\n",
      "\n"
     ]
    }
   ],
   "source": [
    "#Defines the metric to measure against, the optimiser and the loss function used for training the model\n",
    "model.compile(optimizer='rmsprop', loss='categorical_crossentropy', metrics=['accuracy']) "
   ]
  },
  {
   "cell_type": "markdown",
   "metadata": {},
   "source": [
    "### (IMPLEMENTATION) Train the Model\n",
    "\n",
    "Train your model in the code cell below.  Use model checkpointing to save the model that attains the best validation loss.\n",
    "\n",
    "You are welcome to [augment the training data](https://blog.keras.io/building-powerful-image-classification-models-using-very-little-data.html), but this is not a requirement. "
   ]
  },
  {
   "cell_type": "code",
   "execution_count": 15,
   "metadata": {},
   "outputs": [
    {
     "name": "stdout",
     "output_type": "stream",
     "text": [
      "WARNING:tensorflow:From C:\\Users\\dltheobald\\AppData\\Local\\Continuum\\anaconda3\\lib\\site-packages\\tensorflow\\python\\ops\\math_grad.py:1250: add_dispatch_support.<locals>.wrapper (from tensorflow.python.ops.array_ops) is deprecated and will be removed in a future version.\n",
      "Instructions for updating:\n",
      "Use tf.where in 2.0, which has the same broadcast rule as np.where\n",
      "Train on 6680 samples, validate on 835 samples\n",
      "Epoch 1/5\n"
     ]
    },
    {
     "name": "stdout",
     "output_type": "stream",
     "text": [
      "4220/6680 [=================>............] - ETA: 7:49 - loss: 4.9729 - acc: 0.0000e+0 - ETA: 4:20 - loss: 7.8642 - acc: 0.0000e+0 - ETA: 3:09 - loss: 7.3319 - acc: 0.0000e+0 - ETA: 2:35 - loss: 6.8535 - acc: 0.0000e+0 - ETA: 2:14 - loss: 6.5384 - acc: 0.0000e+0 - ETA: 2:00 - loss: 6.3121 - acc: 0.0000e+0 - ETA: 1:50 - loss: 6.1125 - acc: 0.0000e+0 - ETA: 1:43 - loss: 5.9819 - acc: 0.0063    - ETA: 1:36 - loss: 5.8585 - acc: 0.005 - ETA: 1:33 - loss: 5.7637 - acc: 0.005 - ETA: 1:31 - loss: 5.6849 - acc: 0.004 - ETA: 1:27 - loss: 5.6126 - acc: 0.004 - ETA: 1:25 - loss: 5.5752 - acc: 0.003 - ETA: 1:22 - loss: 5.5258 - acc: 0.003 - ETA: 1:20 - loss: 5.4874 - acc: 0.003 - ETA: 1:18 - loss: 5.4493 - acc: 0.003 - ETA: 1:16 - loss: 5.4168 - acc: 0.002 - ETA: 1:14 - loss: 5.3881 - acc: 0.002 - ETA: 1:13 - loss: 5.3607 - acc: 0.002 - ETA: 1:11 - loss: 5.3397 - acc: 0.002 - ETA: 1:11 - loss: 5.3187 - acc: 0.002 - ETA: 1:10 - loss: 5.3002 - acc: 0.002 - ETA: 1:09 - loss: 5.2831 - acc: 0.002 - ETA: 1:09 - loss: 5.2662 - acc: 0.002 - ETA: 1:10 - loss: 5.2505 - acc: 0.002 - ETA: 1:10 - loss: 5.2371 - acc: 0.001 - ETA: 1:10 - loss: 5.2238 - acc: 0.001 - ETA: 1:10 - loss: 5.2120 - acc: 0.001 - ETA: 1:11 - loss: 5.2004 - acc: 0.001 - ETA: 1:10 - loss: 5.1899 - acc: 0.001 - ETA: 1:10 - loss: 5.1804 - acc: 0.003 - ETA: 1:10 - loss: 5.1711 - acc: 0.003 - ETA: 1:10 - loss: 5.1625 - acc: 0.004 - ETA: 1:10 - loss: 5.1544 - acc: 0.004 - ETA: 1:10 - loss: 5.1468 - acc: 0.004 - ETA: 1:09 - loss: 5.1388 - acc: 0.005 - ETA: 1:09 - loss: 5.1314 - acc: 0.005 - ETA: 1:09 - loss: 5.1252 - acc: 0.005 - ETA: 1:09 - loss: 5.1186 - acc: 0.005 - ETA: 1:09 - loss: 5.1135 - acc: 0.005 - ETA: 1:08 - loss: 5.1079 - acc: 0.004 - ETA: 1:08 - loss: 5.1029 - acc: 0.004 - ETA: 1:07 - loss: 5.0979 - acc: 0.005 - ETA: 1:07 - loss: 5.0929 - acc: 0.005 - ETA: 1:06 - loss: 5.0878 - acc: 0.005 - ETA: 1:06 - loss: 5.0833 - acc: 0.006 - ETA: 1:05 - loss: 5.0784 - acc: 0.006 - ETA: 1:04 - loss: 5.0711 - acc: 0.006 - ETA: 1:04 - loss: 5.0705 - acc: 0.006 - ETA: 1:03 - loss: 5.0672 - acc: 0.006 - ETA: 1:03 - loss: 5.0639 - acc: 0.005 - ETA: 1:02 - loss: 5.0606 - acc: 0.005 - ETA: 1:02 - loss: 5.0569 - acc: 0.006 - ETA: 1:01 - loss: 5.0539 - acc: 0.006 - ETA: 1:01 - loss: 5.0510 - acc: 0.006 - ETA: 1:00 - loss: 5.0479 - acc: 0.007 - ETA: 1:00 - loss: 5.0440 - acc: 0.007 - ETA: 59s - loss: 5.0404 - acc: 0.006 - ETA: 59s - loss: 5.0385 - acc: 0.00 - ETA: 58s - loss: 5.0358 - acc: 0.00 - ETA: 58s - loss: 5.0329 - acc: 0.00 - ETA: 58s - loss: 5.0298 - acc: 0.00 - ETA: 57s - loss: 5.0257 - acc: 0.00 - ETA: 57s - loss: 5.0230 - acc: 0.00 - ETA: 57s - loss: 5.0220 - acc: 0.00 - ETA: 56s - loss: 5.0197 - acc: 0.00 - ETA: 56s - loss: 5.0175 - acc: 0.00 - ETA: 56s - loss: 5.0154 - acc: 0.00 - ETA: 55s - loss: 5.0145 - acc: 0.00 - ETA: 55s - loss: 5.0124 - acc: 0.00 - ETA: 55s - loss: 5.0098 - acc: 0.00 - ETA: 54s - loss: 5.0068 - acc: 0.00 - ETA: 54s - loss: 5.0052 - acc: 0.00 - ETA: 54s - loss: 5.0028 - acc: 0.00 - ETA: 53s - loss: 5.0004 - acc: 0.00 - ETA: 53s - loss: 4.9982 - acc: 0.00 - ETA: 53s - loss: 4.9966 - acc: 0.00 - ETA: 52s - loss: 4.9954 - acc: 0.00 - ETA: 52s - loss: 4.9936 - acc: 0.00 - ETA: 52s - loss: 4.9914 - acc: 0.00 - ETA: 53s - loss: 4.9899 - acc: 0.00 - ETA: 52s - loss: 4.9891 - acc: 0.00 - ETA: 52s - loss: 4.9871 - acc: 0.00 - ETA: 52s - loss: 4.9853 - acc: 0.00 - ETA: 52s - loss: 4.9839 - acc: 0.00 - ETA: 51s - loss: 4.9845 - acc: 0.00 - ETA: 51s - loss: 4.9827 - acc: 0.00 - ETA: 51s - loss: 4.9807 - acc: 0.00 - ETA: 50s - loss: 4.9789 - acc: 0.00 - ETA: 50s - loss: 4.9779 - acc: 0.00 - ETA: 50s - loss: 4.9768 - acc: 0.00 - ETA: 49s - loss: 4.9755 - acc: 0.00 - ETA: 49s - loss: 4.9741 - acc: 0.00 - ETA: 49s - loss: 4.9730 - acc: 0.00 - ETA: 48s - loss: 4.9724 - acc: 0.00 - ETA: 48s - loss: 4.9716 - acc: 0.00 - ETA: 48s - loss: 4.9701 - acc: 0.00 - ETA: 48s - loss: 4.9686 - acc: 0.00 - ETA: 47s - loss: 4.9660 - acc: 0.00 - ETA: 47s - loss: 4.9702 - acc: 0.00 - ETA: 47s - loss: 4.9689 - acc: 0.00 - ETA: 46s - loss: 4.9675 - acc: 0.00 - ETA: 46s - loss: 4.9668 - acc: 0.00 - ETA: 46s - loss: 4.9661 - acc: 0.00 - ETA: 46s - loss: 4.9651 - acc: 0.00 - ETA: 45s - loss: 4.9637 - acc: 0.00 - ETA: 45s - loss: 4.9626 - acc: 0.00 - ETA: 45s - loss: 4.9610 - acc: 0.00 - ETA: 45s - loss: 4.9612 - acc: 0.00 - ETA: 44s - loss: 4.9600 - acc: 0.00 - ETA: 44s - loss: 4.9586 - acc: 0.00 - ETA: 44s - loss: 4.9561 - acc: 0.00 - ETA: 44s - loss: 4.9550 - acc: 0.00 - ETA: 43s - loss: 4.9540 - acc: 0.00 - ETA: 43s - loss: 4.9533 - acc: 0.00 - ETA: 43s - loss: 4.9513 - acc: 0.00 - ETA: 43s - loss: 4.9507 - acc: 0.00 - ETA: 42s - loss: 4.9499 - acc: 0.00 - ETA: 42s - loss: 4.9497 - acc: 0.01 - ETA: 42s - loss: 4.9489 - acc: 0.01 - ETA: 42s - loss: 4.9475 - acc: 0.00 - ETA: 41s - loss: 4.9474 - acc: 0.01 - ETA: 41s - loss: 4.9471 - acc: 0.01 - ETA: 41s - loss: 4.9459 - acc: 0.01 - ETA: 41s - loss: 4.9454 - acc: 0.01 - ETA: 41s - loss: 4.9449 - acc: 0.01 - ETA: 41s - loss: 4.9447 - acc: 0.01 - ETA: 41s - loss: 4.9439 - acc: 0.01 - ETA: 41s - loss: 4.9429 - acc: 0.01 - ETA: 40s - loss: 4.9418 - acc: 0.01 - ETA: 40s - loss: 4.9407 - acc: 0.01 - ETA: 40s - loss: 4.9391 - acc: 0.01 - ETA: 40s - loss: 4.9391 - acc: 0.01 - ETA: 40s - loss: 4.9381 - acc: 0.01 - ETA: 40s - loss: 4.9380 - acc: 0.01 - ETA: 40s - loss: 4.9373 - acc: 0.01 - ETA: 39s - loss: 4.9365 - acc: 0.01 - ETA: 39s - loss: 4.9353 - acc: 0.01 - ETA: 39s - loss: 4.9344 - acc: 0.01 - ETA: 39s - loss: 4.9344 - acc: 0.01 - ETA: 38s - loss: 4.9333 - acc: 0.01 - ETA: 38s - loss: 4.9329 - acc: 0.01 - ETA: 38s - loss: 4.9314 - acc: 0.01 - ETA: 38s - loss: 4.9315 - acc: 0.01 - ETA: 38s - loss: 4.9311 - acc: 0.01 - ETA: 37s - loss: 4.9302 - acc: 0.01 - ETA: 37s - loss: 4.9299 - acc: 0.01 - ETA: 37s - loss: 4.9294 - acc: 0.01 - ETA: 37s - loss: 4.9286 - acc: 0.01 - ETA: 36s - loss: 4.9281 - acc: 0.01 - ETA: 36s - loss: 4.9278 - acc: 0.01 - ETA: 36s - loss: 4.9272 - acc: 0.01 - ETA: 36s - loss: 4.9263 - acc: 0.01 - ETA: 36s - loss: 4.9236 - acc: 0.01 - ETA: 35s - loss: 4.9292 - acc: 0.01 - ETA: 35s - loss: 4.9281 - acc: 0.01 - ETA: 35s - loss: 4.9276 - acc: 0.01 - ETA: 35s - loss: 4.9273 - acc: 0.01 - ETA: 35s - loss: 4.9264 - acc: 0.01 - ETA: 34s - loss: 4.9247 - acc: 0.01 - ETA: 34s - loss: 4.9240 - acc: 0.01 - ETA: 34s - loss: 4.9226 - acc: 0.01 - ETA: 34s - loss: 4.9207 - acc: 0.01 - ETA: 34s - loss: 4.9192 - acc: 0.01 - ETA: 33s - loss: 4.9201 - acc: 0.01 - ETA: 33s - loss: 4.9204 - acc: 0.01 - ETA: 33s - loss: 4.9200 - acc: 0.01 - ETA: 33s - loss: 4.9194 - acc: 0.01 - ETA: 33s - loss: 4.9187 - acc: 0.01 - ETA: 32s - loss: 4.9181 - acc: 0.01 - ETA: 32s - loss: 4.9171 - acc: 0.01 - ETA: 32s - loss: 4.9162 - acc: 0.01 - ETA: 32s - loss: 4.9153 - acc: 0.01 - ETA: 31s - loss: 4.9145 - acc: 0.01 - ETA: 31s - loss: 4.9130 - acc: 0.01 - ETA: 31s - loss: 4.9120 - acc: 0.01 - ETA: 31s - loss: 4.9124 - acc: 0.01 - ETA: 30s - loss: 4.9125 - acc: 0.01 - ETA: 30s - loss: 4.9123 - acc: 0.01 - ETA: 30s - loss: 4.9115 - acc: 0.01 - ETA: 30s - loss: 4.9107 - acc: 0.01 - ETA: 30s - loss: 4.9095 - acc: 0.01 - ETA: 29s - loss: 4.9095 - acc: 0.01 - ETA: 29s - loss: 4.9079 - acc: 0.01 - ETA: 29s - loss: 4.9079 - acc: 0.01 - ETA: 29s - loss: 4.9079 - acc: 0.01 - ETA: 28s - loss: 4.9078 - acc: 0.01 - ETA: 28s - loss: 4.9072 - acc: 0.01 - ETA: 28s - loss: 4.9070 - acc: 0.01 - ETA: 28s - loss: 4.9067 - acc: 0.01 - ETA: 27s - loss: 4.9059 - acc: 0.01 - ETA: 27s - loss: 4.9045 - acc: 0.01 - ETA: 27s - loss: 4.9042 - acc: 0.01 - ETA: 27s - loss: 4.9036 - acc: 0.01 - ETA: 27s - loss: 4.9023 - acc: 0.01 - ETA: 26s - loss: 4.9028 - acc: 0.01 - ETA: 26s - loss: 4.9029 - acc: 0.01 - ETA: 26s - loss: 4.9023 - acc: 0.01 - ETA: 26s - loss: 4.9008 - acc: 0.01 - ETA: 26s - loss: 4.8989 - acc: 0.01 - ETA: 25s - loss: 4.8986 - acc: 0.01 - ETA: 25s - loss: 4.8979 - acc: 0.01 - ETA: 25s - loss: 4.8978 - acc: 0.01 - ETA: 25s - loss: 4.8965 - acc: 0.01 - ETA: 24s - loss: 4.8959 - acc: 0.01 - ETA: 24s - loss: 4.8952 - acc: 0.01 - ETA: 24s - loss: 4.8942 - acc: 0.01 - ETA: 24s - loss: 4.8945 - acc: 0.01 - ETA: 24s - loss: 4.8936 - acc: 0.01 - ETA: 23s - loss: 4.8932 - acc: 0.01 - ETA: 23s - loss: 4.8926 - acc: 0.0166"
     ]
    },
    {
     "name": "stdout",
     "output_type": "stream",
     "text": [
      "6680/6680 [==============================] - ETA: 23s - loss: 4.8921 - acc: 0.01 - ETA: 23s - loss: 4.8914 - acc: 0.01 - ETA: 23s - loss: 4.8909 - acc: 0.01 - ETA: 22s - loss: 4.8901 - acc: 0.01 - ETA: 22s - loss: 4.8898 - acc: 0.01 - ETA: 22s - loss: 4.8894 - acc: 0.01 - ETA: 22s - loss: 4.8874 - acc: 0.01 - ETA: 22s - loss: 4.8865 - acc: 0.01 - ETA: 21s - loss: 4.8858 - acc: 0.01 - ETA: 21s - loss: 4.8851 - acc: 0.01 - ETA: 21s - loss: 4.8858 - acc: 0.01 - ETA: 21s - loss: 4.8852 - acc: 0.01 - ETA: 21s - loss: 4.8839 - acc: 0.01 - ETA: 20s - loss: 4.8823 - acc: 0.01 - ETA: 20s - loss: 4.8828 - acc: 0.01 - ETA: 20s - loss: 4.8833 - acc: 0.01 - ETA: 20s - loss: 4.8825 - acc: 0.01 - ETA: 20s - loss: 4.8824 - acc: 0.01 - ETA: 19s - loss: 4.8823 - acc: 0.01 - ETA: 19s - loss: 4.8817 - acc: 0.01 - ETA: 19s - loss: 4.8813 - acc: 0.01 - ETA: 19s - loss: 4.8811 - acc: 0.01 - ETA: 19s - loss: 4.8812 - acc: 0.01 - ETA: 18s - loss: 4.8813 - acc: 0.01 - ETA: 18s - loss: 4.8805 - acc: 0.01 - ETA: 18s - loss: 4.8792 - acc: 0.01 - ETA: 18s - loss: 4.8781 - acc: 0.01 - ETA: 18s - loss: 4.8786 - acc: 0.01 - ETA: 17s - loss: 4.8778 - acc: 0.01 - ETA: 17s - loss: 4.8769 - acc: 0.01 - ETA: 17s - loss: 4.8766 - acc: 0.01 - ETA: 17s - loss: 4.8761 - acc: 0.01 - ETA: 17s - loss: 4.8760 - acc: 0.01 - ETA: 16s - loss: 4.8759 - acc: 0.01 - ETA: 16s - loss: 4.8761 - acc: 0.01 - ETA: 16s - loss: 4.8762 - acc: 0.01 - ETA: 16s - loss: 4.8755 - acc: 0.01 - ETA: 16s - loss: 4.8745 - acc: 0.01 - ETA: 15s - loss: 4.8746 - acc: 0.01 - ETA: 15s - loss: 4.8741 - acc: 0.01 - ETA: 15s - loss: 4.8742 - acc: 0.01 - ETA: 15s - loss: 4.8737 - acc: 0.01 - ETA: 15s - loss: 4.8733 - acc: 0.01 - ETA: 14s - loss: 4.8725 - acc: 0.01 - ETA: 14s - loss: 4.8721 - acc: 0.01 - ETA: 14s - loss: 4.8707 - acc: 0.01 - ETA: 14s - loss: 4.8714 - acc: 0.01 - ETA: 14s - loss: 4.8710 - acc: 0.01 - ETA: 13s - loss: 4.8708 - acc: 0.01 - ETA: 13s - loss: 4.8705 - acc: 0.01 - ETA: 13s - loss: 4.8711 - acc: 0.01 - ETA: 13s - loss: 4.8699 - acc: 0.01 - ETA: 13s - loss: 4.8688 - acc: 0.01 - ETA: 13s - loss: 4.8687 - acc: 0.01 - ETA: 12s - loss: 4.8677 - acc: 0.01 - ETA: 12s - loss: 4.8668 - acc: 0.01 - ETA: 12s - loss: 4.8667 - acc: 0.01 - ETA: 12s - loss: 4.8655 - acc: 0.01 - ETA: 12s - loss: 4.8663 - acc: 0.01 - ETA: 11s - loss: 4.8663 - acc: 0.01 - ETA: 11s - loss: 4.8658 - acc: 0.01 - ETA: 11s - loss: 4.8657 - acc: 0.01 - ETA: 11s - loss: 4.8649 - acc: 0.01 - ETA: 11s - loss: 4.8647 - acc: 0.01 - ETA: 10s - loss: 4.8640 - acc: 0.01 - ETA: 10s - loss: 4.8637 - acc: 0.01 - ETA: 10s - loss: 4.8635 - acc: 0.01 - ETA: 10s - loss: 4.8623 - acc: 0.01 - ETA: 10s - loss: 4.8614 - acc: 0.01 - ETA: 9s - loss: 4.8604 - acc: 0.0194 - ETA: 9s - loss: 4.8596 - acc: 0.019 - ETA: 9s - loss: 4.8592 - acc: 0.019 - ETA: 9s - loss: 4.8584 - acc: 0.019 - ETA: 9s - loss: 4.8577 - acc: 0.019 - ETA: 9s - loss: 4.8583 - acc: 0.019 - ETA: 8s - loss: 4.8575 - acc: 0.019 - ETA: 8s - loss: 4.8573 - acc: 0.019 - ETA: 8s - loss: 4.8573 - acc: 0.019 - ETA: 8s - loss: 4.8569 - acc: 0.019 - ETA: 8s - loss: 4.8564 - acc: 0.019 - ETA: 7s - loss: 4.8556 - acc: 0.019 - ETA: 7s - loss: 4.8553 - acc: 0.020 - ETA: 7s - loss: 4.8550 - acc: 0.020 - ETA: 7s - loss: 4.8532 - acc: 0.020 - ETA: 7s - loss: 4.8532 - acc: 0.020 - ETA: 6s - loss: 4.8529 - acc: 0.020 - ETA: 6s - loss: 4.8525 - acc: 0.020 - ETA: 6s - loss: 4.8521 - acc: 0.020 - ETA: 6s - loss: 4.8516 - acc: 0.020 - ETA: 6s - loss: 4.8509 - acc: 0.019 - ETA: 6s - loss: 4.8507 - acc: 0.019 - ETA: 5s - loss: 4.8510 - acc: 0.019 - ETA: 5s - loss: 4.8514 - acc: 0.019 - ETA: 5s - loss: 4.8507 - acc: 0.020 - ETA: 5s - loss: 4.8504 - acc: 0.019 - ETA: 5s - loss: 4.8492 - acc: 0.019 - ETA: 4s - loss: 4.8492 - acc: 0.019 - ETA: 4s - loss: 4.8494 - acc: 0.019 - ETA: 4s - loss: 4.8492 - acc: 0.019 - ETA: 4s - loss: 4.8480 - acc: 0.019 - ETA: 4s - loss: 4.8492 - acc: 0.019 - ETA: 3s - loss: 4.8489 - acc: 0.019 - ETA: 3s - loss: 4.8480 - acc: 0.019 - ETA: 3s - loss: 4.8474 - acc: 0.019 - ETA: 3s - loss: 4.8464 - acc: 0.019 - ETA: 3s - loss: 4.8455 - acc: 0.020 - ETA: 3s - loss: 4.8453 - acc: 0.020 - ETA: 2s - loss: 4.8447 - acc: 0.020 - ETA: 2s - loss: 4.8451 - acc: 0.020 - ETA: 2s - loss: 4.8449 - acc: 0.020 - ETA: 2s - loss: 4.8448 - acc: 0.020 - ETA: 2s - loss: 4.8450 - acc: 0.020 - ETA: 1s - loss: 4.8449 - acc: 0.020 - ETA: 1s - loss: 4.8455 - acc: 0.020 - ETA: 1s - loss: 4.8448 - acc: 0.019 - ETA: 1s - loss: 4.8442 - acc: 0.020 - ETA: 1s - loss: 4.8431 - acc: 0.020 - ETA: 0s - loss: 4.8436 - acc: 0.020 - ETA: 0s - loss: 4.8424 - acc: 0.020 - ETA: 0s - loss: 4.8418 - acc: 0.020 - ETA: 0s - loss: 4.8416 - acc: 0.020 - ETA: 0s - loss: 4.8411 - acc: 0.020 - 65s 10ms/step - loss: 4.8408 - acc: 0.0204 - val_loss: 4.6827 - val_acc: 0.0431\n",
      "Epoch 2/5\n"
     ]
    },
    {
     "name": "stdout",
     "output_type": "stream",
     "text": [
      "4280/6680 [==================>...........] - ETA: 55s - loss: 4.1147 - acc: 0.20 - ETA: 1:02 - loss: 4.0596 - acc: 0.125 - ETA: 1:01 - loss: 4.1203 - acc: 0.100 - ETA: 1:04 - loss: 4.1028 - acc: 0.112 - ETA: 1:05 - loss: 4.1351 - acc: 0.090 - ETA: 1:05 - loss: 4.1364 - acc: 0.083 - ETA: 1:07 - loss: 4.1485 - acc: 0.071 - ETA: 1:06 - loss: 4.1568 - acc: 0.087 - ETA: 1:05 - loss: 4.0975 - acc: 0.100 - ETA: 1:04 - loss: 4.1336 - acc: 0.105 - ETA: 1:04 - loss: 4.1358 - acc: 0.104 - ETA: 1:03 - loss: 4.1230 - acc: 0.108 - ETA: 1:02 - loss: 4.1162 - acc: 0.103 - ETA: 1:01 - loss: 4.1293 - acc: 0.103 - ETA: 1:01 - loss: 4.1397 - acc: 0.100 - ETA: 1:00 - loss: 4.1191 - acc: 0.100 - ETA: 59s - loss: 4.0961 - acc: 0.105 - ETA: 58s - loss: 4.0761 - acc: 0.10 - ETA: 58s - loss: 4.0712 - acc: 0.11 - ETA: 57s - loss: 4.0732 - acc: 0.11 - ETA: 57s - loss: 4.0602 - acc: 0.10 - ETA: 56s - loss: 4.0579 - acc: 0.10 - ETA: 56s - loss: 4.0542 - acc: 0.11 - ETA: 56s - loss: 4.0698 - acc: 0.10 - ETA: 55s - loss: 4.0727 - acc: 0.10 - ETA: 55s - loss: 4.0722 - acc: 0.10 - ETA: 54s - loss: 4.0731 - acc: 0.10 - ETA: 54s - loss: 4.0664 - acc: 0.10 - ETA: 53s - loss: 4.0558 - acc: 0.11 - ETA: 53s - loss: 4.0460 - acc: 0.11 - ETA: 53s - loss: 4.0407 - acc: 0.11 - ETA: 53s - loss: 4.0323 - acc: 0.11 - ETA: 53s - loss: 4.0307 - acc: 0.11 - ETA: 53s - loss: 4.0270 - acc: 0.12 - ETA: 53s - loss: 4.0096 - acc: 0.13 - ETA: 53s - loss: 4.0005 - acc: 0.13 - ETA: 53s - loss: 4.0031 - acc: 0.13 - ETA: 53s - loss: 3.9959 - acc: 0.13 - ETA: 53s - loss: 4.0036 - acc: 0.13 - ETA: 53s - loss: 3.9984 - acc: 0.13 - ETA: 53s - loss: 3.9955 - acc: 0.13 - ETA: 53s - loss: 3.9837 - acc: 0.14 - ETA: 54s - loss: 3.9806 - acc: 0.13 - ETA: 54s - loss: 3.9738 - acc: 0.14 - ETA: 54s - loss: 3.9566 - acc: 0.14 - ETA: 54s - loss: 3.9445 - acc: 0.14 - ETA: 54s - loss: 3.9594 - acc: 0.14 - ETA: 54s - loss: 3.9536 - acc: 0.14 - ETA: 54s - loss: 3.9593 - acc: 0.14 - ETA: 54s - loss: 3.9631 - acc: 0.14 - ETA: 54s - loss: 3.9582 - acc: 0.14 - ETA: 53s - loss: 3.9461 - acc: 0.15 - ETA: 53s - loss: 3.9415 - acc: 0.15 - ETA: 53s - loss: 3.9414 - acc: 0.14 - ETA: 53s - loss: 3.9409 - acc: 0.15 - ETA: 54s - loss: 3.9390 - acc: 0.15 - ETA: 53s - loss: 3.9326 - acc: 0.15 - ETA: 53s - loss: 3.9250 - acc: 0.15 - ETA: 53s - loss: 3.9244 - acc: 0.15 - ETA: 52s - loss: 3.9241 - acc: 0.15 - ETA: 53s - loss: 3.9316 - acc: 0.15 - ETA: 53s - loss: 3.9287 - acc: 0.15 - ETA: 53s - loss: 3.9281 - acc: 0.15 - ETA: 53s - loss: 3.9255 - acc: 0.15 - ETA: 53s - loss: 3.9175 - acc: 0.15 - ETA: 53s - loss: 3.9099 - acc: 0.16 - ETA: 53s - loss: 3.9074 - acc: 0.15 - ETA: 52s - loss: 3.8986 - acc: 0.16 - ETA: 52s - loss: 3.8944 - acc: 0.16 - ETA: 52s - loss: 3.8959 - acc: 0.16 - ETA: 51s - loss: 3.8896 - acc: 0.16 - ETA: 51s - loss: 3.8856 - acc: 0.16 - ETA: 51s - loss: 3.8857 - acc: 0.16 - ETA: 51s - loss: 3.8867 - acc: 0.16 - ETA: 50s - loss: 3.8797 - acc: 0.16 - ETA: 50s - loss: 3.8796 - acc: 0.16 - ETA: 50s - loss: 3.8739 - acc: 0.17 - ETA: 49s - loss: 3.8704 - acc: 0.17 - ETA: 49s - loss: 3.8720 - acc: 0.17 - ETA: 49s - loss: 3.8709 - acc: 0.17 - ETA: 49s - loss: 3.8716 - acc: 0.17 - ETA: 48s - loss: 3.8626 - acc: 0.17 - ETA: 48s - loss: 3.8632 - acc: 0.17 - ETA: 48s - loss: 3.8586 - acc: 0.17 - ETA: 48s - loss: 3.8585 - acc: 0.17 - ETA: 47s - loss: 3.8517 - acc: 0.17 - ETA: 47s - loss: 3.8470 - acc: 0.17 - ETA: 47s - loss: 3.8422 - acc: 0.17 - ETA: 47s - loss: 3.8329 - acc: 0.18 - ETA: 46s - loss: 3.8310 - acc: 0.18 - ETA: 46s - loss: 3.8300 - acc: 0.18 - ETA: 46s - loss: 3.8310 - acc: 0.18 - ETA: 45s - loss: 3.8340 - acc: 0.18 - ETA: 45s - loss: 3.8320 - acc: 0.18 - ETA: 45s - loss: 3.8272 - acc: 0.18 - ETA: 45s - loss: 3.8233 - acc: 0.18 - ETA: 44s - loss: 3.8160 - acc: 0.18 - ETA: 44s - loss: 3.8156 - acc: 0.18 - ETA: 44s - loss: 3.8141 - acc: 0.18 - ETA: 44s - loss: 3.8219 - acc: 0.18 - ETA: 44s - loss: 3.8236 - acc: 0.18 - ETA: 43s - loss: 3.8183 - acc: 0.18 - ETA: 43s - loss: 3.8167 - acc: 0.18 - ETA: 43s - loss: 3.8198 - acc: 0.18 - ETA: 43s - loss: 3.8233 - acc: 0.18 - ETA: 43s - loss: 3.8219 - acc: 0.18 - ETA: 43s - loss: 3.8176 - acc: 0.18 - ETA: 43s - loss: 3.8114 - acc: 0.18 - ETA: 42s - loss: 3.8114 - acc: 0.18 - ETA: 42s - loss: 3.8130 - acc: 0.18 - ETA: 42s - loss: 3.8160 - acc: 0.18 - ETA: 42s - loss: 3.8119 - acc: 0.18 - ETA: 42s - loss: 3.8125 - acc: 0.18 - ETA: 42s - loss: 3.8114 - acc: 0.18 - ETA: 42s - loss: 3.8130 - acc: 0.18 - ETA: 41s - loss: 3.8094 - acc: 0.18 - ETA: 41s - loss: 3.8065 - acc: 0.18 - ETA: 41s - loss: 3.8075 - acc: 0.18 - ETA: 41s - loss: 3.8034 - acc: 0.18 - ETA: 41s - loss: 3.8003 - acc: 0.18 - ETA: 41s - loss: 3.8007 - acc: 0.18 - ETA: 40s - loss: 3.8054 - acc: 0.18 - ETA: 40s - loss: 3.8027 - acc: 0.18 - ETA: 40s - loss: 3.8048 - acc: 0.18 - ETA: 40s - loss: 3.8050 - acc: 0.18 - ETA: 40s - loss: 3.8041 - acc: 0.18 - ETA: 39s - loss: 3.8005 - acc: 0.18 - ETA: 39s - loss: 3.8055 - acc: 0.18 - ETA: 39s - loss: 3.8030 - acc: 0.18 - ETA: 39s - loss: 3.8033 - acc: 0.18 - ETA: 39s - loss: 3.8021 - acc: 0.18 - ETA: 38s - loss: 3.8024 - acc: 0.18 - ETA: 38s - loss: 3.8004 - acc: 0.18 - ETA: 38s - loss: 3.7966 - acc: 0.18 - ETA: 38s - loss: 3.7947 - acc: 0.18 - ETA: 38s - loss: 3.7975 - acc: 0.18 - ETA: 38s - loss: 3.7925 - acc: 0.18 - ETA: 37s - loss: 3.7909 - acc: 0.18 - ETA: 37s - loss: 3.7864 - acc: 0.18 - ETA: 37s - loss: 3.7848 - acc: 0.18 - ETA: 37s - loss: 3.7828 - acc: 0.19 - ETA: 36s - loss: 3.7811 - acc: 0.19 - ETA: 36s - loss: 3.7780 - acc: 0.19 - ETA: 36s - loss: 3.7757 - acc: 0.19 - ETA: 36s - loss: 3.7712 - acc: 0.19 - ETA: 36s - loss: 3.7722 - acc: 0.19 - ETA: 36s - loss: 3.7707 - acc: 0.19 - ETA: 35s - loss: 3.7654 - acc: 0.19 - ETA: 35s - loss: 3.7647 - acc: 0.19 - ETA: 35s - loss: 3.7625 - acc: 0.19 - ETA: 35s - loss: 3.7602 - acc: 0.19 - ETA: 35s - loss: 3.7652 - acc: 0.19 - ETA: 34s - loss: 3.7662 - acc: 0.19 - ETA: 34s - loss: 3.7640 - acc: 0.19 - ETA: 34s - loss: 3.7650 - acc: 0.19 - ETA: 34s - loss: 3.7641 - acc: 0.19 - ETA: 34s - loss: 3.7598 - acc: 0.19 - ETA: 33s - loss: 3.7588 - acc: 0.19 - ETA: 33s - loss: 3.7550 - acc: 0.19 - ETA: 33s - loss: 3.7581 - acc: 0.19 - ETA: 33s - loss: 3.7571 - acc: 0.19 - ETA: 33s - loss: 3.7607 - acc: 0.19 - ETA: 32s - loss: 3.7635 - acc: 0.19 - ETA: 32s - loss: 3.7638 - acc: 0.19 - ETA: 32s - loss: 3.7655 - acc: 0.18 - ETA: 32s - loss: 3.7663 - acc: 0.18 - ETA: 32s - loss: 3.7636 - acc: 0.19 - ETA: 31s - loss: 3.7649 - acc: 0.19 - ETA: 31s - loss: 3.7607 - acc: 0.19 - ETA: 31s - loss: 3.7593 - acc: 0.19 - ETA: 31s - loss: 3.7591 - acc: 0.19 - ETA: 31s - loss: 3.7576 - acc: 0.19 - ETA: 30s - loss: 3.7568 - acc: 0.19 - ETA: 30s - loss: 3.7534 - acc: 0.19 - ETA: 30s - loss: 3.7527 - acc: 0.19 - ETA: 30s - loss: 3.7508 - acc: 0.19 - ETA: 30s - loss: 3.7472 - acc: 0.19 - ETA: 29s - loss: 3.7450 - acc: 0.19 - ETA: 29s - loss: 3.7441 - acc: 0.19 - ETA: 29s - loss: 3.7434 - acc: 0.19 - ETA: 29s - loss: 3.7400 - acc: 0.19 - ETA: 29s - loss: 3.7398 - acc: 0.19 - ETA: 28s - loss: 3.7396 - acc: 0.19 - ETA: 28s - loss: 3.7450 - acc: 0.19 - ETA: 28s - loss: 3.7454 - acc: 0.19 - ETA: 28s - loss: 3.7460 - acc: 0.19 - ETA: 27s - loss: 3.7450 - acc: 0.19 - ETA: 27s - loss: 3.7422 - acc: 0.19 - ETA: 27s - loss: 3.7411 - acc: 0.19 - ETA: 27s - loss: 3.7387 - acc: 0.19 - ETA: 27s - loss: 3.7393 - acc: 0.19 - ETA: 26s - loss: 3.7370 - acc: 0.19 - ETA: 26s - loss: 3.7355 - acc: 0.19 - ETA: 26s - loss: 3.7334 - acc: 0.19 - ETA: 26s - loss: 3.7282 - acc: 0.19 - ETA: 26s - loss: 3.7273 - acc: 0.19 - ETA: 25s - loss: 3.7271 - acc: 0.19 - ETA: 25s - loss: 3.7226 - acc: 0.20 - ETA: 25s - loss: 3.7225 - acc: 0.19 - ETA: 25s - loss: 3.7178 - acc: 0.20 - ETA: 25s - loss: 3.7145 - acc: 0.20 - ETA: 24s - loss: 3.7147 - acc: 0.20 - ETA: 24s - loss: 3.7115 - acc: 0.20 - ETA: 24s - loss: 3.7086 - acc: 0.20 - ETA: 24s - loss: 3.7049 - acc: 0.20 - ETA: 24s - loss: 3.6979 - acc: 0.20 - ETA: 23s - loss: 3.7023 - acc: 0.20 - ETA: 23s - loss: 3.7023 - acc: 0.20 - ETA: 23s - loss: 3.7031 - acc: 0.20 - ETA: 23s - loss: 3.7019 - acc: 0.20 - ETA: 23s - loss: 3.6995 - acc: 0.20 - ETA: 22s - loss: 3.7000 - acc: 0.20 - ETA: 22s - loss: 3.7028 - acc: 0.20 - ETA: 22s - loss: 3.7002 - acc: 0.2033"
     ]
    },
    {
     "name": "stdout",
     "output_type": "stream",
     "text": [
      "6680/6680 [==============================] - ETA: 22s - loss: 3.6999 - acc: 0.20 - ETA: 22s - loss: 3.6965 - acc: 0.20 - ETA: 21s - loss: 3.6956 - acc: 0.20 - ETA: 21s - loss: 3.6954 - acc: 0.20 - ETA: 21s - loss: 3.6950 - acc: 0.20 - ETA: 21s - loss: 3.6949 - acc: 0.20 - ETA: 21s - loss: 3.6945 - acc: 0.20 - ETA: 20s - loss: 3.6907 - acc: 0.20 - ETA: 20s - loss: 3.6863 - acc: 0.20 - ETA: 20s - loss: 3.6847 - acc: 0.20 - ETA: 20s - loss: 3.6796 - acc: 0.20 - ETA: 20s - loss: 3.6792 - acc: 0.20 - ETA: 19s - loss: 3.6770 - acc: 0.20 - ETA: 19s - loss: 3.6721 - acc: 0.20 - ETA: 19s - loss: 3.6733 - acc: 0.20 - ETA: 19s - loss: 3.6722 - acc: 0.20 - ETA: 19s - loss: 3.6730 - acc: 0.20 - ETA: 19s - loss: 3.6754 - acc: 0.20 - ETA: 18s - loss: 3.6733 - acc: 0.20 - ETA: 18s - loss: 3.6807 - acc: 0.20 - ETA: 18s - loss: 3.6805 - acc: 0.20 - ETA: 18s - loss: 3.6783 - acc: 0.20 - ETA: 18s - loss: 3.6813 - acc: 0.20 - ETA: 17s - loss: 3.6814 - acc: 0.20 - ETA: 17s - loss: 3.6798 - acc: 0.20 - ETA: 17s - loss: 3.6809 - acc: 0.20 - ETA: 17s - loss: 3.6820 - acc: 0.20 - ETA: 17s - loss: 3.6812 - acc: 0.20 - ETA: 16s - loss: 3.6798 - acc: 0.20 - ETA: 16s - loss: 3.6787 - acc: 0.20 - ETA: 16s - loss: 3.6765 - acc: 0.20 - ETA: 16s - loss: 3.6788 - acc: 0.20 - ETA: 16s - loss: 3.6813 - acc: 0.20 - ETA: 16s - loss: 3.6794 - acc: 0.20 - ETA: 15s - loss: 3.6780 - acc: 0.20 - ETA: 15s - loss: 3.6760 - acc: 0.20 - ETA: 15s - loss: 3.6720 - acc: 0.20 - ETA: 15s - loss: 3.6732 - acc: 0.20 - ETA: 15s - loss: 3.6729 - acc: 0.20 - ETA: 14s - loss: 3.6741 - acc: 0.20 - ETA: 14s - loss: 3.6739 - acc: 0.20 - ETA: 14s - loss: 3.6716 - acc: 0.20 - ETA: 14s - loss: 3.6704 - acc: 0.20 - ETA: 14s - loss: 3.6697 - acc: 0.20 - ETA: 13s - loss: 3.6694 - acc: 0.20 - ETA: 13s - loss: 3.6707 - acc: 0.20 - ETA: 13s - loss: 3.6702 - acc: 0.20 - ETA: 13s - loss: 3.6706 - acc: 0.20 - ETA: 13s - loss: 3.6703 - acc: 0.20 - ETA: 12s - loss: 3.6693 - acc: 0.20 - ETA: 12s - loss: 3.6661 - acc: 0.20 - ETA: 12s - loss: 3.6634 - acc: 0.20 - ETA: 12s - loss: 3.6632 - acc: 0.20 - ETA: 12s - loss: 3.6651 - acc: 0.20 - ETA: 12s - loss: 3.6646 - acc: 0.20 - ETA: 11s - loss: 3.6630 - acc: 0.20 - ETA: 11s - loss: 3.6623 - acc: 0.20 - ETA: 11s - loss: 3.6624 - acc: 0.20 - ETA: 11s - loss: 3.6622 - acc: 0.20 - ETA: 11s - loss: 3.6578 - acc: 0.20 - ETA: 10s - loss: 3.6592 - acc: 0.20 - ETA: 10s - loss: 3.6587 - acc: 0.20 - ETA: 10s - loss: 3.6579 - acc: 0.20 - ETA: 10s - loss: 3.6583 - acc: 0.20 - ETA: 10s - loss: 3.6581 - acc: 0.20 - ETA: 10s - loss: 3.6580 - acc: 0.20 - ETA: 9s - loss: 3.6579 - acc: 0.2077 - ETA: 9s - loss: 3.6575 - acc: 0.208 - ETA: 9s - loss: 3.6574 - acc: 0.208 - ETA: 9s - loss: 3.6590 - acc: 0.207 - ETA: 9s - loss: 3.6575 - acc: 0.208 - ETA: 8s - loss: 3.6580 - acc: 0.208 - ETA: 8s - loss: 3.6569 - acc: 0.208 - ETA: 8s - loss: 3.6579 - acc: 0.208 - ETA: 8s - loss: 3.6574 - acc: 0.208 - ETA: 8s - loss: 3.6576 - acc: 0.208 - ETA: 8s - loss: 3.6563 - acc: 0.207 - ETA: 7s - loss: 3.6532 - acc: 0.208 - ETA: 7s - loss: 3.6532 - acc: 0.208 - ETA: 7s - loss: 3.6532 - acc: 0.208 - ETA: 7s - loss: 3.6565 - acc: 0.208 - ETA: 7s - loss: 3.6538 - acc: 0.209 - ETA: 6s - loss: 3.6513 - acc: 0.209 - ETA: 6s - loss: 3.6518 - acc: 0.208 - ETA: 6s - loss: 3.6505 - acc: 0.208 - ETA: 6s - loss: 3.6507 - acc: 0.208 - ETA: 6s - loss: 3.6486 - acc: 0.209 - ETA: 5s - loss: 3.6469 - acc: 0.209 - ETA: 5s - loss: 3.6466 - acc: 0.209 - ETA: 5s - loss: 3.6453 - acc: 0.209 - ETA: 5s - loss: 3.6456 - acc: 0.209 - ETA: 5s - loss: 3.6456 - acc: 0.209 - ETA: 5s - loss: 3.6438 - acc: 0.209 - ETA: 4s - loss: 3.6434 - acc: 0.209 - ETA: 4s - loss: 3.6433 - acc: 0.209 - ETA: 4s - loss: 3.6419 - acc: 0.210 - ETA: 4s - loss: 3.6414 - acc: 0.210 - ETA: 4s - loss: 3.6419 - acc: 0.209 - ETA: 3s - loss: 3.6410 - acc: 0.209 - ETA: 3s - loss: 3.6391 - acc: 0.209 - ETA: 3s - loss: 3.6399 - acc: 0.209 - ETA: 3s - loss: 3.6403 - acc: 0.210 - ETA: 3s - loss: 3.6431 - acc: 0.209 - ETA: 2s - loss: 3.6432 - acc: 0.209 - ETA: 2s - loss: 3.6424 - acc: 0.210 - ETA: 2s - loss: 3.6420 - acc: 0.210 - ETA: 2s - loss: 3.6425 - acc: 0.209 - ETA: 2s - loss: 3.6411 - acc: 0.210 - ETA: 2s - loss: 3.6421 - acc: 0.209 - ETA: 1s - loss: 3.6420 - acc: 0.209 - ETA: 1s - loss: 3.6409 - acc: 0.209 - ETA: 1s - loss: 3.6415 - acc: 0.209 - ETA: 1s - loss: 3.6406 - acc: 0.209 - ETA: 1s - loss: 3.6431 - acc: 0.209 - ETA: 0s - loss: 3.6433 - acc: 0.209 - ETA: 0s - loss: 3.6428 - acc: 0.209 - ETA: 0s - loss: 3.6425 - acc: 0.209 - ETA: 0s - loss: 3.6405 - acc: 0.209 - ETA: 0s - loss: 3.6417 - acc: 0.209 - 64s 10ms/step - loss: 3.6397 - acc: 0.2099 - val_loss: 4.9835 - val_acc: 0.0647\n",
      "Epoch 3/5\n"
     ]
    },
    {
     "name": "stdout",
     "output_type": "stream",
     "text": [
      "4300/6680 [==================>...........] - ETA: 49s - loss: 2.4953 - acc: 0.60 - ETA: 50s - loss: 2.1756 - acc: 0.60 - ETA: 51s - loss: 1.9312 - acc: 0.65 - ETA: 51s - loss: 1.9635 - acc: 0.62 - ETA: 50s - loss: 1.9174 - acc: 0.65 - ETA: 50s - loss: 1.8683 - acc: 0.65 - ETA: 50s - loss: 2.0190 - acc: 0.61 - ETA: 50s - loss: 2.0333 - acc: 0.61 - ETA: 51s - loss: 2.0547 - acc: 0.60 - ETA: 51s - loss: 1.9792 - acc: 0.62 - ETA: 52s - loss: 2.0364 - acc: 0.60 - ETA: 53s - loss: 2.0015 - acc: 0.61 - ETA: 54s - loss: 1.9431 - acc: 0.62 - ETA: 54s - loss: 1.8940 - acc: 0.63 - ETA: 54s - loss: 1.9154 - acc: 0.62 - ETA: 54s - loss: 1.8979 - acc: 0.61 - ETA: 54s - loss: 1.9047 - acc: 0.60 - ETA: 54s - loss: 1.8949 - acc: 0.61 - ETA: 53s - loss: 1.8699 - acc: 0.62 - ETA: 53s - loss: 1.8640 - acc: 0.62 - ETA: 53s - loss: 1.8524 - acc: 0.62 - ETA: 52s - loss: 1.8310 - acc: 0.62 - ETA: 52s - loss: 1.8172 - acc: 0.62 - ETA: 53s - loss: 1.8164 - acc: 0.62 - ETA: 53s - loss: 1.8078 - acc: 0.61 - ETA: 53s - loss: 1.7947 - acc: 0.61 - ETA: 53s - loss: 1.8190 - acc: 0.60 - ETA: 53s - loss: 1.8124 - acc: 0.60 - ETA: 54s - loss: 1.8090 - acc: 0.60 - ETA: 54s - loss: 1.8038 - acc: 0.60 - ETA: 53s - loss: 1.8009 - acc: 0.60 - ETA: 53s - loss: 1.7823 - acc: 0.60 - ETA: 53s - loss: 1.7828 - acc: 0.60 - ETA: 52s - loss: 1.7988 - acc: 0.60 - ETA: 52s - loss: 1.7989 - acc: 0.60 - ETA: 52s - loss: 1.8112 - acc: 0.59 - ETA: 51s - loss: 1.7922 - acc: 0.60 - ETA: 51s - loss: 1.7900 - acc: 0.60 - ETA: 51s - loss: 1.7948 - acc: 0.59 - ETA: 51s - loss: 1.7969 - acc: 0.59 - ETA: 50s - loss: 1.7970 - acc: 0.59 - ETA: 50s - loss: 1.7951 - acc: 0.60 - ETA: 50s - loss: 1.7796 - acc: 0.60 - ETA: 50s - loss: 1.8031 - acc: 0.60 - ETA: 49s - loss: 1.8229 - acc: 0.59 - ETA: 49s - loss: 1.8067 - acc: 0.59 - ETA: 49s - loss: 1.7985 - acc: 0.59 - ETA: 49s - loss: 1.7926 - acc: 0.59 - ETA: 49s - loss: 1.8186 - acc: 0.59 - ETA: 49s - loss: 1.8056 - acc: 0.59 - ETA: 50s - loss: 1.8158 - acc: 0.59 - ETA: 50s - loss: 1.8128 - acc: 0.59 - ETA: 50s - loss: 1.8122 - acc: 0.59 - ETA: 51s - loss: 1.8092 - acc: 0.59 - ETA: 51s - loss: 1.8123 - acc: 0.59 - ETA: 51s - loss: 1.8108 - acc: 0.59 - ETA: 51s - loss: 1.8000 - acc: 0.59 - ETA: 50s - loss: 1.8054 - acc: 0.59 - ETA: 50s - loss: 1.8034 - acc: 0.59 - ETA: 50s - loss: 1.8042 - acc: 0.59 - ETA: 49s - loss: 1.8140 - acc: 0.59 - ETA: 49s - loss: 1.8080 - acc: 0.59 - ETA: 49s - loss: 1.8049 - acc: 0.59 - ETA: 49s - loss: 1.8016 - acc: 0.59 - ETA: 49s - loss: 1.8084 - acc: 0.59 - ETA: 49s - loss: 1.8001 - acc: 0.59 - ETA: 48s - loss: 1.7920 - acc: 0.59 - ETA: 48s - loss: 1.7881 - acc: 0.59 - ETA: 48s - loss: 1.7811 - acc: 0.59 - ETA: 48s - loss: 1.7727 - acc: 0.59 - ETA: 48s - loss: 1.7697 - acc: 0.59 - ETA: 47s - loss: 1.7586 - acc: 0.60 - ETA: 47s - loss: 1.7517 - acc: 0.60 - ETA: 47s - loss: 1.7553 - acc: 0.60 - ETA: 47s - loss: 1.7576 - acc: 0.59 - ETA: 46s - loss: 1.7604 - acc: 0.59 - ETA: 46s - loss: 1.7601 - acc: 0.59 - ETA: 46s - loss: 1.7548 - acc: 0.60 - ETA: 46s - loss: 1.7615 - acc: 0.60 - ETA: 45s - loss: 1.7701 - acc: 0.59 - ETA: 45s - loss: 1.7642 - acc: 0.60 - ETA: 45s - loss: 1.7605 - acc: 0.60 - ETA: 45s - loss: 1.7549 - acc: 0.60 - ETA: 45s - loss: 1.7456 - acc: 0.60 - ETA: 44s - loss: 1.7503 - acc: 0.60 - ETA: 44s - loss: 1.7521 - acc: 0.60 - ETA: 44s - loss: 1.7510 - acc: 0.60 - ETA: 44s - loss: 1.7471 - acc: 0.60 - ETA: 43s - loss: 1.7469 - acc: 0.60 - ETA: 43s - loss: 1.7489 - acc: 0.60 - ETA: 43s - loss: 1.7426 - acc: 0.60 - ETA: 43s - loss: 1.7479 - acc: 0.60 - ETA: 43s - loss: 1.7535 - acc: 0.59 - ETA: 42s - loss: 1.7462 - acc: 0.60 - ETA: 42s - loss: 1.7407 - acc: 0.60 - ETA: 42s - loss: 1.7375 - acc: 0.60 - ETA: 42s - loss: 1.7350 - acc: 0.60 - ETA: 42s - loss: 1.7302 - acc: 0.60 - ETA: 42s - loss: 1.7294 - acc: 0.60 - ETA: 41s - loss: 1.7333 - acc: 0.60 - ETA: 41s - loss: 1.7430 - acc: 0.60 - ETA: 41s - loss: 1.7433 - acc: 0.60 - ETA: 41s - loss: 1.7446 - acc: 0.60 - ETA: 40s - loss: 1.7437 - acc: 0.60 - ETA: 40s - loss: 1.7395 - acc: 0.60 - ETA: 40s - loss: 1.7375 - acc: 0.60 - ETA: 40s - loss: 1.7353 - acc: 0.60 - ETA: 40s - loss: 1.7303 - acc: 0.60 - ETA: 39s - loss: 1.7283 - acc: 0.60 - ETA: 39s - loss: 1.7219 - acc: 0.60 - ETA: 39s - loss: 1.7182 - acc: 0.60 - ETA: 39s - loss: 1.7158 - acc: 0.60 - ETA: 39s - loss: 1.7140 - acc: 0.60 - ETA: 38s - loss: 1.7184 - acc: 0.60 - ETA: 38s - loss: 1.7211 - acc: 0.60 - ETA: 38s - loss: 1.7192 - acc: 0.60 - ETA: 38s - loss: 1.7215 - acc: 0.60 - ETA: 38s - loss: 1.7184 - acc: 0.60 - ETA: 37s - loss: 1.7284 - acc: 0.60 - ETA: 37s - loss: 1.7334 - acc: 0.60 - ETA: 37s - loss: 1.7351 - acc: 0.60 - ETA: 37s - loss: 1.7324 - acc: 0.60 - ETA: 37s - loss: 1.7297 - acc: 0.60 - ETA: 36s - loss: 1.7299 - acc: 0.60 - ETA: 36s - loss: 1.7300 - acc: 0.60 - ETA: 36s - loss: 1.7268 - acc: 0.60 - ETA: 36s - loss: 1.7278 - acc: 0.60 - ETA: 36s - loss: 1.7216 - acc: 0.60 - ETA: 36s - loss: 1.7217 - acc: 0.60 - ETA: 35s - loss: 1.7214 - acc: 0.60 - ETA: 35s - loss: 1.7235 - acc: 0.60 - ETA: 35s - loss: 1.7325 - acc: 0.60 - ETA: 35s - loss: 1.7415 - acc: 0.60 - ETA: 35s - loss: 1.7329 - acc: 0.60 - ETA: 34s - loss: 1.7340 - acc: 0.60 - ETA: 34s - loss: 1.7415 - acc: 0.60 - ETA: 34s - loss: 1.7402 - acc: 0.60 - ETA: 34s - loss: 1.7419 - acc: 0.60 - ETA: 34s - loss: 1.7391 - acc: 0.60 - ETA: 33s - loss: 1.7352 - acc: 0.60 - ETA: 33s - loss: 1.7304 - acc: 0.60 - ETA: 33s - loss: 1.7307 - acc: 0.60 - ETA: 33s - loss: 1.7259 - acc: 0.60 - ETA: 33s - loss: 1.7234 - acc: 0.60 - ETA: 32s - loss: 1.7243 - acc: 0.60 - ETA: 32s - loss: 1.7179 - acc: 0.61 - ETA: 32s - loss: 1.7172 - acc: 0.60 - ETA: 32s - loss: 1.7125 - acc: 0.61 - ETA: 32s - loss: 1.7143 - acc: 0.61 - ETA: 32s - loss: 1.7131 - acc: 0.61 - ETA: 31s - loss: 1.7161 - acc: 0.60 - ETA: 31s - loss: 1.7144 - acc: 0.60 - ETA: 31s - loss: 1.7118 - acc: 0.60 - ETA: 31s - loss: 1.7117 - acc: 0.60 - ETA: 31s - loss: 1.7177 - acc: 0.60 - ETA: 30s - loss: 1.7154 - acc: 0.60 - ETA: 30s - loss: 1.7107 - acc: 0.61 - ETA: 30s - loss: 1.7136 - acc: 0.60 - ETA: 30s - loss: 1.7126 - acc: 0.60 - ETA: 30s - loss: 1.7120 - acc: 0.61 - ETA: 29s - loss: 1.7100 - acc: 0.60 - ETA: 29s - loss: 1.7114 - acc: 0.60 - ETA: 29s - loss: 1.7149 - acc: 0.60 - ETA: 29s - loss: 1.7121 - acc: 0.60 - ETA: 29s - loss: 1.7155 - acc: 0.60 - ETA: 29s - loss: 1.7134 - acc: 0.60 - ETA: 28s - loss: 1.7142 - acc: 0.60 - ETA: 28s - loss: 1.7092 - acc: 0.60 - ETA: 28s - loss: 1.7095 - acc: 0.60 - ETA: 28s - loss: 1.7086 - acc: 0.60 - ETA: 28s - loss: 1.7089 - acc: 0.60 - ETA: 27s - loss: 1.7122 - acc: 0.60 - ETA: 27s - loss: 1.7230 - acc: 0.60 - ETA: 27s - loss: 1.7301 - acc: 0.60 - ETA: 27s - loss: 1.7309 - acc: 0.60 - ETA: 27s - loss: 1.7295 - acc: 0.60 - ETA: 27s - loss: 1.7328 - acc: 0.60 - ETA: 26s - loss: 1.7300 - acc: 0.60 - ETA: 26s - loss: 1.7283 - acc: 0.60 - ETA: 26s - loss: 1.7278 - acc: 0.60 - ETA: 26s - loss: 1.7209 - acc: 0.60 - ETA: 26s - loss: 1.7192 - acc: 0.60 - ETA: 25s - loss: 1.7198 - acc: 0.60 - ETA: 25s - loss: 1.7201 - acc: 0.60 - ETA: 25s - loss: 1.7160 - acc: 0.60 - ETA: 25s - loss: 1.7143 - acc: 0.60 - ETA: 25s - loss: 1.7104 - acc: 0.61 - ETA: 25s - loss: 1.7101 - acc: 0.61 - ETA: 24s - loss: 1.7120 - acc: 0.60 - ETA: 24s - loss: 1.7086 - acc: 0.61 - ETA: 24s - loss: 1.7070 - acc: 0.60 - ETA: 24s - loss: 1.7074 - acc: 0.60 - ETA: 24s - loss: 1.7086 - acc: 0.60 - ETA: 24s - loss: 1.7087 - acc: 0.60 - ETA: 23s - loss: 1.7088 - acc: 0.60 - ETA: 23s - loss: 1.7066 - acc: 0.60 - ETA: 23s - loss: 1.7075 - acc: 0.60 - ETA: 23s - loss: 1.7088 - acc: 0.60 - ETA: 23s - loss: 1.7088 - acc: 0.60 - ETA: 23s - loss: 1.7081 - acc: 0.60 - ETA: 22s - loss: 1.7064 - acc: 0.60 - ETA: 22s - loss: 1.7081 - acc: 0.60 - ETA: 22s - loss: 1.7069 - acc: 0.60 - ETA: 22s - loss: 1.7026 - acc: 0.61 - ETA: 22s - loss: 1.7029 - acc: 0.60 - ETA: 21s - loss: 1.7021 - acc: 0.61 - ETA: 21s - loss: 1.7050 - acc: 0.60 - ETA: 21s - loss: 1.7068 - acc: 0.60 - ETA: 21s - loss: 1.7054 - acc: 0.60 - ETA: 21s - loss: 1.7080 - acc: 0.60 - ETA: 21s - loss: 1.7076 - acc: 0.60 - ETA: 20s - loss: 1.7083 - acc: 0.60 - ETA: 20s - loss: 1.7059 - acc: 0.60 - ETA: 20s - loss: 1.7064 - acc: 0.60 - ETA: 20s - loss: 1.7078 - acc: 0.6079"
     ]
    },
    {
     "name": "stdout",
     "output_type": "stream",
     "text": [
      "6680/6680 [==============================] - ETA: 20s - loss: 1.7056 - acc: 0.60 - ETA: 20s - loss: 1.7058 - acc: 0.60 - ETA: 19s - loss: 1.7054 - acc: 0.60 - ETA: 19s - loss: 1.7081 - acc: 0.60 - ETA: 19s - loss: 1.7093 - acc: 0.60 - ETA: 19s - loss: 1.7059 - acc: 0.60 - ETA: 19s - loss: 1.7036 - acc: 0.60 - ETA: 18s - loss: 1.7032 - acc: 0.60 - ETA: 18s - loss: 1.7027 - acc: 0.60 - ETA: 18s - loss: 1.7049 - acc: 0.60 - ETA: 18s - loss: 1.7029 - acc: 0.60 - ETA: 18s - loss: 1.7057 - acc: 0.60 - ETA: 18s - loss: 1.7055 - acc: 0.60 - ETA: 17s - loss: 1.7052 - acc: 0.60 - ETA: 17s - loss: 1.7063 - acc: 0.60 - ETA: 17s - loss: 1.7058 - acc: 0.60 - ETA: 17s - loss: 1.7060 - acc: 0.60 - ETA: 17s - loss: 1.7061 - acc: 0.60 - ETA: 17s - loss: 1.7075 - acc: 0.60 - ETA: 16s - loss: 1.7073 - acc: 0.60 - ETA: 16s - loss: 1.7079 - acc: 0.60 - ETA: 16s - loss: 1.7056 - acc: 0.60 - ETA: 16s - loss: 1.7035 - acc: 0.60 - ETA: 16s - loss: 1.7018 - acc: 0.60 - ETA: 16s - loss: 1.7012 - acc: 0.60 - ETA: 15s - loss: 1.7005 - acc: 0.60 - ETA: 15s - loss: 1.7000 - acc: 0.60 - ETA: 15s - loss: 1.6967 - acc: 0.60 - ETA: 15s - loss: 1.7009 - acc: 0.60 - ETA: 15s - loss: 1.6982 - acc: 0.61 - ETA: 15s - loss: 1.6977 - acc: 0.61 - ETA: 14s - loss: 1.6981 - acc: 0.60 - ETA: 14s - loss: 1.6970 - acc: 0.60 - ETA: 14s - loss: 1.7002 - acc: 0.60 - ETA: 14s - loss: 1.7043 - acc: 0.60 - ETA: 14s - loss: 1.7036 - acc: 0.60 - ETA: 14s - loss: 1.7008 - acc: 0.60 - ETA: 13s - loss: 1.7009 - acc: 0.60 - ETA: 13s - loss: 1.6994 - acc: 0.60 - ETA: 13s - loss: 1.6999 - acc: 0.60 - ETA: 13s - loss: 1.7025 - acc: 0.60 - ETA: 13s - loss: 1.7050 - acc: 0.60 - ETA: 13s - loss: 1.7044 - acc: 0.60 - ETA: 12s - loss: 1.7057 - acc: 0.60 - ETA: 12s - loss: 1.7060 - acc: 0.60 - ETA: 12s - loss: 1.7075 - acc: 0.60 - ETA: 12s - loss: 1.7104 - acc: 0.60 - ETA: 12s - loss: 1.7108 - acc: 0.60 - ETA: 12s - loss: 1.7112 - acc: 0.60 - ETA: 11s - loss: 1.7118 - acc: 0.60 - ETA: 11s - loss: 1.7130 - acc: 0.60 - ETA: 11s - loss: 1.7102 - acc: 0.60 - ETA: 11s - loss: 1.7082 - acc: 0.60 - ETA: 11s - loss: 1.7078 - acc: 0.60 - ETA: 10s - loss: 1.7087 - acc: 0.60 - ETA: 10s - loss: 1.7082 - acc: 0.60 - ETA: 10s - loss: 1.7074 - acc: 0.60 - ETA: 10s - loss: 1.7069 - acc: 0.60 - ETA: 10s - loss: 1.7091 - acc: 0.60 - ETA: 10s - loss: 1.7094 - acc: 0.60 - ETA: 9s - loss: 1.7104 - acc: 0.6053 - ETA: 9s - loss: 1.7149 - acc: 0.604 - ETA: 9s - loss: 1.7158 - acc: 0.604 - ETA: 9s - loss: 1.7128 - acc: 0.604 - ETA: 9s - loss: 1.7160 - acc: 0.603 - ETA: 9s - loss: 1.7135 - acc: 0.604 - ETA: 8s - loss: 1.7162 - acc: 0.604 - ETA: 8s - loss: 1.7134 - acc: 0.604 - ETA: 8s - loss: 1.7107 - acc: 0.605 - ETA: 8s - loss: 1.7085 - acc: 0.606 - ETA: 8s - loss: 1.7121 - acc: 0.605 - ETA: 8s - loss: 1.7115 - acc: 0.605 - ETA: 7s - loss: 1.7122 - acc: 0.605 - ETA: 7s - loss: 1.7119 - acc: 0.605 - ETA: 7s - loss: 1.7138 - acc: 0.605 - ETA: 7s - loss: 1.7149 - acc: 0.605 - ETA: 7s - loss: 1.7153 - acc: 0.605 - ETA: 7s - loss: 1.7138 - acc: 0.605 - ETA: 6s - loss: 1.7141 - acc: 0.605 - ETA: 6s - loss: 1.7139 - acc: 0.605 - ETA: 6s - loss: 1.7126 - acc: 0.605 - ETA: 6s - loss: 1.7107 - acc: 0.605 - ETA: 6s - loss: 1.7102 - acc: 0.606 - ETA: 5s - loss: 1.7117 - acc: 0.605 - ETA: 5s - loss: 1.7125 - acc: 0.605 - ETA: 5s - loss: 1.7121 - acc: 0.605 - ETA: 5s - loss: 1.7126 - acc: 0.605 - ETA: 5s - loss: 1.7127 - acc: 0.605 - ETA: 5s - loss: 1.7137 - acc: 0.605 - ETA: 4s - loss: 1.7116 - acc: 0.605 - ETA: 4s - loss: 1.7114 - acc: 0.605 - ETA: 4s - loss: 1.7112 - acc: 0.605 - ETA: 4s - loss: 1.7121 - acc: 0.605 - ETA: 4s - loss: 1.7147 - acc: 0.604 - ETA: 4s - loss: 1.7141 - acc: 0.604 - ETA: 3s - loss: 1.7157 - acc: 0.604 - ETA: 3s - loss: 1.7166 - acc: 0.604 - ETA: 3s - loss: 1.7173 - acc: 0.603 - ETA: 3s - loss: 1.7160 - acc: 0.604 - ETA: 3s - loss: 1.7160 - acc: 0.604 - ETA: 3s - loss: 1.7170 - acc: 0.603 - ETA: 2s - loss: 1.7162 - acc: 0.604 - ETA: 2s - loss: 1.7141 - acc: 0.604 - ETA: 2s - loss: 1.7131 - acc: 0.604 - ETA: 2s - loss: 1.7133 - acc: 0.604 - ETA: 2s - loss: 1.7117 - acc: 0.604 - ETA: 2s - loss: 1.7121 - acc: 0.604 - ETA: 1s - loss: 1.7110 - acc: 0.604 - ETA: 1s - loss: 1.7106 - acc: 0.604 - ETA: 1s - loss: 1.7085 - acc: 0.605 - ETA: 1s - loss: 1.7071 - acc: 0.605 - ETA: 1s - loss: 1.7060 - acc: 0.605 - ETA: 1s - loss: 1.7059 - acc: 0.605 - ETA: 0s - loss: 1.7052 - acc: 0.605 - ETA: 0s - loss: 1.7042 - acc: 0.605 - ETA: 0s - loss: 1.7040 - acc: 0.606 - ETA: 0s - loss: 1.7062 - acc: 0.605 - ETA: 0s - loss: 1.7064 - acc: 0.605 - 59s 9ms/step - loss: 1.7089 - acc: 0.6049 - val_loss: 6.0971 - val_acc: 0.0527\n",
      "Epoch 4/5\n"
     ]
    },
    {
     "name": "stdout",
     "output_type": "stream",
     "text": [
      "4300/6680 [==================>...........] - ETA: 52s - loss: 0.6659 - acc: 0.80 - ETA: 51s - loss: 0.8109 - acc: 0.80 - ETA: 51s - loss: 0.8246 - acc: 0.81 - ETA: 54s - loss: 0.8983 - acc: 0.80 - ETA: 53s - loss: 0.9374 - acc: 0.77 - ETA: 53s - loss: 0.8804 - acc: 0.79 - ETA: 53s - loss: 0.8303 - acc: 0.80 - ETA: 52s - loss: 0.7908 - acc: 0.82 - ETA: 52s - loss: 0.7919 - acc: 0.82 - ETA: 52s - loss: 0.8259 - acc: 0.83 - ETA: 52s - loss: 0.8419 - acc: 0.82 - ETA: 53s - loss: 0.8379 - acc: 0.82 - ETA: 52s - loss: 0.8376 - acc: 0.82 - ETA: 52s - loss: 0.7984 - acc: 0.83 - ETA: 52s - loss: 0.7678 - acc: 0.83 - ETA: 52s - loss: 0.7939 - acc: 0.82 - ETA: 52s - loss: 0.7846 - acc: 0.82 - ETA: 51s - loss: 0.7662 - acc: 0.83 - ETA: 51s - loss: 0.7619 - acc: 0.83 - ETA: 51s - loss: 0.7427 - acc: 0.83 - ETA: 50s - loss: 0.7269 - acc: 0.83 - ETA: 50s - loss: 0.7234 - acc: 0.83 - ETA: 50s - loss: 0.7293 - acc: 0.83 - ETA: 50s - loss: 0.7329 - acc: 0.83 - ETA: 50s - loss: 0.7207 - acc: 0.83 - ETA: 49s - loss: 0.7042 - acc: 0.84 - ETA: 49s - loss: 0.6873 - acc: 0.84 - ETA: 49s - loss: 0.6787 - acc: 0.84 - ETA: 49s - loss: 0.6794 - acc: 0.84 - ETA: 49s - loss: 0.6642 - acc: 0.84 - ETA: 49s - loss: 0.6594 - acc: 0.84 - ETA: 49s - loss: 0.6562 - acc: 0.84 - ETA: 49s - loss: 0.6540 - acc: 0.84 - ETA: 49s - loss: 0.6507 - acc: 0.84 - ETA: 48s - loss: 0.6403 - acc: 0.84 - ETA: 48s - loss: 0.6530 - acc: 0.84 - ETA: 48s - loss: 0.6731 - acc: 0.84 - ETA: 48s - loss: 0.6941 - acc: 0.83 - ETA: 48s - loss: 0.6980 - acc: 0.83 - ETA: 48s - loss: 0.7057 - acc: 0.83 - ETA: 48s - loss: 0.7204 - acc: 0.83 - ETA: 47s - loss: 0.7192 - acc: 0.83 - ETA: 47s - loss: 0.7068 - acc: 0.83 - ETA: 47s - loss: 0.7121 - acc: 0.83 - ETA: 47s - loss: 0.7034 - acc: 0.83 - ETA: 47s - loss: 0.6962 - acc: 0.83 - ETA: 47s - loss: 0.6959 - acc: 0.83 - ETA: 46s - loss: 0.6888 - acc: 0.84 - ETA: 46s - loss: 0.6832 - acc: 0.84 - ETA: 46s - loss: 0.6792 - acc: 0.84 - ETA: 46s - loss: 0.6774 - acc: 0.84 - ETA: 46s - loss: 0.6730 - acc: 0.84 - ETA: 46s - loss: 0.6674 - acc: 0.84 - ETA: 45s - loss: 0.6671 - acc: 0.84 - ETA: 45s - loss: 0.6723 - acc: 0.84 - ETA: 45s - loss: 0.6698 - acc: 0.84 - ETA: 45s - loss: 0.6717 - acc: 0.84 - ETA: 45s - loss: 0.6813 - acc: 0.84 - ETA: 45s - loss: 0.6770 - acc: 0.84 - ETA: 45s - loss: 0.6776 - acc: 0.84 - ETA: 44s - loss: 0.6766 - acc: 0.84 - ETA: 44s - loss: 0.6767 - acc: 0.84 - ETA: 44s - loss: 0.6742 - acc: 0.84 - ETA: 44s - loss: 0.6719 - acc: 0.84 - ETA: 44s - loss: 0.6669 - acc: 0.84 - ETA: 44s - loss: 0.6650 - acc: 0.84 - ETA: 43s - loss: 0.6560 - acc: 0.84 - ETA: 43s - loss: 0.6520 - acc: 0.84 - ETA: 43s - loss: 0.6487 - acc: 0.84 - ETA: 43s - loss: 0.6585 - acc: 0.84 - ETA: 44s - loss: 0.6542 - acc: 0.84 - ETA: 44s - loss: 0.6537 - acc: 0.84 - ETA: 44s - loss: 0.6489 - acc: 0.85 - ETA: 44s - loss: 0.6466 - acc: 0.85 - ETA: 44s - loss: 0.6438 - acc: 0.85 - ETA: 43s - loss: 0.6423 - acc: 0.85 - ETA: 43s - loss: 0.6371 - acc: 0.85 - ETA: 43s - loss: 0.6337 - acc: 0.85 - ETA: 43s - loss: 0.6387 - acc: 0.85 - ETA: 43s - loss: 0.6350 - acc: 0.85 - ETA: 43s - loss: 0.6356 - acc: 0.85 - ETA: 42s - loss: 0.6375 - acc: 0.85 - ETA: 42s - loss: 0.6357 - acc: 0.85 - ETA: 42s - loss: 0.6349 - acc: 0.85 - ETA: 42s - loss: 0.6340 - acc: 0.85 - ETA: 42s - loss: 0.6318 - acc: 0.85 - ETA: 41s - loss: 0.6278 - acc: 0.85 - ETA: 41s - loss: 0.6260 - acc: 0.85 - ETA: 41s - loss: 0.6265 - acc: 0.85 - ETA: 41s - loss: 0.6313 - acc: 0.84 - ETA: 41s - loss: 0.6400 - acc: 0.84 - ETA: 41s - loss: 0.6392 - acc: 0.84 - ETA: 40s - loss: 0.6390 - acc: 0.84 - ETA: 40s - loss: 0.6378 - acc: 0.84 - ETA: 40s - loss: 0.6331 - acc: 0.84 - ETA: 40s - loss: 0.6307 - acc: 0.84 - ETA: 40s - loss: 0.6313 - acc: 0.84 - ETA: 39s - loss: 0.6335 - acc: 0.84 - ETA: 39s - loss: 0.6306 - acc: 0.84 - ETA: 39s - loss: 0.6281 - acc: 0.85 - ETA: 39s - loss: 0.6270 - acc: 0.85 - ETA: 39s - loss: 0.6254 - acc: 0.85 - ETA: 39s - loss: 0.6273 - acc: 0.85 - ETA: 38s - loss: 0.6282 - acc: 0.85 - ETA: 38s - loss: 0.6244 - acc: 0.85 - ETA: 38s - loss: 0.6285 - acc: 0.85 - ETA: 38s - loss: 0.6257 - acc: 0.85 - ETA: 38s - loss: 0.6275 - acc: 0.85 - ETA: 38s - loss: 0.6374 - acc: 0.84 - ETA: 37s - loss: 0.6482 - acc: 0.84 - ETA: 37s - loss: 0.6458 - acc: 0.84 - ETA: 37s - loss: 0.6500 - acc: 0.84 - ETA: 37s - loss: 0.6459 - acc: 0.84 - ETA: 37s - loss: 0.6451 - acc: 0.84 - ETA: 36s - loss: 0.6429 - acc: 0.84 - ETA: 36s - loss: 0.6407 - acc: 0.85 - ETA: 36s - loss: 0.6394 - acc: 0.85 - ETA: 36s - loss: 0.6360 - acc: 0.85 - ETA: 36s - loss: 0.6350 - acc: 0.85 - ETA: 36s - loss: 0.6395 - acc: 0.85 - ETA: 35s - loss: 0.6383 - acc: 0.85 - ETA: 35s - loss: 0.6364 - acc: 0.85 - ETA: 35s - loss: 0.6412 - acc: 0.84 - ETA: 35s - loss: 0.6391 - acc: 0.85 - ETA: 35s - loss: 0.6353 - acc: 0.85 - ETA: 35s - loss: 0.6327 - acc: 0.85 - ETA: 35s - loss: 0.6336 - acc: 0.85 - ETA: 34s - loss: 0.6360 - acc: 0.85 - ETA: 34s - loss: 0.6329 - acc: 0.85 - ETA: 34s - loss: 0.6324 - acc: 0.85 - ETA: 34s - loss: 0.6335 - acc: 0.85 - ETA: 34s - loss: 0.6323 - acc: 0.85 - ETA: 34s - loss: 0.6380 - acc: 0.84 - ETA: 33s - loss: 0.6394 - acc: 0.84 - ETA: 33s - loss: 0.6390 - acc: 0.84 - ETA: 33s - loss: 0.6380 - acc: 0.84 - ETA: 33s - loss: 0.6378 - acc: 0.84 - ETA: 33s - loss: 0.6371 - acc: 0.84 - ETA: 33s - loss: 0.6370 - acc: 0.84 - ETA: 33s - loss: 0.6360 - acc: 0.84 - ETA: 32s - loss: 0.6337 - acc: 0.84 - ETA: 32s - loss: 0.6325 - acc: 0.84 - ETA: 32s - loss: 0.6340 - acc: 0.84 - ETA: 32s - loss: 0.6386 - acc: 0.84 - ETA: 32s - loss: 0.6399 - acc: 0.84 - ETA: 32s - loss: 0.6390 - acc: 0.84 - ETA: 31s - loss: 0.6421 - acc: 0.84 - ETA: 31s - loss: 0.6424 - acc: 0.84 - ETA: 31s - loss: 0.6405 - acc: 0.84 - ETA: 31s - loss: 0.6425 - acc: 0.84 - ETA: 31s - loss: 0.6408 - acc: 0.84 - ETA: 30s - loss: 0.6406 - acc: 0.84 - ETA: 30s - loss: 0.6406 - acc: 0.84 - ETA: 30s - loss: 0.6423 - acc: 0.84 - ETA: 30s - loss: 0.6421 - acc: 0.84 - ETA: 30s - loss: 0.6458 - acc: 0.84 - ETA: 30s - loss: 0.6453 - acc: 0.84 - ETA: 29s - loss: 0.6456 - acc: 0.84 - ETA: 29s - loss: 0.6474 - acc: 0.84 - ETA: 29s - loss: 0.6481 - acc: 0.84 - ETA: 29s - loss: 0.6462 - acc: 0.84 - ETA: 29s - loss: 0.6465 - acc: 0.84 - ETA: 29s - loss: 0.6480 - acc: 0.84 - ETA: 28s - loss: 0.6492 - acc: 0.84 - ETA: 28s - loss: 0.6515 - acc: 0.84 - ETA: 28s - loss: 0.6519 - acc: 0.84 - ETA: 28s - loss: 0.6502 - acc: 0.84 - ETA: 28s - loss: 0.6489 - acc: 0.84 - ETA: 28s - loss: 0.6502 - acc: 0.84 - ETA: 27s - loss: 0.6537 - acc: 0.84 - ETA: 27s - loss: 0.6561 - acc: 0.84 - ETA: 27s - loss: 0.6553 - acc: 0.84 - ETA: 27s - loss: 0.6525 - acc: 0.84 - ETA: 27s - loss: 0.6522 - acc: 0.84 - ETA: 27s - loss: 0.6512 - acc: 0.84 - ETA: 26s - loss: 0.6496 - acc: 0.84 - ETA: 26s - loss: 0.6476 - acc: 0.84 - ETA: 26s - loss: 0.6503 - acc: 0.84 - ETA: 26s - loss: 0.6492 - acc: 0.84 - ETA: 26s - loss: 0.6499 - acc: 0.84 - ETA: 25s - loss: 0.6506 - acc: 0.84 - ETA: 25s - loss: 0.6505 - acc: 0.84 - ETA: 25s - loss: 0.6538 - acc: 0.84 - ETA: 25s - loss: 0.6538 - acc: 0.84 - ETA: 25s - loss: 0.6539 - acc: 0.84 - ETA: 25s - loss: 0.6525 - acc: 0.84 - ETA: 24s - loss: 0.6511 - acc: 0.84 - ETA: 24s - loss: 0.6491 - acc: 0.84 - ETA: 24s - loss: 0.6522 - acc: 0.84 - ETA: 24s - loss: 0.6500 - acc: 0.84 - ETA: 24s - loss: 0.6474 - acc: 0.84 - ETA: 24s - loss: 0.6466 - acc: 0.84 - ETA: 23s - loss: 0.6447 - acc: 0.84 - ETA: 23s - loss: 0.6440 - acc: 0.84 - ETA: 23s - loss: 0.6424 - acc: 0.84 - ETA: 23s - loss: 0.6435 - acc: 0.84 - ETA: 23s - loss: 0.6447 - acc: 0.84 - ETA: 22s - loss: 0.6459 - acc: 0.84 - ETA: 22s - loss: 0.6477 - acc: 0.84 - ETA: 22s - loss: 0.6474 - acc: 0.84 - ETA: 22s - loss: 0.6466 - acc: 0.84 - ETA: 22s - loss: 0.6495 - acc: 0.84 - ETA: 22s - loss: 0.6487 - acc: 0.84 - ETA: 21s - loss: 0.6486 - acc: 0.84 - ETA: 21s - loss: 0.6494 - acc: 0.84 - ETA: 21s - loss: 0.6496 - acc: 0.84 - ETA: 21s - loss: 0.6489 - acc: 0.84 - ETA: 21s - loss: 0.6494 - acc: 0.84 - ETA: 21s - loss: 0.6493 - acc: 0.84 - ETA: 20s - loss: 0.6477 - acc: 0.84 - ETA: 20s - loss: 0.6458 - acc: 0.84 - ETA: 20s - loss: 0.6444 - acc: 0.84 - ETA: 20s - loss: 0.6438 - acc: 0.84 - ETA: 20s - loss: 0.6428 - acc: 0.84 - ETA: 20s - loss: 0.6408 - acc: 0.8433"
     ]
    },
    {
     "name": "stdout",
     "output_type": "stream",
     "text": [
      "6680/6680 [==============================] - ETA: 19s - loss: 0.6418 - acc: 0.84 - ETA: 19s - loss: 0.6433 - acc: 0.84 - ETA: 19s - loss: 0.6440 - acc: 0.84 - ETA: 19s - loss: 0.6563 - acc: 0.84 - ETA: 19s - loss: 0.6558 - acc: 0.83 - ETA: 19s - loss: 0.6564 - acc: 0.83 - ETA: 18s - loss: 0.6567 - acc: 0.83 - ETA: 18s - loss: 0.6581 - acc: 0.83 - ETA: 18s - loss: 0.6584 - acc: 0.83 - ETA: 18s - loss: 0.6620 - acc: 0.83 - ETA: 18s - loss: 0.6618 - acc: 0.83 - ETA: 18s - loss: 0.6597 - acc: 0.83 - ETA: 17s - loss: 0.6602 - acc: 0.83 - ETA: 17s - loss: 0.6599 - acc: 0.83 - ETA: 17s - loss: 0.6589 - acc: 0.83 - ETA: 17s - loss: 0.6596 - acc: 0.83 - ETA: 17s - loss: 0.6584 - acc: 0.83 - ETA: 17s - loss: 0.6576 - acc: 0.83 - ETA: 16s - loss: 0.6566 - acc: 0.83 - ETA: 16s - loss: 0.6611 - acc: 0.83 - ETA: 16s - loss: 0.6613 - acc: 0.83 - ETA: 16s - loss: 0.6659 - acc: 0.83 - ETA: 16s - loss: 0.6662 - acc: 0.83 - ETA: 16s - loss: 0.6652 - acc: 0.83 - ETA: 15s - loss: 0.6689 - acc: 0.83 - ETA: 15s - loss: 0.6685 - acc: 0.83 - ETA: 15s - loss: 0.6681 - acc: 0.83 - ETA: 15s - loss: 0.6680 - acc: 0.83 - ETA: 15s - loss: 0.6673 - acc: 0.83 - ETA: 15s - loss: 0.6657 - acc: 0.83 - ETA: 14s - loss: 0.6678 - acc: 0.83 - ETA: 14s - loss: 0.6682 - acc: 0.83 - ETA: 14s - loss: 0.6675 - acc: 0.83 - ETA: 14s - loss: 0.6690 - acc: 0.83 - ETA: 14s - loss: 0.6694 - acc: 0.83 - ETA: 14s - loss: 0.6683 - acc: 0.83 - ETA: 13s - loss: 0.6664 - acc: 0.83 - ETA: 13s - loss: 0.6668 - acc: 0.83 - ETA: 13s - loss: 0.6684 - acc: 0.83 - ETA: 13s - loss: 0.6710 - acc: 0.83 - ETA: 13s - loss: 0.6718 - acc: 0.83 - ETA: 12s - loss: 0.6700 - acc: 0.83 - ETA: 12s - loss: 0.6696 - acc: 0.83 - ETA: 12s - loss: 0.6683 - acc: 0.83 - ETA: 12s - loss: 0.6668 - acc: 0.83 - ETA: 12s - loss: 0.6660 - acc: 0.83 - ETA: 12s - loss: 0.6672 - acc: 0.83 - ETA: 11s - loss: 0.6673 - acc: 0.83 - ETA: 11s - loss: 0.6668 - acc: 0.83 - ETA: 11s - loss: 0.6652 - acc: 0.83 - ETA: 11s - loss: 0.6685 - acc: 0.83 - ETA: 11s - loss: 0.6686 - acc: 0.83 - ETA: 11s - loss: 0.6693 - acc: 0.83 - ETA: 10s - loss: 0.6709 - acc: 0.83 - ETA: 10s - loss: 0.6694 - acc: 0.83 - ETA: 10s - loss: 0.6680 - acc: 0.83 - ETA: 10s - loss: 0.6680 - acc: 0.83 - ETA: 10s - loss: 0.6682 - acc: 0.83 - ETA: 10s - loss: 0.6672 - acc: 0.83 - ETA: 9s - loss: 0.6660 - acc: 0.8376 - ETA: 9s - loss: 0.6668 - acc: 0.837 - ETA: 9s - loss: 0.6670 - acc: 0.837 - ETA: 9s - loss: 0.6663 - acc: 0.837 - ETA: 9s - loss: 0.6650 - acc: 0.837 - ETA: 9s - loss: 0.6656 - acc: 0.838 - ETA: 8s - loss: 0.6660 - acc: 0.838 - ETA: 8s - loss: 0.6660 - acc: 0.837 - ETA: 8s - loss: 0.6659 - acc: 0.837 - ETA: 8s - loss: 0.6657 - acc: 0.837 - ETA: 8s - loss: 0.6676 - acc: 0.837 - ETA: 8s - loss: 0.6709 - acc: 0.836 - ETA: 7s - loss: 0.6731 - acc: 0.835 - ETA: 7s - loss: 0.6724 - acc: 0.835 - ETA: 7s - loss: 0.6723 - acc: 0.835 - ETA: 7s - loss: 0.6747 - acc: 0.835 - ETA: 7s - loss: 0.6759 - acc: 0.834 - ETA: 7s - loss: 0.6759 - acc: 0.834 - ETA: 6s - loss: 0.6754 - acc: 0.835 - ETA: 6s - loss: 0.6748 - acc: 0.835 - ETA: 6s - loss: 0.6749 - acc: 0.834 - ETA: 6s - loss: 0.6755 - acc: 0.834 - ETA: 6s - loss: 0.6745 - acc: 0.834 - ETA: 6s - loss: 0.6757 - acc: 0.834 - ETA: 5s - loss: 0.6747 - acc: 0.834 - ETA: 5s - loss: 0.6746 - acc: 0.834 - ETA: 5s - loss: 0.6748 - acc: 0.834 - ETA: 5s - loss: 0.6755 - acc: 0.833 - ETA: 5s - loss: 0.6757 - acc: 0.833 - ETA: 5s - loss: 0.6775 - acc: 0.833 - ETA: 4s - loss: 0.6807 - acc: 0.832 - ETA: 4s - loss: 0.6795 - acc: 0.833 - ETA: 4s - loss: 0.6791 - acc: 0.833 - ETA: 4s - loss: 0.6788 - acc: 0.833 - ETA: 4s - loss: 0.6787 - acc: 0.833 - ETA: 4s - loss: 0.6789 - acc: 0.832 - ETA: 3s - loss: 0.6797 - acc: 0.832 - ETA: 3s - loss: 0.6797 - acc: 0.832 - ETA: 3s - loss: 0.6788 - acc: 0.832 - ETA: 3s - loss: 0.6773 - acc: 0.833 - ETA: 3s - loss: 0.6779 - acc: 0.833 - ETA: 3s - loss: 0.6780 - acc: 0.832 - ETA: 2s - loss: 0.6775 - acc: 0.832 - ETA: 2s - loss: 0.6779 - acc: 0.832 - ETA: 2s - loss: 0.6773 - acc: 0.832 - ETA: 2s - loss: 0.6784 - acc: 0.832 - ETA: 2s - loss: 0.6808 - acc: 0.832 - ETA: 2s - loss: 0.6801 - acc: 0.832 - ETA: 1s - loss: 0.6803 - acc: 0.832 - ETA: 1s - loss: 0.6813 - acc: 0.832 - ETA: 1s - loss: 0.6811 - acc: 0.832 - ETA: 1s - loss: 0.6801 - acc: 0.832 - ETA: 1s - loss: 0.6820 - acc: 0.831 - ETA: 1s - loss: 0.6850 - acc: 0.831 - ETA: 0s - loss: 0.6855 - acc: 0.831 - ETA: 0s - loss: 0.6849 - acc: 0.831 - ETA: 0s - loss: 0.6841 - acc: 0.831 - ETA: 0s - loss: 0.6837 - acc: 0.831 - ETA: 0s - loss: 0.6834 - acc: 0.831 - 59s 9ms/step - loss: 0.6833 - acc: 0.8314 - val_loss: 8.6391 - val_acc: 0.0743\n",
      "Epoch 5/5\n"
     ]
    },
    {
     "name": "stdout",
     "output_type": "stream",
     "text": [
      "4300/6680 [==================>...........] - ETA: 52s - loss: 0.1985 - acc: 0.95 - ETA: 52s - loss: 0.2315 - acc: 0.95 - ETA: 52s - loss: 0.2057 - acc: 0.95 - ETA: 53s - loss: 0.1570 - acc: 0.96 - ETA: 53s - loss: 0.1777 - acc: 0.96 - ETA: 53s - loss: 0.1746 - acc: 0.95 - ETA: 53s - loss: 0.1612 - acc: 0.95 - ETA: 53s - loss: 0.1668 - acc: 0.95 - ETA: 53s - loss: 0.1602 - acc: 0.95 - ETA: 52s - loss: 0.1448 - acc: 0.96 - ETA: 52s - loss: 0.1338 - acc: 0.96 - ETA: 52s - loss: 0.1362 - acc: 0.96 - ETA: 52s - loss: 0.1445 - acc: 0.96 - ETA: 52s - loss: 0.1662 - acc: 0.95 - ETA: 52s - loss: 0.2126 - acc: 0.93 - ETA: 52s - loss: 0.2202 - acc: 0.93 - ETA: 52s - loss: 0.2133 - acc: 0.94 - ETA: 52s - loss: 0.2119 - acc: 0.94 - ETA: 52s - loss: 0.2042 - acc: 0.94 - ETA: 52s - loss: 0.2027 - acc: 0.94 - ETA: 52s - loss: 0.2060 - acc: 0.94 - ETA: 51s - loss: 0.2001 - acc: 0.94 - ETA: 51s - loss: 0.1990 - acc: 0.94 - ETA: 51s - loss: 0.1933 - acc: 0.94 - ETA: 51s - loss: 0.1882 - acc: 0.95 - ETA: 50s - loss: 0.1861 - acc: 0.95 - ETA: 50s - loss: 0.1793 - acc: 0.95 - ETA: 50s - loss: 0.1868 - acc: 0.95 - ETA: 50s - loss: 0.1821 - acc: 0.95 - ETA: 50s - loss: 0.1798 - acc: 0.95 - ETA: 49s - loss: 0.1809 - acc: 0.95 - ETA: 49s - loss: 0.1817 - acc: 0.95 - ETA: 49s - loss: 0.1765 - acc: 0.95 - ETA: 49s - loss: 0.1989 - acc: 0.95 - ETA: 49s - loss: 0.2044 - acc: 0.94 - ETA: 49s - loss: 0.2065 - acc: 0.94 - ETA: 49s - loss: 0.2076 - acc: 0.94 - ETA: 48s - loss: 0.2153 - acc: 0.94 - ETA: 48s - loss: 0.2264 - acc: 0.94 - ETA: 48s - loss: 0.2532 - acc: 0.93 - ETA: 48s - loss: 0.2536 - acc: 0.93 - ETA: 48s - loss: 0.2519 - acc: 0.93 - ETA: 48s - loss: 0.2474 - acc: 0.93 - ETA: 47s - loss: 0.2469 - acc: 0.93 - ETA: 47s - loss: 0.2482 - acc: 0.93 - ETA: 47s - loss: 0.2443 - acc: 0.93 - ETA: 47s - loss: 0.2431 - acc: 0.93 - ETA: 47s - loss: 0.2507 - acc: 0.93 - ETA: 47s - loss: 0.2521 - acc: 0.93 - ETA: 46s - loss: 0.2546 - acc: 0.93 - ETA: 46s - loss: 0.2575 - acc: 0.93 - ETA: 46s - loss: 0.2570 - acc: 0.93 - ETA: 46s - loss: 0.2599 - acc: 0.93 - ETA: 46s - loss: 0.2616 - acc: 0.93 - ETA: 45s - loss: 0.2590 - acc: 0.93 - ETA: 45s - loss: 0.2581 - acc: 0.93 - ETA: 45s - loss: 0.2615 - acc: 0.93 - ETA: 45s - loss: 0.2603 - acc: 0.93 - ETA: 45s - loss: 0.2569 - acc: 0.93 - ETA: 45s - loss: 0.2546 - acc: 0.93 - ETA: 45s - loss: 0.2536 - acc: 0.93 - ETA: 44s - loss: 0.2546 - acc: 0.93 - ETA: 44s - loss: 0.2576 - acc: 0.93 - ETA: 44s - loss: 0.2612 - acc: 0.93 - ETA: 44s - loss: 0.2590 - acc: 0.93 - ETA: 44s - loss: 0.2631 - acc: 0.93 - ETA: 44s - loss: 0.3268 - acc: 0.92 - ETA: 43s - loss: 0.3446 - acc: 0.92 - ETA: 43s - loss: 0.3401 - acc: 0.92 - ETA: 43s - loss: 0.3431 - acc: 0.92 - ETA: 43s - loss: 0.3396 - acc: 0.92 - ETA: 43s - loss: 0.3416 - acc: 0.92 - ETA: 43s - loss: 0.3377 - acc: 0.92 - ETA: 42s - loss: 0.3389 - acc: 0.92 - ETA: 42s - loss: 0.3363 - acc: 0.92 - ETA: 42s - loss: 0.3341 - acc: 0.92 - ETA: 42s - loss: 0.3305 - acc: 0.92 - ETA: 42s - loss: 0.3277 - acc: 0.92 - ETA: 42s - loss: 0.3284 - acc: 0.92 - ETA: 42s - loss: 0.3283 - acc: 0.92 - ETA: 41s - loss: 0.3276 - acc: 0.92 - ETA: 41s - loss: 0.3356 - acc: 0.92 - ETA: 41s - loss: 0.3339 - acc: 0.92 - ETA: 41s - loss: 0.3334 - acc: 0.92 - ETA: 41s - loss: 0.3297 - acc: 0.92 - ETA: 41s - loss: 0.3260 - acc: 0.92 - ETA: 42s - loss: 0.3226 - acc: 0.92 - ETA: 42s - loss: 0.3214 - acc: 0.92 - ETA: 42s - loss: 0.3188 - acc: 0.93 - ETA: 42s - loss: 0.3160 - acc: 0.93 - ETA: 42s - loss: 0.3137 - acc: 0.93 - ETA: 42s - loss: 0.3132 - acc: 0.93 - ETA: 41s - loss: 0.3114 - acc: 0.93 - ETA: 41s - loss: 0.3095 - acc: 0.93 - ETA: 41s - loss: 0.3096 - acc: 0.93 - ETA: 41s - loss: 0.3072 - acc: 0.93 - ETA: 41s - loss: 0.3072 - acc: 0.93 - ETA: 41s - loss: 0.3099 - acc: 0.93 - ETA: 41s - loss: 0.3176 - acc: 0.92 - ETA: 41s - loss: 0.3227 - acc: 0.92 - ETA: 41s - loss: 0.3200 - acc: 0.92 - ETA: 40s - loss: 0.3173 - acc: 0.92 - ETA: 40s - loss: 0.3144 - acc: 0.92 - ETA: 40s - loss: 0.3121 - acc: 0.92 - ETA: 40s - loss: 0.3096 - acc: 0.92 - ETA: 40s - loss: 0.3082 - acc: 0.92 - ETA: 39s - loss: 0.3059 - acc: 0.93 - ETA: 39s - loss: 0.3050 - acc: 0.93 - ETA: 39s - loss: 0.3043 - acc: 0.92 - ETA: 39s - loss: 0.3018 - acc: 0.93 - ETA: 39s - loss: 0.2999 - acc: 0.93 - ETA: 38s - loss: 0.2975 - acc: 0.93 - ETA: 38s - loss: 0.2973 - acc: 0.93 - ETA: 38s - loss: 0.2984 - acc: 0.93 - ETA: 38s - loss: 0.2968 - acc: 0.93 - ETA: 38s - loss: 0.2945 - acc: 0.93 - ETA: 37s - loss: 0.2935 - acc: 0.93 - ETA: 37s - loss: 0.2924 - acc: 0.93 - ETA: 37s - loss: 0.2913 - acc: 0.93 - ETA: 37s - loss: 0.2895 - acc: 0.93 - ETA: 37s - loss: 0.2875 - acc: 0.93 - ETA: 36s - loss: 0.2878 - acc: 0.93 - ETA: 36s - loss: 0.2856 - acc: 0.93 - ETA: 36s - loss: 0.2840 - acc: 0.93 - ETA: 36s - loss: 0.2880 - acc: 0.93 - ETA: 36s - loss: 0.2883 - acc: 0.93 - ETA: 35s - loss: 0.2871 - acc: 0.93 - ETA: 35s - loss: 0.2861 - acc: 0.93 - ETA: 35s - loss: 0.2849 - acc: 0.93 - ETA: 35s - loss: 0.2837 - acc: 0.93 - ETA: 35s - loss: 0.2874 - acc: 0.93 - ETA: 35s - loss: 0.2860 - acc: 0.93 - ETA: 34s - loss: 0.2864 - acc: 0.93 - ETA: 34s - loss: 0.2859 - acc: 0.93 - ETA: 34s - loss: 0.2846 - acc: 0.93 - ETA: 34s - loss: 0.2853 - acc: 0.93 - ETA: 34s - loss: 0.2863 - acc: 0.93 - ETA: 33s - loss: 0.2894 - acc: 0.93 - ETA: 33s - loss: 0.2891 - acc: 0.93 - ETA: 33s - loss: 0.2874 - acc: 0.93 - ETA: 33s - loss: 0.2874 - acc: 0.93 - ETA: 33s - loss: 0.2869 - acc: 0.93 - ETA: 33s - loss: 0.2860 - acc: 0.93 - ETA: 32s - loss: 0.2848 - acc: 0.93 - ETA: 32s - loss: 0.2840 - acc: 0.93 - ETA: 32s - loss: 0.2832 - acc: 0.93 - ETA: 32s - loss: 0.2815 - acc: 0.93 - ETA: 32s - loss: 0.2799 - acc: 0.93 - ETA: 31s - loss: 0.2802 - acc: 0.93 - ETA: 31s - loss: 0.2788 - acc: 0.93 - ETA: 31s - loss: 0.2778 - acc: 0.93 - ETA: 31s - loss: 0.2770 - acc: 0.93 - ETA: 31s - loss: 0.2759 - acc: 0.93 - ETA: 31s - loss: 0.2766 - acc: 0.93 - ETA: 30s - loss: 0.2790 - acc: 0.93 - ETA: 30s - loss: 0.2792 - acc: 0.93 - ETA: 30s - loss: 0.2783 - acc: 0.93 - ETA: 30s - loss: 0.2786 - acc: 0.93 - ETA: 30s - loss: 0.2792 - acc: 0.93 - ETA: 29s - loss: 0.2816 - acc: 0.93 - ETA: 29s - loss: 0.2812 - acc: 0.93 - ETA: 29s - loss: 0.2798 - acc: 0.93 - ETA: 29s - loss: 0.2792 - acc: 0.93 - ETA: 29s - loss: 0.2783 - acc: 0.93 - ETA: 29s - loss: 0.2783 - acc: 0.93 - ETA: 28s - loss: 0.2795 - acc: 0.93 - ETA: 28s - loss: 0.2784 - acc: 0.93 - ETA: 28s - loss: 0.2770 - acc: 0.93 - ETA: 28s - loss: 0.2778 - acc: 0.93 - ETA: 28s - loss: 0.2775 - acc: 0.93 - ETA: 28s - loss: 0.2788 - acc: 0.93 - ETA: 27s - loss: 0.2778 - acc: 0.93 - ETA: 27s - loss: 0.2780 - acc: 0.93 - ETA: 27s - loss: 0.2779 - acc: 0.93 - ETA: 27s - loss: 0.2774 - acc: 0.93 - ETA: 27s - loss: 0.2760 - acc: 0.93 - ETA: 26s - loss: 0.2748 - acc: 0.93 - ETA: 26s - loss: 0.2739 - acc: 0.93 - ETA: 26s - loss: 0.2745 - acc: 0.93 - ETA: 26s - loss: 0.2755 - acc: 0.93 - ETA: 26s - loss: 0.2768 - acc: 0.93 - ETA: 26s - loss: 0.2754 - acc: 0.93 - ETA: 25s - loss: 0.2750 - acc: 0.93 - ETA: 25s - loss: 0.2751 - acc: 0.93 - ETA: 25s - loss: 0.2751 - acc: 0.93 - ETA: 25s - loss: 0.2747 - acc: 0.93 - ETA: 25s - loss: 0.2746 - acc: 0.93 - ETA: 24s - loss: 0.2736 - acc: 0.93 - ETA: 24s - loss: 0.2723 - acc: 0.93 - ETA: 24s - loss: 0.2710 - acc: 0.93 - ETA: 24s - loss: 0.2709 - acc: 0.93 - ETA: 24s - loss: 0.2710 - acc: 0.93 - ETA: 24s - loss: 0.2706 - acc: 0.93 - ETA: 23s - loss: 0.2700 - acc: 0.93 - ETA: 23s - loss: 0.2705 - acc: 0.93 - ETA: 23s - loss: 0.2699 - acc: 0.93 - ETA: 23s - loss: 0.2693 - acc: 0.93 - ETA: 23s - loss: 0.2693 - acc: 0.93 - ETA: 23s - loss: 0.2692 - acc: 0.93 - ETA: 22s - loss: 0.2702 - acc: 0.93 - ETA: 22s - loss: 0.2699 - acc: 0.93 - ETA: 22s - loss: 0.2687 - acc: 0.93 - ETA: 22s - loss: 0.2689 - acc: 0.93 - ETA: 22s - loss: 0.2694 - acc: 0.93 - ETA: 22s - loss: 0.2692 - acc: 0.93 - ETA: 21s - loss: 0.2690 - acc: 0.93 - ETA: 21s - loss: 0.2678 - acc: 0.93 - ETA: 21s - loss: 0.2681 - acc: 0.93 - ETA: 21s - loss: 0.2709 - acc: 0.93 - ETA: 21s - loss: 0.2713 - acc: 0.93 - ETA: 20s - loss: 0.2722 - acc: 0.93 - ETA: 20s - loss: 0.2745 - acc: 0.93 - ETA: 20s - loss: 0.2750 - acc: 0.93 - ETA: 20s - loss: 0.2752 - acc: 0.93 - ETA: 20s - loss: 0.2749 - acc: 0.9340"
     ]
    },
    {
     "name": "stdout",
     "output_type": "stream",
     "text": [
      "6680/6680 [==============================] - ETA: 20s - loss: 0.2753 - acc: 0.93 - ETA: 19s - loss: 0.2742 - acc: 0.93 - ETA: 19s - loss: 0.2732 - acc: 0.93 - ETA: 19s - loss: 0.2737 - acc: 0.93 - ETA: 19s - loss: 0.2735 - acc: 0.93 - ETA: 19s - loss: 0.2724 - acc: 0.93 - ETA: 19s - loss: 0.2719 - acc: 0.93 - ETA: 18s - loss: 0.2710 - acc: 0.93 - ETA: 18s - loss: 0.2715 - acc: 0.93 - ETA: 18s - loss: 0.2708 - acc: 0.93 - ETA: 18s - loss: 0.2704 - acc: 0.93 - ETA: 18s - loss: 0.2765 - acc: 0.93 - ETA: 18s - loss: 0.2773 - acc: 0.93 - ETA: 17s - loss: 0.2766 - acc: 0.93 - ETA: 17s - loss: 0.2770 - acc: 0.93 - ETA: 17s - loss: 0.2770 - acc: 0.93 - ETA: 17s - loss: 0.2770 - acc: 0.93 - ETA: 17s - loss: 0.2764 - acc: 0.93 - ETA: 16s - loss: 0.2788 - acc: 0.93 - ETA: 16s - loss: 0.2816 - acc: 0.93 - ETA: 16s - loss: 0.2805 - acc: 0.93 - ETA: 16s - loss: 0.2798 - acc: 0.93 - ETA: 16s - loss: 0.2802 - acc: 0.93 - ETA: 16s - loss: 0.2806 - acc: 0.93 - ETA: 15s - loss: 0.2815 - acc: 0.93 - ETA: 15s - loss: 0.2815 - acc: 0.93 - ETA: 15s - loss: 0.2809 - acc: 0.93 - ETA: 15s - loss: 0.2801 - acc: 0.93 - ETA: 15s - loss: 0.2800 - acc: 0.93 - ETA: 15s - loss: 0.2796 - acc: 0.93 - ETA: 14s - loss: 0.2787 - acc: 0.93 - ETA: 14s - loss: 0.2778 - acc: 0.93 - ETA: 14s - loss: 0.2796 - acc: 0.93 - ETA: 14s - loss: 0.2798 - acc: 0.93 - ETA: 14s - loss: 0.2800 - acc: 0.93 - ETA: 14s - loss: 0.2823 - acc: 0.93 - ETA: 13s - loss: 0.2838 - acc: 0.93 - ETA: 13s - loss: 0.2841 - acc: 0.93 - ETA: 13s - loss: 0.2839 - acc: 0.93 - ETA: 13s - loss: 0.2835 - acc: 0.93 - ETA: 13s - loss: 0.2829 - acc: 0.93 - ETA: 13s - loss: 0.2827 - acc: 0.93 - ETA: 12s - loss: 0.2817 - acc: 0.93 - ETA: 12s - loss: 0.2813 - acc: 0.93 - ETA: 12s - loss: 0.2817 - acc: 0.93 - ETA: 12s - loss: 0.2808 - acc: 0.93 - ETA: 12s - loss: 0.2799 - acc: 0.93 - ETA: 12s - loss: 0.2795 - acc: 0.93 - ETA: 11s - loss: 0.2787 - acc: 0.93 - ETA: 11s - loss: 0.2786 - acc: 0.93 - ETA: 11s - loss: 0.2780 - acc: 0.93 - ETA: 11s - loss: 0.2788 - acc: 0.93 - ETA: 11s - loss: 0.2780 - acc: 0.93 - ETA: 11s - loss: 0.2770 - acc: 0.93 - ETA: 10s - loss: 0.2770 - acc: 0.93 - ETA: 10s - loss: 0.2773 - acc: 0.93 - ETA: 10s - loss: 0.2778 - acc: 0.93 - ETA: 10s - loss: 0.2770 - acc: 0.93 - ETA: 10s - loss: 0.2779 - acc: 0.93 - ETA: 10s - loss: 0.2775 - acc: 0.93 - ETA: 9s - loss: 0.2770 - acc: 0.9335 - ETA: 9s - loss: 0.2764 - acc: 0.933 - ETA: 9s - loss: 0.2770 - acc: 0.933 - ETA: 9s - loss: 0.2782 - acc: 0.933 - ETA: 9s - loss: 0.2784 - acc: 0.933 - ETA: 8s - loss: 0.2777 - acc: 0.933 - ETA: 8s - loss: 0.2771 - acc: 0.933 - ETA: 8s - loss: 0.2786 - acc: 0.933 - ETA: 8s - loss: 0.2780 - acc: 0.933 - ETA: 8s - loss: 0.2800 - acc: 0.933 - ETA: 8s - loss: 0.2795 - acc: 0.933 - ETA: 7s - loss: 0.2792 - acc: 0.933 - ETA: 7s - loss: 0.2783 - acc: 0.933 - ETA: 7s - loss: 0.2775 - acc: 0.933 - ETA: 7s - loss: 0.2774 - acc: 0.933 - ETA: 7s - loss: 0.2774 - acc: 0.933 - ETA: 7s - loss: 0.2768 - acc: 0.933 - ETA: 6s - loss: 0.2763 - acc: 0.933 - ETA: 6s - loss: 0.2763 - acc: 0.933 - ETA: 6s - loss: 0.2764 - acc: 0.933 - ETA: 6s - loss: 0.2764 - acc: 0.932 - ETA: 6s - loss: 0.2759 - acc: 0.933 - ETA: 6s - loss: 0.2784 - acc: 0.932 - ETA: 5s - loss: 0.2777 - acc: 0.933 - ETA: 5s - loss: 0.2774 - acc: 0.933 - ETA: 5s - loss: 0.2779 - acc: 0.933 - ETA: 5s - loss: 0.2777 - acc: 0.932 - ETA: 5s - loss: 0.2782 - acc: 0.932 - ETA: 5s - loss: 0.2777 - acc: 0.932 - ETA: 4s - loss: 0.2769 - acc: 0.933 - ETA: 4s - loss: 0.2765 - acc: 0.933 - ETA: 4s - loss: 0.2757 - acc: 0.933 - ETA: 4s - loss: 0.2756 - acc: 0.933 - ETA: 4s - loss: 0.2767 - acc: 0.933 - ETA: 4s - loss: 0.2758 - acc: 0.933 - ETA: 3s - loss: 0.2759 - acc: 0.933 - ETA: 3s - loss: 0.2751 - acc: 0.933 - ETA: 3s - loss: 0.2749 - acc: 0.933 - ETA: 3s - loss: 0.2759 - acc: 0.933 - ETA: 3s - loss: 0.2776 - acc: 0.932 - ETA: 3s - loss: 0.2781 - acc: 0.932 - ETA: 2s - loss: 0.2775 - acc: 0.932 - ETA: 2s - loss: 0.2768 - acc: 0.932 - ETA: 2s - loss: 0.2770 - acc: 0.932 - ETA: 2s - loss: 0.2762 - acc: 0.933 - ETA: 2s - loss: 0.2763 - acc: 0.932 - ETA: 2s - loss: 0.2761 - acc: 0.932 - ETA: 1s - loss: 0.2755 - acc: 0.933 - ETA: 1s - loss: 0.2754 - acc: 0.933 - ETA: 1s - loss: 0.2748 - acc: 0.933 - ETA: 1s - loss: 0.2750 - acc: 0.933 - ETA: 1s - loss: 0.2746 - acc: 0.933 - ETA: 1s - loss: 0.2742 - acc: 0.933 - ETA: 0s - loss: 0.2747 - acc: 0.932 - ETA: 0s - loss: 0.2744 - acc: 0.932 - ETA: 0s - loss: 0.2745 - acc: 0.932 - ETA: 0s - loss: 0.2750 - acc: 0.932 - ETA: 0s - loss: 0.2752 - acc: 0.932 - 59s 9ms/step - loss: 0.2755 - acc: 0.9325 - val_loss: 11.5494 - val_acc: 0.0503\n"
     ]
    },
    {
     "data": {
      "text/plain": [
       "<keras.callbacks.History at 0x1deb1b34828>"
      ]
     },
     "execution_count": 15,
     "metadata": {},
     "output_type": "execute_result"
    }
   ],
   "source": [
    "from keras.callbacks import ModelCheckpoint  \n",
    "\n",
    "### TODO: specify the number of epochs that you would like to use to train the model.\n",
    "\n",
    "epochs = 5\n",
    "\n",
    "### Do NOT modify the code below this line.\n",
    "\n",
    "#The below fits the CNN and saves the weights for the epoch which yields the ebst results\n",
    "checkpointer = ModelCheckpoint(filepath='model/notebook/weights.best.from_scratch.hdf5', \n",
    "                               verbose=0, save_best_only=True)\n",
    "\n",
    "model.fit(train_tensors, train_targets, \n",
    "          validation_data=(valid_tensors, valid_targets),\n",
    "          epochs=epochs, batch_size=20, callbacks=[checkpointer], verbose=1)"
   ]
  },
  {
   "cell_type": "markdown",
   "metadata": {},
   "source": [
    "### Load the Model with the Best Validation Loss"
   ]
  },
  {
   "cell_type": "code",
   "execution_count": 16,
   "metadata": {},
   "outputs": [],
   "source": [
    "#Loads the weights of the highest performing epoch\n",
    "model.load_weights('model/notebook/weights.best.from_scratch.hdf5')"
   ]
  },
  {
   "cell_type": "markdown",
   "metadata": {},
   "source": [
    "### Test the Model\n",
    "\n",
    "Try out your model on the test dataset of dog images.  Ensure that your test accuracy is greater than 1%."
   ]
  },
  {
   "cell_type": "code",
   "execution_count": 17,
   "metadata": {},
   "outputs": [
    {
     "name": "stdout",
     "output_type": "stream",
     "text": [
      "Test accuracy: 3.3493%\n"
     ]
    }
   ],
   "source": [
    "# get index of predicted dog breed for each image in test set\n",
    "dog_breed_predictions = [np.argmax(model.predict(np.expand_dims(tensor, axis=0))) for tensor in test_tensors]\n",
    "\n",
    "# report test accuracy\n",
    "test_accuracy = 100*np.sum(np.array(dog_breed_predictions)==np.argmax(test_targets, axis=1))/len(dog_breed_predictions)\n",
    "print('Test accuracy: %.4f%%' % test_accuracy)"
   ]
  },
  {
   "cell_type": "markdown",
   "metadata": {},
   "source": [
    "---\n",
    "<a id='step4'></a>\n",
    "## Step 4: Use a CNN to Classify Dog Breeds\n",
    "\n",
    "To reduce training time without sacrificing accuracy, we show you how to train a CNN using transfer learning.  In the following step, you will get a chance to use transfer learning to train your own CNN.\n",
    "\n",
    "### Obtain Bottleneck Features"
   ]
  },
  {
   "cell_type": "code",
   "execution_count": 18,
   "metadata": {},
   "outputs": [],
   "source": [
    "#Loads in pre-processed VGG16 features for test, train and validation images.\n",
    "bottleneck_features = np.load('bottleneck_features/DogVGG16Data.npz')\n",
    "train_VGG16 = bottleneck_features['train']\n",
    "valid_VGG16 = bottleneck_features['valid']\n",
    "test_VGG16 = bottleneck_features['test']"
   ]
  },
  {
   "cell_type": "markdown",
   "metadata": {},
   "source": [
    "### Model Architecture\n",
    "\n",
    "The model uses the the pre-trained VGG-16 model as a fixed feature extractor, where the last convolutional output of VGG-16 is fed as input to our model.  We only add a global average pooling layer and a fully connected layer, where the latter contains one node for each dog category and is equipped with a softmax."
   ]
  },
  {
   "cell_type": "code",
   "execution_count": 19,
   "metadata": {},
   "outputs": [
    {
     "name": "stdout",
     "output_type": "stream",
     "text": [
      "_________________________________________________________________\n",
      "Layer (type)                 Output Shape              Param #   \n",
      "=================================================================\n",
      "global_average_pooling2d_1 ( (None, 512)               0         \n",
      "_________________________________________________________________\n",
      "dense_2 (Dense)              (None, 133)               68229     \n",
      "=================================================================\n",
      "Total params: 68,229\n",
      "Trainable params: 68,229\n",
      "Non-trainable params: 0\n",
      "_________________________________________________________________\n"
     ]
    }
   ],
   "source": [
    "#Defines the model architecture\n",
    "VGG16_model = Sequential()\n",
    "VGG16_model.add(GlobalAveragePooling2D(input_shape=train_VGG16.shape[1:]))\n",
    "VGG16_model.add(Dense(133, activation='softmax'))\n",
    "\n",
    "#Prints model architecture\n",
    "VGG16_model.summary()"
   ]
  },
  {
   "cell_type": "markdown",
   "metadata": {},
   "source": [
    "### Compile the Model"
   ]
  },
  {
   "cell_type": "code",
   "execution_count": 20,
   "metadata": {},
   "outputs": [],
   "source": [
    "#Defines the metric to measure against, the optimiser and the loss function used for training the model\n",
    "VGG16_model.compile(loss='categorical_crossentropy', optimizer='rmsprop', metrics=['accuracy'])"
   ]
  },
  {
   "cell_type": "markdown",
   "metadata": {},
   "source": [
    "### Train the Model"
   ]
  },
  {
   "cell_type": "code",
   "execution_count": 21,
   "metadata": {},
   "outputs": [
    {
     "name": "stdout",
     "output_type": "stream",
     "text": [
      "Train on 6680 samples, validate on 835 samples\n",
      "Epoch 1/20\n",
      "6680/6680 [==============================] - ETA: 4:21 - loss: 14.5280 - acc: 0.05 - ETA: 39s - loss: 14.7354 - acc: 0.0357 - ETA: 17s - loss: 14.6177 - acc: 0.028 - ETA: 12s - loss: 14.4402 - acc: 0.021 - ETA: 9s - loss: 14.2133 - acc: 0.024 - ETA: 7s - loss: 14.0636 - acc: 0.02 - ETA: 6s - loss: 13.9383 - acc: 0.03 - ETA: 5s - loss: 13.8575 - acc: 0.04 - ETA: 5s - loss: 13.7627 - acc: 0.04 - ETA: 4s - loss: 13.6909 - acc: 0.04 - ETA: 4s - loss: 13.6671 - acc: 0.04 - ETA: 3s - loss: 13.5335 - acc: 0.05 - ETA: 3s - loss: 13.4513 - acc: 0.05 - ETA: 3s - loss: 13.3452 - acc: 0.06 - ETA: 3s - loss: 13.2901 - acc: 0.06 - ETA: 3s - loss: 13.1739 - acc: 0.06 - ETA: 2s - loss: 13.1324 - acc: 0.06 - ETA: 2s - loss: 13.0878 - acc: 0.07 - ETA: 2s - loss: 13.0100 - acc: 0.07 - ETA: 2s - loss: 12.9471 - acc: 0.07 - ETA: 2s - loss: 12.8770 - acc: 0.08 - ETA: 2s - loss: 12.7883 - acc: 0.08 - ETA: 2s - loss: 12.7082 - acc: 0.08 - ETA: 1s - loss: 12.6576 - acc: 0.09 - ETA: 1s - loss: 12.5963 - acc: 0.09 - ETA: 1s - loss: 12.5560 - acc: 0.09 - ETA: 1s - loss: 12.5083 - acc: 0.09 - ETA: 1s - loss: 12.4421 - acc: 0.09 - ETA: 1s - loss: 12.3954 - acc: 0.10 - ETA: 1s - loss: 12.3139 - acc: 0.10 - ETA: 1s - loss: 12.2667 - acc: 0.10 - ETA: 1s - loss: 12.1899 - acc: 0.11 - ETA: 0s - loss: 12.1206 - acc: 0.11 - ETA: 0s - loss: 12.0537 - acc: 0.12 - ETA: 0s - loss: 11.9751 - acc: 0.12 - ETA: 0s - loss: 11.9150 - acc: 0.12 - ETA: 0s - loss: 11.8575 - acc: 0.13 - ETA: 0s - loss: 11.7886 - acc: 0.13 - ETA: 0s - loss: 11.7937 - acc: 0.13 - ETA: 0s - loss: 11.7656 - acc: 0.14 - ETA: 0s - loss: 11.7317 - acc: 0.14 - ETA: 0s - loss: 11.7136 - acc: 0.14 - ETA: 0s - loss: 11.6824 - acc: 0.14 - ETA: 0s - loss: 11.6584 - acc: 0.14 - ETA: 0s - loss: 11.6605 - acc: 0.14 - ETA: 0s - loss: 11.6283 - acc: 0.14 - ETA: 0s - loss: 11.6073 - acc: 0.14 - ETA: 0s - loss: 11.5955 - acc: 0.14 - 4s 548us/step - loss: 11.5849 - acc: 0.1503 - val_loss: 9.9479 - val_acc: 0.2611\n",
      "\n",
      "Epoch 00001: val_loss improved from inf to 9.94793, saving model to model/notebook/weights.best.VGG16.hdf5\n",
      "Epoch 2/20\n",
      "6680/6680 [==============================] - ETA: 3s - loss: 6.9899 - acc: 0.500 - ETA: 2s - loss: 9.2721 - acc: 0.305 - ETA: 2s - loss: 9.4701 - acc: 0.291 - ETA: 2s - loss: 9.3986 - acc: 0.293 - ETA: 2s - loss: 9.6583 - acc: 0.288 - ETA: 2s - loss: 9.6255 - acc: 0.298 - ETA: 2s - loss: 9.7517 - acc: 0.289 - ETA: 2s - loss: 9.7399 - acc: 0.290 - ETA: 2s - loss: 9.7595 - acc: 0.289 - ETA: 2s - loss: 9.5616 - acc: 0.303 - ETA: 2s - loss: 9.6149 - acc: 0.300 - ETA: 2s - loss: 9.5801 - acc: 0.297 - ETA: 2s - loss: 9.5960 - acc: 0.293 - ETA: 2s - loss: 9.6320 - acc: 0.291 - ETA: 1s - loss: 9.6221 - acc: 0.294 - ETA: 1s - loss: 9.6480 - acc: 0.293 - ETA: 1s - loss: 9.5670 - acc: 0.299 - ETA: 1s - loss: 9.4830 - acc: 0.305 - ETA: 1s - loss: 9.5190 - acc: 0.303 - ETA: 1s - loss: 9.4825 - acc: 0.306 - ETA: 1s - loss: 9.5073 - acc: 0.305 - ETA: 1s - loss: 9.5427 - acc: 0.303 - ETA: 1s - loss: 9.4892 - acc: 0.305 - ETA: 1s - loss: 9.4903 - acc: 0.304 - ETA: 1s - loss: 9.4703 - acc: 0.306 - ETA: 1s - loss: 9.4328 - acc: 0.309 - ETA: 1s - loss: 9.4349 - acc: 0.309 - ETA: 1s - loss: 9.4485 - acc: 0.310 - ETA: 0s - loss: 9.4221 - acc: 0.311 - ETA: 0s - loss: 9.4098 - acc: 0.312 - ETA: 0s - loss: 9.3994 - acc: 0.313 - ETA: 0s - loss: 9.4011 - acc: 0.312 - ETA: 0s - loss: 9.4058 - acc: 0.312 - ETA: 0s - loss: 9.4159 - acc: 0.311 - ETA: 0s - loss: 9.4104 - acc: 0.313 - ETA: 0s - loss: 9.4120 - acc: 0.314 - ETA: 0s - loss: 9.3704 - acc: 0.316 - ETA: 0s - loss: 9.3462 - acc: 0.317 - ETA: 0s - loss: 9.3455 - acc: 0.317 - ETA: 0s - loss: 9.3401 - acc: 0.317 - ETA: 0s - loss: 9.3237 - acc: 0.318 - ETA: 0s - loss: 9.3203 - acc: 0.319 - ETA: 0s - loss: 9.3000 - acc: 0.320 - ETA: 0s - loss: 9.3122 - acc: 0.320 - ETA: 0s - loss: 9.3118 - acc: 0.321 - 3s 393us/step - loss: 9.3011 - acc: 0.3225 - val_loss: 9.1352 - val_acc: 0.3413\n",
      "\n",
      "Epoch 00002: val_loss improved from 9.94793 to 9.13525, saving model to model/notebook/weights.best.VGG16.hdf5\n",
      "Epoch 3/20\n",
      "6680/6680 [==============================] - ETA: 3s - loss: 8.3850 - acc: 0.400 - ETA: 2s - loss: 8.0417 - acc: 0.406 - ETA: 2s - loss: 8.5972 - acc: 0.381 - ETA: 2s - loss: 8.4289 - acc: 0.395 - ETA: 2s - loss: 8.3923 - acc: 0.397 - ETA: 1s - loss: 8.5466 - acc: 0.389 - ETA: 2s - loss: 8.5019 - acc: 0.392 - ETA: 1s - loss: 8.5316 - acc: 0.393 - ETA: 1s - loss: 8.5431 - acc: 0.392 - ETA: 1s - loss: 8.5350 - acc: 0.390 - ETA: 1s - loss: 8.5788 - acc: 0.384 - ETA: 1s - loss: 8.6205 - acc: 0.382 - ETA: 1s - loss: 8.5770 - acc: 0.387 - ETA: 1s - loss: 8.5813 - acc: 0.385 - ETA: 1s - loss: 8.5610 - acc: 0.388 - ETA: 1s - loss: 8.6106 - acc: 0.384 - ETA: 1s - loss: 8.6209 - acc: 0.385 - ETA: 1s - loss: 8.6717 - acc: 0.384 - ETA: 1s - loss: 8.6693 - acc: 0.385 - ETA: 1s - loss: 8.6680 - acc: 0.386 - ETA: 1s - loss: 8.6715 - acc: 0.386 - ETA: 1s - loss: 8.6895 - acc: 0.385 - ETA: 1s - loss: 8.7386 - acc: 0.383 - ETA: 1s - loss: 8.7174 - acc: 0.383 - ETA: 1s - loss: 8.7384 - acc: 0.381 - ETA: 0s - loss: 8.6860 - acc: 0.385 - ETA: 0s - loss: 8.6523 - acc: 0.386 - ETA: 0s - loss: 8.6620 - acc: 0.385 - ETA: 0s - loss: 8.6769 - acc: 0.385 - ETA: 0s - loss: 8.6520 - acc: 0.386 - ETA: 0s - loss: 8.6759 - acc: 0.385 - ETA: 0s - loss: 8.6827 - acc: 0.385 - ETA: 0s - loss: 8.6671 - acc: 0.386 - ETA: 0s - loss: 8.6804 - acc: 0.385 - ETA: 0s - loss: 8.6854 - acc: 0.386 - ETA: 0s - loss: 8.6855 - acc: 0.386 - ETA: 0s - loss: 8.6798 - acc: 0.386 - ETA: 0s - loss: 8.6901 - acc: 0.385 - ETA: 0s - loss: 8.6723 - acc: 0.385 - ETA: 0s - loss: 8.6810 - acc: 0.385 - ETA: 0s - loss: 8.6623 - acc: 0.385 - ETA: 0s - loss: 8.6870 - acc: 0.384 - ETA: 0s - loss: 8.6905 - acc: 0.384 - ETA: 0s - loss: 8.6612 - acc: 0.386 - ETA: 0s - loss: 8.6648 - acc: 0.385 - 3s 390us/step - loss: 8.6614 - acc: 0.3858 - val_loss: 8.8180 - val_acc: 0.3581\n",
      "\n",
      "Epoch 00003: val_loss improved from 9.13525 to 8.81799, saving model to model/notebook/weights.best.VGG16.hdf5\n",
      "Epoch 4/20\n"
     ]
    },
    {
     "name": "stdout",
     "output_type": "stream",
     "text": [
      "6680/6680 [==============================] - ETA: 2s - loss: 8.3799 - acc: 0.400 - ETA: 6s - loss: 8.6672 - acc: 0.387 - ETA: 4s - loss: 8.3492 - acc: 0.416 - ETA: 4s - loss: 8.4250 - acc: 0.425 - ETA: 4s - loss: 8.2913 - acc: 0.426 - ETA: 3s - loss: 8.1860 - acc: 0.431 - ETA: 3s - loss: 7.9451 - acc: 0.444 - ETA: 3s - loss: 7.9364 - acc: 0.446 - ETA: 3s - loss: 7.9776 - acc: 0.450 - ETA: 3s - loss: 7.9413 - acc: 0.452 - ETA: 3s - loss: 8.1176 - acc: 0.442 - ETA: 3s - loss: 8.0150 - acc: 0.450 - ETA: 3s - loss: 8.0074 - acc: 0.450 - ETA: 3s - loss: 7.9980 - acc: 0.450 - ETA: 3s - loss: 8.0388 - acc: 0.447 - ETA: 3s - loss: 8.0073 - acc: 0.449 - ETA: 3s - loss: 8.0771 - acc: 0.442 - ETA: 3s - loss: 8.1011 - acc: 0.440 - ETA: 3s - loss: 8.1783 - acc: 0.435 - ETA: 3s - loss: 8.1635 - acc: 0.437 - ETA: 3s - loss: 8.1560 - acc: 0.436 - ETA: 3s - loss: 8.2263 - acc: 0.433 - ETA: 3s - loss: 8.2515 - acc: 0.432 - ETA: 3s - loss: 8.2408 - acc: 0.430 - ETA: 3s - loss: 8.1877 - acc: 0.430 - ETA: 3s - loss: 8.2011 - acc: 0.428 - ETA: 3s - loss: 8.1883 - acc: 0.430 - ETA: 3s - loss: 8.2244 - acc: 0.426 - ETA: 3s - loss: 8.2729 - acc: 0.424 - ETA: 3s - loss: 8.3207 - acc: 0.419 - ETA: 3s - loss: 8.3207 - acc: 0.419 - ETA: 3s - loss: 8.2986 - acc: 0.421 - ETA: 2s - loss: 8.3013 - acc: 0.422 - ETA: 2s - loss: 8.3046 - acc: 0.420 - ETA: 2s - loss: 8.2989 - acc: 0.421 - ETA: 2s - loss: 8.2858 - acc: 0.423 - ETA: 2s - loss: 8.3204 - acc: 0.421 - ETA: 2s - loss: 8.3060 - acc: 0.422 - ETA: 2s - loss: 8.2581 - acc: 0.424 - ETA: 2s - loss: 8.2301 - acc: 0.425 - ETA: 2s - loss: 8.2555 - acc: 0.423 - ETA: 2s - loss: 8.2804 - acc: 0.421 - ETA: 1s - loss: 8.2840 - acc: 0.420 - ETA: 1s - loss: 8.2550 - acc: 0.421 - ETA: 1s - loss: 8.2591 - acc: 0.421 - ETA: 1s - loss: 8.2347 - acc: 0.422 - ETA: 1s - loss: 8.2312 - acc: 0.422 - ETA: 1s - loss: 8.2464 - acc: 0.419 - ETA: 1s - loss: 8.2513 - acc: 0.419 - ETA: 1s - loss: 8.2375 - acc: 0.420 - ETA: 1s - loss: 8.2313 - acc: 0.420 - ETA: 0s - loss: 8.2198 - acc: 0.422 - ETA: 0s - loss: 8.2243 - acc: 0.422 - ETA: 0s - loss: 8.2440 - acc: 0.421 - ETA: 0s - loss: 8.2136 - acc: 0.423 - ETA: 0s - loss: 8.2261 - acc: 0.421 - ETA: 0s - loss: 8.2114 - acc: 0.421 - ETA: 0s - loss: 8.1926 - acc: 0.421 - ETA: 0s - loss: 8.1885 - acc: 0.422 - ETA: 0s - loss: 8.1996 - acc: 0.422 - ETA: 0s - loss: 8.1995 - acc: 0.423 - ETA: 0s - loss: 8.1954 - acc: 0.424 - ETA: 0s - loss: 8.1848 - acc: 0.424 - 4s 530us/step - loss: 8.1863 - acc: 0.4244 - val_loss: 8.3334 - val_acc: 0.3952\n",
      "\n",
      "Epoch 00004: val_loss improved from 8.81799 to 8.33344, saving model to model/notebook/weights.best.VGG16.hdf5\n",
      "Epoch 5/20\n",
      "6680/6680 [==============================] - ETA: 1s - loss: 5.7841 - acc: 0.600 - ETA: 3s - loss: 7.5184 - acc: 0.510 - ETA: 2s - loss: 7.2328 - acc: 0.519 - ETA: 2s - loss: 7.4423 - acc: 0.486 - ETA: 2s - loss: 7.6240 - acc: 0.463 - ETA: 2s - loss: 7.3698 - acc: 0.480 - ETA: 2s - loss: 7.4638 - acc: 0.478 - ETA: 2s - loss: 7.4169 - acc: 0.484 - ETA: 2s - loss: 7.5327 - acc: 0.477 - ETA: 2s - loss: 7.5949 - acc: 0.472 - ETA: 2s - loss: 7.6524 - acc: 0.469 - ETA: 1s - loss: 7.5196 - acc: 0.472 - ETA: 1s - loss: 7.4797 - acc: 0.472 - ETA: 1s - loss: 7.5142 - acc: 0.466 - ETA: 1s - loss: 7.4942 - acc: 0.470 - ETA: 1s - loss: 7.5814 - acc: 0.466 - ETA: 1s - loss: 7.6123 - acc: 0.464 - ETA: 1s - loss: 7.6356 - acc: 0.463 - ETA: 1s - loss: 7.7139 - acc: 0.457 - ETA: 1s - loss: 7.6755 - acc: 0.458 - ETA: 1s - loss: 7.6652 - acc: 0.457 - ETA: 1s - loss: 7.6166 - acc: 0.461 - ETA: 1s - loss: 7.6471 - acc: 0.459 - ETA: 1s - loss: 7.6440 - acc: 0.459 - ETA: 1s - loss: 7.6565 - acc: 0.457 - ETA: 1s - loss: 7.6468 - acc: 0.457 - ETA: 1s - loss: 7.6387 - acc: 0.458 - ETA: 1s - loss: 7.7148 - acc: 0.454 - ETA: 0s - loss: 7.6811 - acc: 0.455 - ETA: 0s - loss: 7.7100 - acc: 0.454 - ETA: 0s - loss: 7.7353 - acc: 0.452 - ETA: 0s - loss: 7.7405 - acc: 0.451 - ETA: 0s - loss: 7.7406 - acc: 0.451 - ETA: 0s - loss: 7.7319 - acc: 0.451 - ETA: 0s - loss: 7.7279 - acc: 0.451 - ETA: 0s - loss: 7.7156 - acc: 0.451 - ETA: 0s - loss: 7.7163 - acc: 0.451 - ETA: 0s - loss: 7.6899 - acc: 0.453 - ETA: 0s - loss: 7.6631 - acc: 0.455 - ETA: 0s - loss: 7.6607 - acc: 0.455 - ETA: 0s - loss: 7.6676 - acc: 0.455 - ETA: 0s - loss: 7.6915 - acc: 0.453 - ETA: 0s - loss: 7.6884 - acc: 0.453 - ETA: 0s - loss: 7.6665 - acc: 0.455 - ETA: 0s - loss: 7.6630 - acc: 0.455 - ETA: 0s - loss: 7.6487 - acc: 0.457 - ETA: 0s - loss: 7.6284 - acc: 0.459 - ETA: 0s - loss: 7.6625 - acc: 0.457 - ETA: 0s - loss: 7.6457 - acc: 0.458 - ETA: 0s - loss: 7.6330 - acc: 0.459 - 3s 430us/step - loss: 7.6054 - acc: 0.4612 - val_loss: 7.8908 - val_acc: 0.4144\n",
      "\n",
      "Epoch 00005: val_loss improved from 8.33344 to 7.89078, saving model to model/notebook/weights.best.VGG16.hdf5\n",
      "Epoch 6/20\n",
      "6680/6680 [==============================] - ETA: 2s - loss: 6.3902 - acc: 0.550 - ETA: 6s - loss: 7.9953 - acc: 0.450 - ETA: 6s - loss: 8.4097 - acc: 0.428 - ETA: 5s - loss: 7.7928 - acc: 0.463 - ETA: 4s - loss: 7.4062 - acc: 0.485 - ETA: 4s - loss: 7.8018 - acc: 0.454 - ETA: 3s - loss: 7.6535 - acc: 0.466 - ETA: 3s - loss: 7.4412 - acc: 0.470 - ETA: 2s - loss: 7.3286 - acc: 0.478 - ETA: 2s - loss: 7.2850 - acc: 0.482 - ETA: 2s - loss: 7.2963 - acc: 0.483 - ETA: 2s - loss: 7.2191 - acc: 0.490 - ETA: 2s - loss: 7.1480 - acc: 0.496 - ETA: 2s - loss: 7.0415 - acc: 0.502 - ETA: 2s - loss: 7.0272 - acc: 0.503 - ETA: 2s - loss: 7.0436 - acc: 0.503 - ETA: 1s - loss: 7.0996 - acc: 0.502 - ETA: 1s - loss: 7.1088 - acc: 0.501 - ETA: 1s - loss: 7.0717 - acc: 0.502 - ETA: 1s - loss: 7.0557 - acc: 0.505 - ETA: 1s - loss: 7.1013 - acc: 0.503 - ETA: 1s - loss: 7.1069 - acc: 0.503 - ETA: 1s - loss: 7.1282 - acc: 0.502 - ETA: 1s - loss: 7.1359 - acc: 0.501 - ETA: 1s - loss: 7.1664 - acc: 0.500 - ETA: 1s - loss: 7.1451 - acc: 0.502 - ETA: 1s - loss: 7.2135 - acc: 0.497 - ETA: 1s - loss: 7.2295 - acc: 0.496 - ETA: 1s - loss: 7.2111 - acc: 0.498 - ETA: 0s - loss: 7.2260 - acc: 0.497 - ETA: 0s - loss: 7.2325 - acc: 0.496 - ETA: 0s - loss: 7.2317 - acc: 0.497 - ETA: 0s - loss: 7.2483 - acc: 0.496 - ETA: 0s - loss: 7.2575 - acc: 0.495 - ETA: 0s - loss: 7.2308 - acc: 0.496 - ETA: 0s - loss: 7.2184 - acc: 0.497 - ETA: 0s - loss: 7.2332 - acc: 0.496 - ETA: 0s - loss: 7.2427 - acc: 0.496 - ETA: 0s - loss: 7.2476 - acc: 0.495 - ETA: 0s - loss: 7.2647 - acc: 0.494 - ETA: 0s - loss: 7.2700 - acc: 0.494 - ETA: 0s - loss: 7.2561 - acc: 0.495 - ETA: 0s - loss: 7.2585 - acc: 0.495 - ETA: 0s - loss: 7.2652 - acc: 0.495 - ETA: 0s - loss: 7.2645 - acc: 0.495 - 3s 381us/step - loss: 7.2564 - acc: 0.4952 - val_loss: 7.6765 - val_acc: 0.4240\n",
      "\n",
      "Epoch 00006: val_loss improved from 7.89078 to 7.67651, saving model to model/notebook/weights.best.VGG16.hdf5\n",
      "Epoch 7/20\n"
     ]
    },
    {
     "name": "stdout",
     "output_type": "stream",
     "text": [
      "6680/6680 [==============================] - ETA: 1s - loss: 6.7473 - acc: 0.550 - ETA: 2s - loss: 7.5536 - acc: 0.500 - ETA: 2s - loss: 7.5535 - acc: 0.503 - ETA: 2s - loss: 7.3845 - acc: 0.515 - ETA: 2s - loss: 7.1182 - acc: 0.530 - ETA: 2s - loss: 6.9913 - acc: 0.537 - ETA: 2s - loss: 6.9351 - acc: 0.542 - ETA: 2s - loss: 6.7817 - acc: 0.552 - ETA: 2s - loss: 6.7665 - acc: 0.550 - ETA: 2s - loss: 6.7413 - acc: 0.553 - ETA: 2s - loss: 6.7285 - acc: 0.553 - ETA: 2s - loss: 6.8183 - acc: 0.548 - ETA: 1s - loss: 6.8377 - acc: 0.543 - ETA: 1s - loss: 6.9621 - acc: 0.533 - ETA: 1s - loss: 6.9525 - acc: 0.532 - ETA: 1s - loss: 6.9711 - acc: 0.531 - ETA: 1s - loss: 7.0431 - acc: 0.528 - ETA: 1s - loss: 7.0197 - acc: 0.531 - ETA: 1s - loss: 7.0597 - acc: 0.527 - ETA: 1s - loss: 7.0549 - acc: 0.527 - ETA: 1s - loss: 7.0884 - acc: 0.525 - ETA: 1s - loss: 7.1568 - acc: 0.520 - ETA: 1s - loss: 7.1375 - acc: 0.521 - ETA: 1s - loss: 7.1227 - acc: 0.522 - ETA: 1s - loss: 7.1234 - acc: 0.522 - ETA: 1s - loss: 7.0711 - acc: 0.525 - ETA: 1s - loss: 7.0814 - acc: 0.525 - ETA: 1s - loss: 7.0533 - acc: 0.527 - ETA: 0s - loss: 7.0723 - acc: 0.526 - ETA: 0s - loss: 7.0666 - acc: 0.527 - ETA: 0s - loss: 7.0717 - acc: 0.526 - ETA: 0s - loss: 7.1223 - acc: 0.523 - ETA: 0s - loss: 7.0915 - acc: 0.525 - ETA: 0s - loss: 7.1217 - acc: 0.523 - ETA: 0s - loss: 7.1055 - acc: 0.523 - ETA: 0s - loss: 7.1026 - acc: 0.523 - ETA: 0s - loss: 7.1017 - acc: 0.522 - ETA: 0s - loss: 7.1028 - acc: 0.522 - ETA: 0s - loss: 7.0951 - acc: 0.521 - ETA: 0s - loss: 7.0814 - acc: 0.522 - ETA: 0s - loss: 7.0809 - acc: 0.521 - ETA: 0s - loss: 7.0859 - acc: 0.520 - ETA: 0s - loss: 7.1031 - acc: 0.520 - ETA: 0s - loss: 7.1018 - acc: 0.520 - ETA: 0s - loss: 7.0939 - acc: 0.520 - 3s 382us/step - loss: 7.1069 - acc: 0.5193 - val_loss: 7.6108 - val_acc: 0.4407\n",
      "\n",
      "Epoch 00007: val_loss improved from 7.67651 to 7.61085, saving model to model/notebook/weights.best.VGG16.hdf5\n",
      "Epoch 8/20\n",
      "6680/6680 [==============================] - ETA: 2s - loss: 7.3272 - acc: 0.500 - ETA: 2s - loss: 6.7350 - acc: 0.537 - ETA: 2s - loss: 6.4166 - acc: 0.562 - ETA: 2s - loss: 6.5279 - acc: 0.565 - ETA: 2s - loss: 6.7378 - acc: 0.554 - ETA: 2s - loss: 6.8326 - acc: 0.546 - ETA: 1s - loss: 6.8634 - acc: 0.543 - ETA: 1s - loss: 6.7298 - acc: 0.552 - ETA: 1s - loss: 6.7308 - acc: 0.550 - ETA: 1s - loss: 6.8184 - acc: 0.543 - ETA: 1s - loss: 6.8542 - acc: 0.542 - ETA: 1s - loss: 6.8369 - acc: 0.543 - ETA: 1s - loss: 6.9019 - acc: 0.539 - ETA: 1s - loss: 6.8835 - acc: 0.542 - ETA: 1s - loss: 6.8657 - acc: 0.542 - ETA: 1s - loss: 6.8880 - acc: 0.539 - ETA: 1s - loss: 6.8872 - acc: 0.538 - ETA: 1s - loss: 6.8279 - acc: 0.541 - ETA: 1s - loss: 6.8202 - acc: 0.540 - ETA: 1s - loss: 6.8524 - acc: 0.538 - ETA: 1s - loss: 6.8518 - acc: 0.538 - ETA: 1s - loss: 6.8681 - acc: 0.535 - ETA: 0s - loss: 6.8851 - acc: 0.534 - ETA: 0s - loss: 6.8908 - acc: 0.533 - ETA: 0s - loss: 6.8478 - acc: 0.535 - ETA: 0s - loss: 6.8679 - acc: 0.533 - ETA: 0s - loss: 6.9063 - acc: 0.529 - ETA: 0s - loss: 6.9332 - acc: 0.526 - ETA: 0s - loss: 6.9253 - acc: 0.526 - ETA: 0s - loss: 6.9283 - acc: 0.525 - ETA: 0s - loss: 6.9001 - acc: 0.526 - ETA: 0s - loss: 6.8896 - acc: 0.526 - ETA: 0s - loss: 6.8571 - acc: 0.527 - ETA: 0s - loss: 6.8553 - acc: 0.528 - ETA: 0s - loss: 6.8826 - acc: 0.527 - ETA: 0s - loss: 6.8961 - acc: 0.526 - ETA: 0s - loss: 6.9030 - acc: 0.526 - ETA: 0s - loss: 6.8804 - acc: 0.528 - ETA: 0s - loss: 6.8863 - acc: 0.528 - ETA: 0s - loss: 6.8561 - acc: 0.529 - 2s 338us/step - loss: 6.8640 - acc: 0.5293 - val_loss: 7.3490 - val_acc: 0.4695\n",
      "\n",
      "Epoch 00008: val_loss improved from 7.61085 to 7.34901, saving model to model/notebook/weights.best.VGG16.hdf5\n",
      "Epoch 9/20\n",
      "6680/6680 [==============================] - ETA: 1s - loss: 8.0618 - acc: 0.500 - ETA: 1s - loss: 6.3229 - acc: 0.580 - ETA: 1s - loss: 6.0793 - acc: 0.592 - ETA: 1s - loss: 6.0071 - acc: 0.601 - ETA: 1s - loss: 6.0568 - acc: 0.600 - ETA: 1s - loss: 6.1276 - acc: 0.590 - ETA: 1s - loss: 6.2685 - acc: 0.579 - ETA: 1s - loss: 6.3617 - acc: 0.573 - ETA: 1s - loss: 6.3025 - acc: 0.580 - ETA: 1s - loss: 6.4551 - acc: 0.569 - ETA: 1s - loss: 6.4947 - acc: 0.566 - ETA: 1s - loss: 6.4210 - acc: 0.571 - ETA: 1s - loss: 6.4646 - acc: 0.567 - ETA: 1s - loss: 6.4578 - acc: 0.567 - ETA: 1s - loss: 6.5052 - acc: 0.565 - ETA: 1s - loss: 6.5368 - acc: 0.563 - ETA: 1s - loss: 6.5800 - acc: 0.562 - ETA: 1s - loss: 6.5896 - acc: 0.561 - ETA: 1s - loss: 6.5342 - acc: 0.563 - ETA: 1s - loss: 6.5086 - acc: 0.564 - ETA: 1s - loss: 6.4834 - acc: 0.565 - ETA: 1s - loss: 6.4765 - acc: 0.566 - ETA: 1s - loss: 6.4608 - acc: 0.567 - ETA: 1s - loss: 6.4193 - acc: 0.569 - ETA: 1s - loss: 6.4120 - acc: 0.569 - ETA: 1s - loss: 6.4720 - acc: 0.566 - ETA: 0s - loss: 6.4608 - acc: 0.567 - ETA: 0s - loss: 6.4438 - acc: 0.568 - ETA: 0s - loss: 6.4509 - acc: 0.567 - ETA: 0s - loss: 6.4823 - acc: 0.564 - ETA: 0s - loss: 6.4471 - acc: 0.566 - ETA: 0s - loss: 6.4600 - acc: 0.565 - ETA: 0s - loss: 6.4891 - acc: 0.564 - ETA: 0s - loss: 6.5222 - acc: 0.562 - ETA: 0s - loss: 6.5605 - acc: 0.559 - ETA: 0s - loss: 6.5977 - acc: 0.557 - ETA: 0s - loss: 6.6131 - acc: 0.556 - ETA: 0s - loss: 6.5949 - acc: 0.557 - ETA: 0s - loss: 6.5987 - acc: 0.556 - ETA: 0s - loss: 6.5984 - acc: 0.556 - ETA: 0s - loss: 6.6040 - acc: 0.555 - ETA: 0s - loss: 6.6337 - acc: 0.554 - ETA: 0s - loss: 6.6467 - acc: 0.552 - 2s 359us/step - loss: 6.6533 - acc: 0.5518 - val_loss: 7.3949 - val_acc: 0.4467\n",
      "\n",
      "Epoch 00009: val_loss did not improve from 7.34901\n",
      "Epoch 10/20\n",
      "6680/6680 [==============================] - ETA: 5s - loss: 6.5890 - acc: 0.500 - ETA: 2s - loss: 6.4111 - acc: 0.562 - ETA: 2s - loss: 6.3647 - acc: 0.575 - ETA: 2s - loss: 6.3154 - acc: 0.581 - ETA: 2s - loss: 6.4542 - acc: 0.575 - ETA: 2s - loss: 6.4859 - acc: 0.576 - ETA: 1s - loss: 6.5242 - acc: 0.573 - ETA: 1s - loss: 6.5180 - acc: 0.574 - ETA: 1s - loss: 6.5244 - acc: 0.571 - ETA: 1s - loss: 6.4981 - acc: 0.573 - ETA: 1s - loss: 6.4726 - acc: 0.574 - ETA: 1s - loss: 6.4213 - acc: 0.578 - ETA: 1s - loss: 6.4724 - acc: 0.576 - ETA: 1s - loss: 6.4962 - acc: 0.574 - ETA: 1s - loss: 6.4510 - acc: 0.577 - ETA: 1s - loss: 6.4913 - acc: 0.573 - ETA: 1s - loss: 6.4791 - acc: 0.574 - ETA: 1s - loss: 6.4185 - acc: 0.576 - ETA: 1s - loss: 6.4538 - acc: 0.574 - ETA: 1s - loss: 6.4866 - acc: 0.572 - ETA: 1s - loss: 6.5472 - acc: 0.569 - ETA: 1s - loss: 6.5685 - acc: 0.568 - ETA: 1s - loss: 6.5553 - acc: 0.568 - ETA: 0s - loss: 6.5773 - acc: 0.566 - ETA: 0s - loss: 6.5638 - acc: 0.566 - ETA: 0s - loss: 6.5575 - acc: 0.565 - ETA: 0s - loss: 6.5601 - acc: 0.565 - ETA: 0s - loss: 6.5664 - acc: 0.565 - ETA: 0s - loss: 6.5695 - acc: 0.565 - ETA: 0s - loss: 6.5636 - acc: 0.565 - ETA: 0s - loss: 6.5721 - acc: 0.563 - ETA: 0s - loss: 6.5419 - acc: 0.565 - ETA: 0s - loss: 6.5584 - acc: 0.564 - ETA: 0s - loss: 6.5367 - acc: 0.565 - ETA: 0s - loss: 6.5009 - acc: 0.567 - ETA: 0s - loss: 6.5120 - acc: 0.566 - ETA: 0s - loss: 6.5283 - acc: 0.564 - ETA: 0s - loss: 6.5489 - acc: 0.563 - ETA: 0s - loss: 6.5521 - acc: 0.562 - ETA: 0s - loss: 6.5203 - acc: 0.564 - ETA: 0s - loss: 6.5329 - acc: 0.563 - ETA: 0s - loss: 6.5242 - acc: 0.564 - 2s 355us/step - loss: 6.5209 - acc: 0.5647 - val_loss: 7.1224 - val_acc: 0.4743\n",
      "\n",
      "Epoch 00010: val_loss improved from 7.34901 to 7.12237, saving model to model/notebook/weights.best.VGG16.hdf5\n",
      "Epoch 11/20\n"
     ]
    },
    {
     "name": "stdout",
     "output_type": "stream",
     "text": [
      "6680/6680 [==============================] - ETA: 1s - loss: 4.3393 - acc: 0.600 - ETA: 2s - loss: 6.6044 - acc: 0.568 - ETA: 2s - loss: 6.4729 - acc: 0.580 - ETA: 2s - loss: 6.3289 - acc: 0.588 - ETA: 2s - loss: 6.4473 - acc: 0.576 - ETA: 2s - loss: 6.3709 - acc: 0.583 - ETA: 2s - loss: 6.2388 - acc: 0.592 - ETA: 2s - loss: 6.0634 - acc: 0.601 - ETA: 1s - loss: 6.1557 - acc: 0.591 - ETA: 1s - loss: 6.1793 - acc: 0.588 - ETA: 1s - loss: 6.0837 - acc: 0.595 - ETA: 1s - loss: 6.0910 - acc: 0.592 - ETA: 1s - loss: 6.0805 - acc: 0.593 - ETA: 1s - loss: 6.1472 - acc: 0.591 - ETA: 1s - loss: 6.1285 - acc: 0.591 - ETA: 1s - loss: 6.2471 - acc: 0.583 - ETA: 1s - loss: 6.2642 - acc: 0.583 - ETA: 1s - loss: 6.2897 - acc: 0.580 - ETA: 1s - loss: 6.2987 - acc: 0.579 - ETA: 1s - loss: 6.3670 - acc: 0.574 - ETA: 1s - loss: 6.3228 - acc: 0.577 - ETA: 1s - loss: 6.2755 - acc: 0.579 - ETA: 1s - loss: 6.2800 - acc: 0.579 - ETA: 1s - loss: 6.2434 - acc: 0.581 - ETA: 0s - loss: 6.2321 - acc: 0.582 - ETA: 0s - loss: 6.2473 - acc: 0.580 - ETA: 0s - loss: 6.2193 - acc: 0.582 - ETA: 0s - loss: 6.2150 - acc: 0.582 - ETA: 0s - loss: 6.2276 - acc: 0.582 - ETA: 0s - loss: 6.2490 - acc: 0.581 - ETA: 0s - loss: 6.2300 - acc: 0.583 - ETA: 0s - loss: 6.2173 - acc: 0.584 - ETA: 0s - loss: 6.2476 - acc: 0.583 - ETA: 0s - loss: 6.2436 - acc: 0.583 - ETA: 0s - loss: 6.2429 - acc: 0.583 - ETA: 0s - loss: 6.2352 - acc: 0.583 - ETA: 0s - loss: 6.2217 - acc: 0.584 - ETA: 0s - loss: 6.2252 - acc: 0.584 - ETA: 0s - loss: 6.2447 - acc: 0.583 - ETA: 0s - loss: 6.2477 - acc: 0.583 - 2s 335us/step - loss: 6.2300 - acc: 0.5844 - val_loss: 6.9725 - val_acc: 0.4862\n",
      "\n",
      "Epoch 00011: val_loss improved from 7.12237 to 6.97255, saving model to model/notebook/weights.best.VGG16.hdf5\n",
      "Epoch 12/20\n",
      "6680/6680 [==============================] - ETA: 3s - loss: 4.0446 - acc: 0.750 - ETA: 2s - loss: 5.9963 - acc: 0.588 - ETA: 1s - loss: 6.1036 - acc: 0.597 - ETA: 1s - loss: 6.1840 - acc: 0.594 - ETA: 1s - loss: 6.0061 - acc: 0.602 - ETA: 1s - loss: 6.0442 - acc: 0.601 - ETA: 1s - loss: 6.0063 - acc: 0.604 - ETA: 1s - loss: 5.9915 - acc: 0.605 - ETA: 1s - loss: 5.9720 - acc: 0.608 - ETA: 1s - loss: 6.0501 - acc: 0.605 - ETA: 1s - loss: 6.1016 - acc: 0.600 - ETA: 1s - loss: 6.1098 - acc: 0.602 - ETA: 1s - loss: 6.1025 - acc: 0.601 - ETA: 1s - loss: 6.1222 - acc: 0.599 - ETA: 1s - loss: 6.0105 - acc: 0.605 - ETA: 1s - loss: 6.0434 - acc: 0.603 - ETA: 1s - loss: 6.0681 - acc: 0.602 - ETA: 1s - loss: 6.0358 - acc: 0.602 - ETA: 0s - loss: 6.0482 - acc: 0.602 - ETA: 0s - loss: 6.0420 - acc: 0.603 - ETA: 0s - loss: 6.0068 - acc: 0.605 - ETA: 0s - loss: 6.0400 - acc: 0.603 - ETA: 0s - loss: 6.0603 - acc: 0.603 - ETA: 0s - loss: 6.0634 - acc: 0.603 - ETA: 0s - loss: 6.0807 - acc: 0.602 - ETA: 0s - loss: 6.0858 - acc: 0.602 - ETA: 0s - loss: 6.1020 - acc: 0.601 - ETA: 0s - loss: 6.1106 - acc: 0.600 - ETA: 0s - loss: 6.1053 - acc: 0.600 - ETA: 0s - loss: 6.1131 - acc: 0.599 - ETA: 0s - loss: 6.0956 - acc: 0.601 - ETA: 0s - loss: 6.0838 - acc: 0.601 - ETA: 0s - loss: 6.0856 - acc: 0.601 - ETA: 0s - loss: 6.0882 - acc: 0.601 - ETA: 0s - loss: 6.1220 - acc: 0.599 - ETA: 0s - loss: 6.1006 - acc: 0.601 - ETA: 0s - loss: 6.1043 - acc: 0.601 - 2s 310us/step - loss: 6.1149 - acc: 0.6006 - val_loss: 6.9209 - val_acc: 0.5006\n",
      "\n",
      "Epoch 00012: val_loss improved from 6.97255 to 6.92088, saving model to model/notebook/weights.best.VGG16.hdf5\n",
      "Epoch 13/20\n",
      "6680/6680 [==============================] - ETA: 2s - loss: 5.6414 - acc: 0.650 - ETA: 1s - loss: 5.8490 - acc: 0.631 - ETA: 1s - loss: 6.1851 - acc: 0.605 - ETA: 1s - loss: 5.9940 - acc: 0.607 - ETA: 1s - loss: 6.0194 - acc: 0.609 - ETA: 1s - loss: 5.9360 - acc: 0.615 - ETA: 1s - loss: 6.0480 - acc: 0.607 - ETA: 1s - loss: 6.0500 - acc: 0.609 - ETA: 1s - loss: 5.9946 - acc: 0.611 - ETA: 1s - loss: 5.8263 - acc: 0.621 - ETA: 1s - loss: 5.7285 - acc: 0.625 - ETA: 1s - loss: 5.7900 - acc: 0.621 - ETA: 1s - loss: 5.8286 - acc: 0.617 - ETA: 1s - loss: 5.8781 - acc: 0.614 - ETA: 1s - loss: 5.9403 - acc: 0.610 - ETA: 1s - loss: 5.9959 - acc: 0.606 - ETA: 1s - loss: 6.0132 - acc: 0.605 - ETA: 1s - loss: 6.0243 - acc: 0.604 - ETA: 1s - loss: 6.0322 - acc: 0.604 - ETA: 1s - loss: 6.0069 - acc: 0.606 - ETA: 0s - loss: 6.0065 - acc: 0.606 - ETA: 0s - loss: 6.0050 - acc: 0.607 - ETA: 0s - loss: 5.9922 - acc: 0.608 - ETA: 0s - loss: 5.9475 - acc: 0.611 - ETA: 0s - loss: 5.9136 - acc: 0.613 - ETA: 0s - loss: 5.9471 - acc: 0.611 - ETA: 0s - loss: 5.9895 - acc: 0.608 - ETA: 0s - loss: 6.0065 - acc: 0.607 - ETA: 0s - loss: 5.9810 - acc: 0.609 - ETA: 0s - loss: 5.9825 - acc: 0.608 - ETA: 0s - loss: 5.9754 - acc: 0.609 - ETA: 0s - loss: 5.9575 - acc: 0.610 - ETA: 0s - loss: 5.9807 - acc: 0.608 - ETA: 0s - loss: 6.0116 - acc: 0.606 - ETA: 0s - loss: 6.0199 - acc: 0.606 - ETA: 0s - loss: 6.0195 - acc: 0.606 - ETA: 0s - loss: 5.9998 - acc: 0.607 - ETA: 0s - loss: 6.0177 - acc: 0.606 - ETA: 0s - loss: 5.9880 - acc: 0.608 - ETA: 0s - loss: 5.9900 - acc: 0.607 - ETA: 0s - loss: 5.9919 - acc: 0.607 - ETA: 0s - loss: 5.9803 - acc: 0.607 - 2s 344us/step - loss: 5.9844 - acc: 0.6070 - val_loss: 6.8667 - val_acc: 0.4862\n",
      "\n",
      "Epoch 00013: val_loss improved from 6.92088 to 6.86673, saving model to model/notebook/weights.best.VGG16.hdf5\n",
      "Epoch 14/20\n",
      "6680/6680 [==============================] - ETA: 1s - loss: 6.4510 - acc: 0.600 - ETA: 1s - loss: 6.2784 - acc: 0.585 - ETA: 1s - loss: 5.6681 - acc: 0.627 - ETA: 1s - loss: 5.5595 - acc: 0.638 - ETA: 1s - loss: 5.5364 - acc: 0.642 - ETA: 1s - loss: 5.7274 - acc: 0.630 - ETA: 1s - loss: 5.8303 - acc: 0.624 - ETA: 1s - loss: 5.8819 - acc: 0.620 - ETA: 1s - loss: 5.9037 - acc: 0.620 - ETA: 1s - loss: 5.8532 - acc: 0.623 - ETA: 1s - loss: 5.8814 - acc: 0.619 - ETA: 1s - loss: 5.7678 - acc: 0.627 - ETA: 1s - loss: 5.7467 - acc: 0.629 - ETA: 1s - loss: 5.8469 - acc: 0.622 - ETA: 1s - loss: 5.9034 - acc: 0.619 - ETA: 1s - loss: 5.8941 - acc: 0.619 - ETA: 1s - loss: 5.8175 - acc: 0.622 - ETA: 1s - loss: 5.7909 - acc: 0.624 - ETA: 1s - loss: 5.7818 - acc: 0.623 - ETA: 1s - loss: 5.7609 - acc: 0.625 - ETA: 1s - loss: 5.7852 - acc: 0.623 - ETA: 0s - loss: 5.8310 - acc: 0.620 - ETA: 0s - loss: 5.8332 - acc: 0.619 - ETA: 0s - loss: 5.8567 - acc: 0.618 - ETA: 0s - loss: 5.8717 - acc: 0.617 - ETA: 0s - loss: 5.8930 - acc: 0.615 - ETA: 0s - loss: 5.8822 - acc: 0.615 - ETA: 0s - loss: 5.8702 - acc: 0.615 - ETA: 0s - loss: 5.8587 - acc: 0.616 - ETA: 0s - loss: 5.8524 - acc: 0.616 - ETA: 0s - loss: 5.8554 - acc: 0.616 - ETA: 0s - loss: 5.7999 - acc: 0.620 - ETA: 0s - loss: 5.7830 - acc: 0.620 - ETA: 0s - loss: 5.7855 - acc: 0.620 - ETA: 0s - loss: 5.7897 - acc: 0.620 - ETA: 0s - loss: 5.7829 - acc: 0.620 - ETA: 0s - loss: 5.7854 - acc: 0.621 - ETA: 0s - loss: 5.8001 - acc: 0.619 - ETA: 0s - loss: 5.8173 - acc: 0.618 - ETA: 0s - loss: 5.8174 - acc: 0.618 - ETA: 0s - loss: 5.8017 - acc: 0.619 - ETA: 0s - loss: 5.8088 - acc: 0.619 - 2s 344us/step - loss: 5.7963 - acc: 0.6202 - val_loss: 6.6235 - val_acc: 0.4994\n",
      "\n",
      "Epoch 00014: val_loss improved from 6.86673 to 6.62355, saving model to model/notebook/weights.best.VGG16.hdf5\n",
      "Epoch 15/20\n"
     ]
    },
    {
     "name": "stdout",
     "output_type": "stream",
     "text": [
      "6680/6680 [==============================] - ETA: 4s - loss: 4.9863 - acc: 0.600 - ETA: 2s - loss: 4.9519 - acc: 0.675 - ETA: 2s - loss: 5.5316 - acc: 0.639 - ETA: 2s - loss: 5.0089 - acc: 0.668 - ETA: 2s - loss: 5.3824 - acc: 0.646 - ETA: 2s - loss: 5.4824 - acc: 0.641 - ETA: 1s - loss: 5.4786 - acc: 0.643 - ETA: 1s - loss: 5.5887 - acc: 0.638 - ETA: 1s - loss: 5.5191 - acc: 0.644 - ETA: 1s - loss: 5.5599 - acc: 0.641 - ETA: 1s - loss: 5.5805 - acc: 0.641 - ETA: 1s - loss: 5.5682 - acc: 0.642 - ETA: 1s - loss: 5.5302 - acc: 0.645 - ETA: 1s - loss: 5.5084 - acc: 0.647 - ETA: 1s - loss: 5.5734 - acc: 0.641 - ETA: 1s - loss: 5.5925 - acc: 0.640 - ETA: 1s - loss: 5.6156 - acc: 0.638 - ETA: 1s - loss: 5.6235 - acc: 0.638 - ETA: 1s - loss: 5.6827 - acc: 0.634 - ETA: 1s - loss: 5.6370 - acc: 0.636 - ETA: 1s - loss: 5.6411 - acc: 0.635 - ETA: 1s - loss: 5.6433 - acc: 0.635 - ETA: 1s - loss: 5.6567 - acc: 0.634 - ETA: 1s - loss: 5.6873 - acc: 0.632 - ETA: 1s - loss: 5.7001 - acc: 0.632 - ETA: 0s - loss: 5.7146 - acc: 0.631 - ETA: 0s - loss: 5.6850 - acc: 0.633 - ETA: 0s - loss: 5.6815 - acc: 0.633 - ETA: 0s - loss: 5.6950 - acc: 0.632 - ETA: 0s - loss: 5.6841 - acc: 0.632 - ETA: 0s - loss: 5.6547 - acc: 0.634 - ETA: 0s - loss: 5.6550 - acc: 0.634 - ETA: 0s - loss: 5.6506 - acc: 0.633 - ETA: 0s - loss: 5.6438 - acc: 0.634 - ETA: 0s - loss: 5.6402 - acc: 0.634 - ETA: 0s - loss: 5.6545 - acc: 0.633 - ETA: 0s - loss: 5.6735 - acc: 0.632 - ETA: 0s - loss: 5.6977 - acc: 0.630 - ETA: 0s - loss: 5.6964 - acc: 0.630 - ETA: 0s - loss: 5.6875 - acc: 0.631 - ETA: 0s - loss: 5.6834 - acc: 0.631 - ETA: 0s - loss: 5.6601 - acc: 0.632 - ETA: 0s - loss: 5.6662 - acc: 0.632 - 2s 362us/step - loss: 5.6637 - acc: 0.6326 - val_loss: 6.5124 - val_acc: 0.4994\n",
      "\n",
      "Epoch 00015: val_loss improved from 6.62355 to 6.51238, saving model to model/notebook/weights.best.VGG16.hdf5\n",
      "Epoch 16/20\n",
      "6680/6680 [==============================] - ETA: 3s - loss: 8.5136 - acc: 0.450 - ETA: 2s - loss: 6.5066 - acc: 0.571 - ETA: 2s - loss: 6.6831 - acc: 0.567 - ETA: 2s - loss: 6.1911 - acc: 0.597 - ETA: 2s - loss: 6.0594 - acc: 0.606 - ETA: 2s - loss: 5.8570 - acc: 0.619 - ETA: 2s - loss: 5.8614 - acc: 0.619 - ETA: 1s - loss: 5.9241 - acc: 0.617 - ETA: 1s - loss: 5.7658 - acc: 0.628 - ETA: 1s - loss: 5.6977 - acc: 0.633 - ETA: 1s - loss: 5.6620 - acc: 0.636 - ETA: 1s - loss: 5.6270 - acc: 0.638 - ETA: 1s - loss: 5.6785 - acc: 0.634 - ETA: 1s - loss: 5.7020 - acc: 0.634 - ETA: 1s - loss: 5.6778 - acc: 0.635 - ETA: 1s - loss: 5.6566 - acc: 0.637 - ETA: 1s - loss: 5.7207 - acc: 0.634 - ETA: 1s - loss: 5.6748 - acc: 0.636 - ETA: 1s - loss: 5.6576 - acc: 0.637 - ETA: 1s - loss: 5.6867 - acc: 0.634 - ETA: 1s - loss: 5.6671 - acc: 0.635 - ETA: 1s - loss: 5.6426 - acc: 0.637 - ETA: 1s - loss: 5.6480 - acc: 0.637 - ETA: 1s - loss: 5.6165 - acc: 0.639 - ETA: 1s - loss: 5.6453 - acc: 0.637 - ETA: 0s - loss: 5.6433 - acc: 0.637 - ETA: 0s - loss: 5.5944 - acc: 0.640 - ETA: 0s - loss: 5.5589 - acc: 0.642 - ETA: 0s - loss: 5.5605 - acc: 0.642 - ETA: 0s - loss: 5.5755 - acc: 0.641 - ETA: 0s - loss: 5.5744 - acc: 0.641 - ETA: 0s - loss: 5.5842 - acc: 0.641 - ETA: 0s - loss: 5.5830 - acc: 0.641 - ETA: 0s - loss: 5.5637 - acc: 0.643 - ETA: 0s - loss: 5.5561 - acc: 0.643 - ETA: 0s - loss: 5.5347 - acc: 0.645 - ETA: 0s - loss: 5.5360 - acc: 0.645 - ETA: 0s - loss: 5.5488 - acc: 0.643 - ETA: 0s - loss: 5.5458 - acc: 0.643 - ETA: 0s - loss: 5.5649 - acc: 0.642 - ETA: 0s - loss: 5.5903 - acc: 0.640 - ETA: 0s - loss: 5.5918 - acc: 0.640 - 2s 347us/step - loss: 5.5876 - acc: 0.6406 - val_loss: 6.4817 - val_acc: 0.5090\n",
      "\n",
      "Epoch 00016: val_loss improved from 6.51238 to 6.48169, saving model to model/notebook/weights.best.VGG16.hdf5\n",
      "Epoch 17/20\n",
      "6680/6680 [==============================] - ETA: 2s - loss: 6.5731 - acc: 0.550 - ETA: 2s - loss: 5.5608 - acc: 0.644 - ETA: 1s - loss: 5.9280 - acc: 0.625 - ETA: 2s - loss: 5.9449 - acc: 0.626 - ETA: 1s - loss: 5.9858 - acc: 0.623 - ETA: 1s - loss: 5.8591 - acc: 0.632 - ETA: 1s - loss: 5.7583 - acc: 0.638 - ETA: 1s - loss: 5.5957 - acc: 0.648 - ETA: 1s - loss: 5.4784 - acc: 0.655 - ETA: 1s - loss: 5.4893 - acc: 0.650 - ETA: 1s - loss: 5.4072 - acc: 0.655 - ETA: 1s - loss: 5.3774 - acc: 0.657 - ETA: 1s - loss: 5.3998 - acc: 0.655 - ETA: 1s - loss: 5.3064 - acc: 0.659 - ETA: 1s - loss: 5.3362 - acc: 0.656 - ETA: 1s - loss: 5.3174 - acc: 0.657 - ETA: 1s - loss: 5.3261 - acc: 0.656 - ETA: 1s - loss: 5.3285 - acc: 0.656 - ETA: 1s - loss: 5.3420 - acc: 0.656 - ETA: 1s - loss: 5.3587 - acc: 0.655 - ETA: 1s - loss: 5.3552 - acc: 0.655 - ETA: 1s - loss: 5.3359 - acc: 0.656 - ETA: 0s - loss: 5.3519 - acc: 0.655 - ETA: 0s - loss: 5.3837 - acc: 0.653 - ETA: 0s - loss: 5.3949 - acc: 0.651 - ETA: 0s - loss: 5.4179 - acc: 0.649 - ETA: 0s - loss: 5.4599 - acc: 0.647 - ETA: 0s - loss: 5.4630 - acc: 0.647 - ETA: 0s - loss: 5.4782 - acc: 0.645 - ETA: 0s - loss: 5.4359 - acc: 0.647 - ETA: 0s - loss: 5.4446 - acc: 0.647 - ETA: 0s - loss: 5.4701 - acc: 0.645 - ETA: 0s - loss: 5.4725 - acc: 0.645 - ETA: 0s - loss: 5.4695 - acc: 0.645 - ETA: 0s - loss: 5.4446 - acc: 0.646 - ETA: 0s - loss: 5.4406 - acc: 0.647 - ETA: 0s - loss: 5.4718 - acc: 0.645 - ETA: 0s - loss: 5.4802 - acc: 0.644 - ETA: 0s - loss: 5.4918 - acc: 0.644 - ETA: 0s - loss: 5.4553 - acc: 0.646 - ETA: 0s - loss: 5.4508 - acc: 0.647 - ETA: 0s - loss: 5.4725 - acc: 0.645 - ETA: 0s - loss: 5.4783 - acc: 0.645 - ETA: 0s - loss: 5.4945 - acc: 0.644 - ETA: 0s - loss: 5.5043 - acc: 0.643 - 3s 387us/step - loss: 5.4964 - acc: 0.6442 - val_loss: 6.3304 - val_acc: 0.5246\n",
      "\n",
      "Epoch 00017: val_loss improved from 6.48169 to 6.33039, saving model to model/notebook/weights.best.VGG16.hdf5\n",
      "Epoch 18/20\n",
      "6680/6680 [==============================] - ETA: 3s - loss: 8.0606 - acc: 0.500 - ETA: 2s - loss: 6.4484 - acc: 0.600 - ETA: 2s - loss: 5.6134 - acc: 0.646 - ETA: 2s - loss: 5.4298 - acc: 0.654 - ETA: 2s - loss: 5.4145 - acc: 0.653 - ETA: 2s - loss: 5.4145 - acc: 0.655 - ETA: 2s - loss: 5.4419 - acc: 0.653 - ETA: 2s - loss: 5.4087 - acc: 0.655 - ETA: 2s - loss: 5.5106 - acc: 0.647 - ETA: 1s - loss: 5.5654 - acc: 0.644 - ETA: 1s - loss: 5.5129 - acc: 0.647 - ETA: 1s - loss: 5.4240 - acc: 0.652 - ETA: 1s - loss: 5.4160 - acc: 0.652 - ETA: 1s - loss: 5.3614 - acc: 0.656 - ETA: 1s - loss: 5.4101 - acc: 0.653 - ETA: 1s - loss: 5.4284 - acc: 0.653 - ETA: 1s - loss: 5.4117 - acc: 0.654 - ETA: 1s - loss: 5.4054 - acc: 0.654 - ETA: 1s - loss: 5.4027 - acc: 0.654 - ETA: 1s - loss: 5.3798 - acc: 0.655 - ETA: 1s - loss: 5.3899 - acc: 0.655 - ETA: 1s - loss: 5.3893 - acc: 0.655 - ETA: 1s - loss: 5.4023 - acc: 0.654 - ETA: 1s - loss: 5.3952 - acc: 0.654 - ETA: 1s - loss: 5.3911 - acc: 0.654 - ETA: 0s - loss: 5.3950 - acc: 0.654 - ETA: 0s - loss: 5.3754 - acc: 0.655 - ETA: 0s - loss: 5.3720 - acc: 0.656 - ETA: 0s - loss: 5.3770 - acc: 0.655 - ETA: 0s - loss: 5.3505 - acc: 0.657 - ETA: 0s - loss: 5.3360 - acc: 0.658 - ETA: 0s - loss: 5.3651 - acc: 0.656 - ETA: 0s - loss: 5.3756 - acc: 0.655 - ETA: 0s - loss: 5.3931 - acc: 0.654 - ETA: 0s - loss: 5.3597 - acc: 0.656 - ETA: 0s - loss: 5.3710 - acc: 0.655 - ETA: 0s - loss: 5.4010 - acc: 0.654 - ETA: 0s - loss: 5.4050 - acc: 0.654 - ETA: 0s - loss: 5.4156 - acc: 0.653 - ETA: 0s - loss: 5.4085 - acc: 0.654 - ETA: 0s - loss: 5.4198 - acc: 0.653 - ETA: 0s - loss: 5.3886 - acc: 0.655 - ETA: 0s - loss: 5.3724 - acc: 0.656 - ETA: 0s - loss: 5.3886 - acc: 0.654 - ETA: 0s - loss: 5.3947 - acc: 0.654 - ETA: 0s - loss: 5.4017 - acc: 0.653 - ETA: 0s - loss: 5.3935 - acc: 0.654 - ETA: 0s - loss: 5.3929 - acc: 0.654 - ETA: 0s - loss: 5.3927 - acc: 0.654 - ETA: 0s - loss: 5.3991 - acc: 0.654 - ETA: 0s - loss: 5.4029 - acc: 0.654 - 3s 438us/step - loss: 5.4089 - acc: 0.6537 - val_loss: 6.3538 - val_acc: 0.5162\n",
      "\n",
      "Epoch 00018: val_loss did not improve from 6.33039\n",
      "Epoch 19/20\n"
     ]
    },
    {
     "name": "stdout",
     "output_type": "stream",
     "text": [
      "6680/6680 [==============================] - ETA: 6s - loss: 8.0592 - acc: 0.500 - ETA: 5s - loss: 5.0390 - acc: 0.687 - ETA: 4s - loss: 5.3746 - acc: 0.666 - ETA: 3s - loss: 5.4445 - acc: 0.662 - ETA: 3s - loss: 5.0291 - acc: 0.686 - ETA: 3s - loss: 5.1780 - acc: 0.672 - ETA: 3s - loss: 5.2143 - acc: 0.671 - ETA: 2s - loss: 5.1495 - acc: 0.675 - ETA: 2s - loss: 5.0009 - acc: 0.685 - ETA: 2s - loss: 5.0694 - acc: 0.681 - ETA: 2s - loss: 5.1101 - acc: 0.678 - ETA: 2s - loss: 5.1545 - acc: 0.675 - ETA: 2s - loss: 5.1152 - acc: 0.677 - ETA: 2s - loss: 5.3076 - acc: 0.665 - ETA: 2s - loss: 5.2284 - acc: 0.670 - ETA: 2s - loss: 5.3359 - acc: 0.663 - ETA: 2s - loss: 5.2954 - acc: 0.666 - ETA: 1s - loss: 5.2945 - acc: 0.666 - ETA: 1s - loss: 5.3145 - acc: 0.665 - ETA: 1s - loss: 5.3517 - acc: 0.662 - ETA: 1s - loss: 5.3595 - acc: 0.662 - ETA: 1s - loss: 5.3405 - acc: 0.662 - ETA: 1s - loss: 5.3469 - acc: 0.661 - ETA: 1s - loss: 5.4085 - acc: 0.658 - ETA: 1s - loss: 5.4172 - acc: 0.657 - ETA: 1s - loss: 5.4215 - acc: 0.657 - ETA: 1s - loss: 5.4544 - acc: 0.655 - ETA: 1s - loss: 5.4506 - acc: 0.655 - ETA: 1s - loss: 5.4526 - acc: 0.655 - ETA: 1s - loss: 5.4657 - acc: 0.654 - ETA: 1s - loss: 5.4370 - acc: 0.655 - ETA: 1s - loss: 5.4343 - acc: 0.656 - ETA: 1s - loss: 5.4276 - acc: 0.656 - ETA: 0s - loss: 5.3691 - acc: 0.659 - ETA: 0s - loss: 5.3572 - acc: 0.660 - ETA: 0s - loss: 5.3649 - acc: 0.660 - ETA: 0s - loss: 5.3209 - acc: 0.662 - ETA: 0s - loss: 5.3408 - acc: 0.661 - ETA: 0s - loss: 5.3306 - acc: 0.661 - ETA: 0s - loss: 5.3363 - acc: 0.661 - ETA: 0s - loss: 5.3566 - acc: 0.660 - ETA: 0s - loss: 5.3642 - acc: 0.659 - ETA: 0s - loss: 5.3690 - acc: 0.659 - ETA: 0s - loss: 5.3418 - acc: 0.660 - ETA: 0s - loss: 5.3559 - acc: 0.659 - ETA: 0s - loss: 5.3442 - acc: 0.660 - ETA: 0s - loss: 5.3678 - acc: 0.659 - ETA: 0s - loss: 5.3833 - acc: 0.658 - 3s 397us/step - loss: 5.3840 - acc: 0.6585 - val_loss: 6.3614 - val_acc: 0.5329\n",
      "\n",
      "Epoch 00019: val_loss did not improve from 6.33039\n",
      "Epoch 20/20\n",
      "6680/6680 [==============================] - ETA: 4s - loss: 10.6091 - acc: 0.30 - ETA: 2s - loss: 5.8984 - acc: 0.6300 - ETA: 2s - loss: 5.3914 - acc: 0.655 - ETA: 2s - loss: 5.4996 - acc: 0.652 - ETA: 2s - loss: 5.5129 - acc: 0.651 - ETA: 2s - loss: 5.6401 - acc: 0.644 - ETA: 1s - loss: 5.6112 - acc: 0.646 - ETA: 1s - loss: 5.5236 - acc: 0.651 - ETA: 1s - loss: 5.5035 - acc: 0.653 - ETA: 1s - loss: 5.4421 - acc: 0.657 - ETA: 1s - loss: 5.4051 - acc: 0.659 - ETA: 1s - loss: 5.5389 - acc: 0.651 - ETA: 1s - loss: 5.4334 - acc: 0.657 - ETA: 1s - loss: 5.4489 - acc: 0.655 - ETA: 1s - loss: 5.3842 - acc: 0.659 - ETA: 1s - loss: 5.3597 - acc: 0.661 - ETA: 1s - loss: 5.4052 - acc: 0.659 - ETA: 1s - loss: 5.4096 - acc: 0.659 - ETA: 1s - loss: 5.4407 - acc: 0.657 - ETA: 1s - loss: 5.4197 - acc: 0.659 - ETA: 1s - loss: 5.4716 - acc: 0.655 - ETA: 1s - loss: 5.4692 - acc: 0.656 - ETA: 1s - loss: 5.4654 - acc: 0.655 - ETA: 0s - loss: 5.4478 - acc: 0.656 - ETA: 0s - loss: 5.3974 - acc: 0.660 - ETA: 0s - loss: 5.3643 - acc: 0.662 - ETA: 0s - loss: 5.3089 - acc: 0.665 - ETA: 0s - loss: 5.3067 - acc: 0.665 - ETA: 0s - loss: 5.3475 - acc: 0.663 - ETA: 0s - loss: 5.3547 - acc: 0.662 - ETA: 0s - loss: 5.3645 - acc: 0.662 - ETA: 0s - loss: 5.3531 - acc: 0.663 - ETA: 0s - loss: 5.3606 - acc: 0.662 - ETA: 0s - loss: 5.3505 - acc: 0.662 - ETA: 0s - loss: 5.3825 - acc: 0.660 - ETA: 0s - loss: 5.3905 - acc: 0.659 - ETA: 0s - loss: 5.4130 - acc: 0.658 - ETA: 0s - loss: 5.4183 - acc: 0.658 - ETA: 0s - loss: 5.4179 - acc: 0.658 - ETA: 0s - loss: 5.3990 - acc: 0.659 - ETA: 0s - loss: 5.3859 - acc: 0.660 - ETA: 0s - loss: 5.3675 - acc: 0.661 - 2s 343us/step - loss: 5.3708 - acc: 0.6608 - val_loss: 6.3694 - val_acc: 0.5257\n",
      "\n",
      "Epoch 00020: val_loss did not improve from 6.33039\n"
     ]
    },
    {
     "data": {
      "text/plain": [
       "<keras.callbacks.History at 0x1deb255b0f0>"
      ]
     },
     "execution_count": 21,
     "metadata": {},
     "output_type": "execute_result"
    }
   ],
   "source": [
    "#The below fits the CNN and saves the weights for the epoch which yields the ebst results\n",
    "checkpointer = ModelCheckpoint(filepath='model/notebook/weights.best.VGG16.hdf5', \n",
    "                               verbose=1, save_best_only=True)\n",
    "\n",
    "VGG16_model.fit(train_VGG16, train_targets, \n",
    "          validation_data=(valid_VGG16, valid_targets),\n",
    "          epochs=20, batch_size=20, callbacks=[checkpointer], verbose=1)"
   ]
  },
  {
   "cell_type": "markdown",
   "metadata": {},
   "source": [
    "### Load the Model with the Best Validation Loss"
   ]
  },
  {
   "cell_type": "code",
   "execution_count": 22,
   "metadata": {},
   "outputs": [],
   "source": [
    "#Loads the weights of the best performing epoch\n",
    "VGG16_model.load_weights('model/notebook/weights.best.VGG16.hdf5')"
   ]
  },
  {
   "cell_type": "markdown",
   "metadata": {},
   "source": [
    "### Test the Model\n",
    "\n",
    "Now, we can use the CNN to test how well it identifies breed within our test dataset of dog images.  We print the test accuracy below."
   ]
  },
  {
   "cell_type": "code",
   "execution_count": 23,
   "metadata": {},
   "outputs": [
    {
     "name": "stdout",
     "output_type": "stream",
     "text": [
      "Test accuracy: 51.4354%\n"
     ]
    }
   ],
   "source": [
    "# get index of predicted dog breed for each image in test set\n",
    "VGG16_predictions = [np.argmax(VGG16_model.predict(np.expand_dims(feature, axis=0))) for feature in test_VGG16]\n",
    "\n",
    "# report test accuracy\n",
    "test_accuracy = 100*np.sum(np.array(VGG16_predictions)==np.argmax(test_targets, axis=1))/len(VGG16_predictions)\n",
    "print('Test accuracy: %.4f%%' % test_accuracy)"
   ]
  },
  {
   "cell_type": "markdown",
   "metadata": {},
   "source": [
    "### Predict Dog Breed with the Model"
   ]
  },
  {
   "cell_type": "code",
   "execution_count": 24,
   "metadata": {},
   "outputs": [],
   "source": [
    "from model.extract_bottleneck_features import *\n",
    "\n",
    "def VGG16_predict_breed(img_path):\n",
    "    \"\"\"Takes a file path of an image, extracts features, classifies it then\n",
    "    states what breed the image mostly resembles  according to the VGG19 model.\n",
    "\n",
    "    Parameters:\n",
    "    img_path (String): Path to a file containing the image.\n",
    "\n",
    "    Returns:\n",
    "    (Boolean): The breed which the image submitted most resembles\n",
    "    \"\"\"\n",
    "    # extract bottleneck features\n",
    "    bottleneck_feature = extract_VGG16(path_to_tensor(img_path))\n",
    "    # obtain predicted vector\n",
    "    predicted_vector = VGG16_model.predict(bottleneck_feature)\n",
    "    # return dog breed that is predicted by the model\n",
    "    return dog_names[np.argmax(predicted_vector)]"
   ]
  },
  {
   "cell_type": "markdown",
   "metadata": {},
   "source": [
    "---\n",
    "<a id='step5'></a>\n",
    "## Step 5: Create a CNN to Classify Dog Breeds (using Transfer Learning)\n",
    "\n",
    "You will now use transfer learning to create a CNN that can identify dog breed from images.  Your CNN must attain at least 60% accuracy on the test set.\n",
    "\n",
    "In Step 4, we used transfer learning to create a CNN using VGG-16 bottleneck features.  In this section, you must use the bottleneck features from a different pre-trained model.  To make things easier for you, we have pre-computed the features for all of the networks that are currently available in Keras:\n",
    "- [VGG-19](https://s3-us-west-1.amazonaws.com/udacity-aind/dog-project/DogVGG19Data.npz) bottleneck features\n",
    "- [ResNet-50](https://s3-us-west-1.amazonaws.com/udacity-aind/dog-project/DogResnet50Data.npz) bottleneck features\n",
    "- [Inception](https://s3-us-west-1.amazonaws.com/udacity-aind/dog-project/DogInceptionV3Data.npz) bottleneck features\n",
    "- [Xception](https://s3-us-west-1.amazonaws.com/udacity-aind/dog-project/DogXceptionData.npz) bottleneck features\n",
    "\n",
    "The files are encoded as such:\n",
    "\n",
    "    Dog{network}Data.npz\n",
    "    \n",
    "where `{network}`, in the above filename, can be one of `VGG19`, `Resnet50`, `InceptionV3`, or `Xception`.  Pick one of the above architectures, download the corresponding bottleneck features, and store the downloaded file in the `bottleneck_features/` folder in the repository.\n",
    "\n",
    "### (IMPLEMENTATION) Obtain Bottleneck Features\n",
    "\n",
    "In the code block below, extract the bottleneck features corresponding to the train, test, and validation sets by running the following:\n",
    "\n",
    "    bottleneck_features = np.load('bottleneck_features/Dog{network}Data.npz')\n",
    "    train_{network} = bottleneck_features['train']\n",
    "    valid_{network} = bottleneck_features['valid']\n",
    "    test_{network} = bottleneck_features['test']"
   ]
  },
  {
   "cell_type": "code",
   "execution_count": 25,
   "metadata": {},
   "outputs": [],
   "source": [
    "#THIS SHOULD HAVE BEEN DONE IN THE Preprocessing.py\n",
    "\n",
    "### TODO: Obtain bottleneck features from another pre-trained CNN.\n",
    "\n",
    "#import requests\n",
    "#url = r'https://s3-us-west-1.amazonaws.com/udacity-aind/dog-project/DogVGG19Data.npz'\n",
    "#print('processing')\n",
    "#myfile = requests.get(url)\n",
    "#print('received')\n",
    "\n",
    "#open('bottleneck_features/DogVGG19Data.npz', 'wb').write(myfile.content)"
   ]
  },
  {
   "cell_type": "code",
   "execution_count": 26,
   "metadata": {},
   "outputs": [],
   "source": [
    "#Loads in pre-processed VGG16 features for test, train and validation images.\n",
    "bottleneck_features = np.load('bottleneck_features/DogVGG19Data.npz')\n",
    "train_VGG19 = bottleneck_features['train']\n",
    "valid_VGG19 = bottleneck_features['valid']\n",
    "test_VGG19 = bottleneck_features['test']"
   ]
  },
  {
   "cell_type": "markdown",
   "metadata": {},
   "source": [
    "### (IMPLEMENTATION) Model Architecture\n",
    "\n",
    "Create a CNN to classify dog breed.  At the end of your code cell block, summarize the layers of your model by executing the line:\n",
    "    \n",
    "        <your model's name>.summary()\n",
    "   \n",
    "__Question 5:__ Outline the steps you took to get to your final CNN architecture and your reasoning at each step.  Describe why you think the architecture is suitable for the current problem.\n",
    "\n",
    "__Answer:__ \n",
    "\n"
   ]
  },
  {
   "cell_type": "code",
   "execution_count": 27,
   "metadata": {},
   "outputs": [
    {
     "name": "stdout",
     "output_type": "stream",
     "text": [
      "_________________________________________________________________\n",
      "Layer (type)                 Output Shape              Param #   \n",
      "=================================================================\n",
      "global_average_pooling2d_2 ( (None, 512)               0         \n",
      "_________________________________________________________________\n",
      "dense_3 (Dense)              (None, 256)               131328    \n",
      "_________________________________________________________________\n",
      "activation_50 (Activation)   (None, 256)               0         \n",
      "_________________________________________________________________\n",
      "dense_4 (Dense)              (None, 133)               34181     \n",
      "_________________________________________________________________\n",
      "activation_51 (Activation)   (None, 133)               0         \n",
      "=================================================================\n",
      "Total params: 165,509\n",
      "Trainable params: 165,509\n",
      "Non-trainable params: 0\n",
      "_________________________________________________________________\n"
     ]
    }
   ],
   "source": [
    "### TODO: Define your architecture.\n",
    "from keras.layers import Activation, GlobalAveragePooling2D, Flatten, Activation, Dense, MaxPooling2D\n",
    "from keras.models import Sequential\n",
    "\n",
    "#Instatiates model and defines its architecture\n",
    "VGG19_model = Sequential()\n",
    "\n",
    "VGG19_model.add(GlobalAveragePooling2D(input_shape=train_VGG19.shape[1:]))\n",
    "\n",
    "VGG19_model.add(Dense(256))\n",
    "VGG19_model.add(Activation('relu'))\n",
    "\n",
    "VGG19_model.add(Dense(133))\n",
    "VGG19_model.add(Activation('softmax'))\n",
    "\n",
    "#Prints model architecture\n",
    "VGG19_model.summary()"
   ]
  },
  {
   "cell_type": "markdown",
   "metadata": {},
   "source": [
    "### (IMPLEMENTATION) Compile the Model"
   ]
  },
  {
   "cell_type": "code",
   "execution_count": 28,
   "metadata": {},
   "outputs": [],
   "source": [
    "### TODO: Compile the model.\n",
    "#Defines the metric to measure against, the optimiser and the loss function used for training the model\n",
    "VGG19_model.compile(loss='categorical_crossentropy', optimizer='adam', metrics=['accuracy'])"
   ]
  },
  {
   "cell_type": "markdown",
   "metadata": {},
   "source": [
    "### (IMPLEMENTATION) Train the Model\n",
    "\n",
    "Train your model in the code cell below.  Use model checkpointing to save the model that attains the best validation loss.  \n",
    "\n",
    "You are welcome to [augment the training data](https://blog.keras.io/building-powerful-image-classification-models-using-very-little-data.html), but this is not a requirement. "
   ]
  },
  {
   "cell_type": "code",
   "execution_count": 29,
   "metadata": {},
   "outputs": [
    {
     "name": "stdout",
     "output_type": "stream",
     "text": [
      "Train on 6680 samples, validate on 835 samples\n",
      "Epoch 1/20\n",
      "6680/6680 [==============================] - ETA: 5:59 - loss: 13.5141 - acc: 0.0000e+ - ETA: 1:14 - loss: 12.1577 - acc: 0.0300   - ETA: 38s - loss: 12.0415 - acc: 0.0350 - ETA: 23s - loss: 11.4062 - acc: 0.029 - ETA: 16s - loss: 10.7721 - acc: 0.041 - ETA: 15s - loss: 10.4875 - acc: 0.050 - ETA: 12s - loss: 9.8046 - acc: 0.059 - ETA: 11s - loss: 9.2482 - acc: 0.07 - ETA: 9s - loss: 8.6099 - acc: 0.0793 - ETA: 9s - loss: 8.3673 - acc: 0.086 - ETA: 8s - loss: 7.9581 - acc: 0.094 - ETA: 7s - loss: 7.6359 - acc: 0.096 - ETA: 6s - loss: 7.3302 - acc: 0.101 - ETA: 6s - loss: 7.0492 - acc: 0.111 - ETA: 5s - loss: 6.8106 - acc: 0.119 - ETA: 5s - loss: 6.6745 - acc: 0.125 - ETA: 5s - loss: 6.5919 - acc: 0.130 - ETA: 5s - loss: 6.4963 - acc: 0.131 - ETA: 5s - loss: 6.4300 - acc: 0.131 - ETA: 5s - loss: 6.3603 - acc: 0.133 - ETA: 5s - loss: 6.3263 - acc: 0.137 - ETA: 5s - loss: 6.2162 - acc: 0.142 - ETA: 5s - loss: 6.1262 - acc: 0.144 - ETA: 5s - loss: 5.9873 - acc: 0.151 - ETA: 5s - loss: 5.8463 - acc: 0.159 - ETA: 4s - loss: 5.7280 - acc: 0.167 - ETA: 4s - loss: 5.6257 - acc: 0.174 - ETA: 4s - loss: 5.5330 - acc: 0.182 - ETA: 4s - loss: 5.4587 - acc: 0.188 - ETA: 4s - loss: 5.3963 - acc: 0.193 - ETA: 4s - loss: 5.3423 - acc: 0.196 - ETA: 4s - loss: 5.2981 - acc: 0.198 - ETA: 4s - loss: 5.2488 - acc: 0.201 - ETA: 4s - loss: 5.1754 - acc: 0.206 - ETA: 4s - loss: 5.1240 - acc: 0.209 - ETA: 4s - loss: 5.0919 - acc: 0.209 - ETA: 3s - loss: 5.0339 - acc: 0.213 - ETA: 3s - loss: 4.9914 - acc: 0.218 - ETA: 3s - loss: 4.9390 - acc: 0.222 - ETA: 3s - loss: 4.8860 - acc: 0.226 - ETA: 3s - loss: 4.8029 - acc: 0.233 - ETA: 3s - loss: 4.7410 - acc: 0.238 - ETA: 3s - loss: 4.6784 - acc: 0.243 - ETA: 3s - loss: 4.6157 - acc: 0.248 - ETA: 3s - loss: 4.5472 - acc: 0.254 - ETA: 3s - loss: 4.5019 - acc: 0.259 - ETA: 2s - loss: 4.4346 - acc: 0.263 - ETA: 2s - loss: 4.3713 - acc: 0.269 - ETA: 2s - loss: 4.3195 - acc: 0.273 - ETA: 2s - loss: 4.2492 - acc: 0.279 - ETA: 2s - loss: 4.1802 - acc: 0.286 - ETA: 2s - loss: 4.1276 - acc: 0.291 - ETA: 2s - loss: 4.0572 - acc: 0.297 - ETA: 1s - loss: 3.9879 - acc: 0.304 - ETA: 1s - loss: 3.9590 - acc: 0.307 - ETA: 1s - loss: 3.9221 - acc: 0.310 - ETA: 1s - loss: 3.8762 - acc: 0.315 - ETA: 1s - loss: 3.8297 - acc: 0.320 - ETA: 1s - loss: 3.7906 - acc: 0.324 - ETA: 1s - loss: 3.7454 - acc: 0.329 - ETA: 1s - loss: 3.7003 - acc: 0.334 - ETA: 1s - loss: 3.6782 - acc: 0.336 - ETA: 1s - loss: 3.6352 - acc: 0.342 - ETA: 1s - loss: 3.5826 - acc: 0.347 - ETA: 0s - loss: 3.5498 - acc: 0.351 - ETA: 0s - loss: 3.5156 - acc: 0.354 - ETA: 0s - loss: 3.4778 - acc: 0.359 - ETA: 0s - loss: 3.4508 - acc: 0.361 - ETA: 0s - loss: 3.4033 - acc: 0.367 - ETA: 0s - loss: 3.3689 - acc: 0.370 - ETA: 0s - loss: 3.3288 - acc: 0.375 - ETA: 0s - loss: 3.3020 - acc: 0.378 - ETA: 0s - loss: 3.2657 - acc: 0.383 - ETA: 0s - loss: 3.2286 - acc: 0.387 - ETA: 0s - loss: 3.2061 - acc: 0.390 - 5s 819us/step - loss: 3.2027 - acc: 0.3907 - val_loss: 1.4831 - val_acc: 0.5964\n",
      "\n",
      "Epoch 00001: val_loss improved from inf to 1.48306, saving model to model/notebook/weights.best.VGG19.hdf5\n",
      "Epoch 2/20\n",
      "6680/6680 [==============================] - ETA: 7s - loss: 0.8760 - acc: 0.900 - ETA: 3s - loss: 0.8660 - acc: 0.743 - ETA: 2s - loss: 0.8612 - acc: 0.746 - ETA: 2s - loss: 0.8113 - acc: 0.752 - ETA: 2s - loss: 0.8334 - acc: 0.757 - ETA: 2s - loss: 0.9216 - acc: 0.750 - ETA: 2s - loss: 0.9041 - acc: 0.745 - ETA: 2s - loss: 0.8917 - acc: 0.745 - ETA: 2s - loss: 0.9013 - acc: 0.738 - ETA: 2s - loss: 0.8875 - acc: 0.737 - ETA: 2s - loss: 0.8693 - acc: 0.741 - ETA: 2s - loss: 0.8626 - acc: 0.745 - ETA: 2s - loss: 0.8832 - acc: 0.741 - ETA: 2s - loss: 0.8750 - acc: 0.741 - ETA: 2s - loss: 0.8752 - acc: 0.739 - ETA: 2s - loss: 0.8796 - acc: 0.742 - ETA: 2s - loss: 0.8678 - acc: 0.745 - ETA: 2s - loss: 0.8694 - acc: 0.744 - ETA: 2s - loss: 0.8771 - acc: 0.744 - ETA: 2s - loss: 0.8767 - acc: 0.745 - ETA: 2s - loss: 0.8654 - acc: 0.746 - ETA: 2s - loss: 0.8607 - acc: 0.747 - ETA: 2s - loss: 0.8491 - acc: 0.750 - ETA: 2s - loss: 0.8440 - acc: 0.751 - ETA: 2s - loss: 0.8462 - acc: 0.751 - ETA: 1s - loss: 0.8443 - acc: 0.751 - ETA: 1s - loss: 0.8385 - acc: 0.753 - ETA: 1s - loss: 0.8414 - acc: 0.753 - ETA: 1s - loss: 0.8389 - acc: 0.755 - ETA: 1s - loss: 0.8395 - acc: 0.754 - ETA: 1s - loss: 0.8332 - acc: 0.756 - ETA: 1s - loss: 0.8363 - acc: 0.754 - ETA: 1s - loss: 0.8420 - acc: 0.753 - ETA: 1s - loss: 0.8356 - acc: 0.755 - ETA: 1s - loss: 0.8387 - acc: 0.754 - ETA: 1s - loss: 0.8393 - acc: 0.754 - ETA: 1s - loss: 0.8438 - acc: 0.752 - ETA: 1s - loss: 0.8449 - acc: 0.751 - ETA: 1s - loss: 0.8425 - acc: 0.751 - ETA: 1s - loss: 0.8404 - acc: 0.752 - ETA: 1s - loss: 0.8392 - acc: 0.753 - ETA: 1s - loss: 0.8322 - acc: 0.754 - ETA: 0s - loss: 0.8277 - acc: 0.754 - ETA: 0s - loss: 0.8257 - acc: 0.754 - ETA: 0s - loss: 0.8293 - acc: 0.754 - ETA: 0s - loss: 0.8262 - acc: 0.754 - ETA: 0s - loss: 0.8275 - acc: 0.753 - ETA: 0s - loss: 0.8296 - acc: 0.752 - ETA: 0s - loss: 0.8303 - acc: 0.752 - ETA: 0s - loss: 0.8331 - acc: 0.752 - ETA: 0s - loss: 0.8318 - acc: 0.752 - ETA: 0s - loss: 0.8329 - acc: 0.752 - ETA: 0s - loss: 0.8334 - acc: 0.752 - ETA: 0s - loss: 0.8305 - acc: 0.753 - ETA: 0s - loss: 0.8347 - acc: 0.752 - ETA: 0s - loss: 0.8329 - acc: 0.753 - ETA: 0s - loss: 0.8338 - acc: 0.752 - ETA: 0s - loss: 0.8295 - acc: 0.753 - ETA: 0s - loss: 0.8236 - acc: 0.755 - ETA: 0s - loss: 0.8256 - acc: 0.754 - ETA: 0s - loss: 0.8264 - acc: 0.752 - ETA: 0s - loss: 0.8238 - acc: 0.753 - 4s 545us/step - loss: 0.8223 - acc: 0.7540 - val_loss: 1.2562 - val_acc: 0.6766\n",
      "\n",
      "Epoch 00002: val_loss improved from 1.48306 to 1.25617, saving model to model/notebook/weights.best.VGG19.hdf5\n",
      "Epoch 3/20\n"
     ]
    },
    {
     "name": "stdout",
     "output_type": "stream",
     "text": [
      "6680/6680 [==============================] - ETA: 2s - loss: 0.5782 - acc: 0.800 - ETA: 3s - loss: 0.5910 - acc: 0.816 - ETA: 2s - loss: 0.5893 - acc: 0.826 - ETA: 3s - loss: 0.5031 - acc: 0.850 - ETA: 2s - loss: 0.4817 - acc: 0.862 - ETA: 2s - loss: 0.4811 - acc: 0.850 - ETA: 2s - loss: 0.4750 - acc: 0.852 - ETA: 2s - loss: 0.4766 - acc: 0.850 - ETA: 2s - loss: 0.4658 - acc: 0.853 - ETA: 2s - loss: 0.4519 - acc: 0.857 - ETA: 2s - loss: 0.4568 - acc: 0.854 - ETA: 2s - loss: 0.4507 - acc: 0.857 - ETA: 2s - loss: 0.4488 - acc: 0.857 - ETA: 2s - loss: 0.4421 - acc: 0.857 - ETA: 2s - loss: 0.4322 - acc: 0.863 - ETA: 2s - loss: 0.4411 - acc: 0.864 - ETA: 2s - loss: 0.4395 - acc: 0.864 - ETA: 2s - loss: 0.4396 - acc: 0.863 - ETA: 2s - loss: 0.4424 - acc: 0.862 - ETA: 2s - loss: 0.4467 - acc: 0.861 - ETA: 2s - loss: 0.4482 - acc: 0.860 - ETA: 2s - loss: 0.4558 - acc: 0.860 - ETA: 2s - loss: 0.4510 - acc: 0.861 - ETA: 2s - loss: 0.4508 - acc: 0.860 - ETA: 2s - loss: 0.4509 - acc: 0.860 - ETA: 2s - loss: 0.4433 - acc: 0.862 - ETA: 2s - loss: 0.4379 - acc: 0.863 - ETA: 2s - loss: 0.4399 - acc: 0.863 - ETA: 2s - loss: 0.4412 - acc: 0.862 - ETA: 2s - loss: 0.4399 - acc: 0.862 - ETA: 2s - loss: 0.4412 - acc: 0.860 - ETA: 2s - loss: 0.4468 - acc: 0.859 - ETA: 2s - loss: 0.4468 - acc: 0.858 - ETA: 2s - loss: 0.4444 - acc: 0.859 - ETA: 2s - loss: 0.4440 - acc: 0.859 - ETA: 1s - loss: 0.4475 - acc: 0.859 - ETA: 1s - loss: 0.4440 - acc: 0.858 - ETA: 1s - loss: 0.4480 - acc: 0.857 - ETA: 1s - loss: 0.4500 - acc: 0.855 - ETA: 1s - loss: 0.4512 - acc: 0.856 - ETA: 1s - loss: 0.4529 - acc: 0.857 - ETA: 1s - loss: 0.4571 - acc: 0.855 - ETA: 1s - loss: 0.4593 - acc: 0.854 - ETA: 1s - loss: 0.4593 - acc: 0.854 - ETA: 1s - loss: 0.4591 - acc: 0.854 - ETA: 1s - loss: 0.4563 - acc: 0.854 - ETA: 1s - loss: 0.4534 - acc: 0.855 - ETA: 1s - loss: 0.4542 - acc: 0.856 - ETA: 1s - loss: 0.4546 - acc: 0.856 - ETA: 1s - loss: 0.4540 - acc: 0.856 - ETA: 1s - loss: 0.4548 - acc: 0.856 - ETA: 1s - loss: 0.4528 - acc: 0.856 - ETA: 1s - loss: 0.4544 - acc: 0.857 - ETA: 1s - loss: 0.4530 - acc: 0.857 - ETA: 1s - loss: 0.4527 - acc: 0.857 - ETA: 1s - loss: 0.4524 - acc: 0.857 - ETA: 1s - loss: 0.4513 - acc: 0.858 - ETA: 1s - loss: 0.4507 - acc: 0.859 - ETA: 1s - loss: 0.4530 - acc: 0.858 - ETA: 1s - loss: 0.4549 - acc: 0.858 - ETA: 1s - loss: 0.4547 - acc: 0.858 - ETA: 1s - loss: 0.4551 - acc: 0.858 - ETA: 1s - loss: 0.4555 - acc: 0.858 - ETA: 1s - loss: 0.4562 - acc: 0.858 - ETA: 1s - loss: 0.4563 - acc: 0.858 - ETA: 1s - loss: 0.4555 - acc: 0.858 - ETA: 1s - loss: 0.4561 - acc: 0.858 - ETA: 1s - loss: 0.4545 - acc: 0.858 - ETA: 1s - loss: 0.4543 - acc: 0.858 - ETA: 1s - loss: 0.4574 - acc: 0.857 - ETA: 0s - loss: 0.4572 - acc: 0.857 - ETA: 0s - loss: 0.4569 - acc: 0.857 - ETA: 0s - loss: 0.4582 - acc: 0.856 - ETA: 0s - loss: 0.4575 - acc: 0.857 - ETA: 0s - loss: 0.4578 - acc: 0.856 - ETA: 0s - loss: 0.4599 - acc: 0.856 - ETA: 0s - loss: 0.4595 - acc: 0.856 - ETA: 0s - loss: 0.4594 - acc: 0.856 - ETA: 0s - loss: 0.4591 - acc: 0.856 - ETA: 0s - loss: 0.4602 - acc: 0.856 - ETA: 0s - loss: 0.4592 - acc: 0.856 - ETA: 0s - loss: 0.4576 - acc: 0.856 - ETA: 0s - loss: 0.4587 - acc: 0.857 - ETA: 0s - loss: 0.4589 - acc: 0.856 - ETA: 0s - loss: 0.4610 - acc: 0.855 - ETA: 0s - loss: 0.4627 - acc: 0.854 - ETA: 0s - loss: 0.4636 - acc: 0.854 - ETA: 0s - loss: 0.4622 - acc: 0.854 - ETA: 0s - loss: 0.4668 - acc: 0.853 - ETA: 0s - loss: 0.4712 - acc: 0.852 - 6s 857us/step - loss: 0.4711 - acc: 0.8524 - val_loss: 1.1459 - val_acc: 0.7102\n",
      "\n",
      "Epoch 00003: val_loss improved from 1.25617 to 1.14590, saving model to model/notebook/weights.best.VGG19.hdf5\n",
      "Epoch 4/20\n",
      "6680/6680 [==============================] - ETA: 2s - loss: 0.0780 - acc: 1.000 - ETA: 5s - loss: 0.2455 - acc: 0.950 - ETA: 4s - loss: 0.2489 - acc: 0.938 - ETA: 3s - loss: 0.2572 - acc: 0.925 - ETA: 3s - loss: 0.2684 - acc: 0.922 - ETA: 3s - loss: 0.2582 - acc: 0.928 - ETA: 3s - loss: 0.2649 - acc: 0.925 - ETA: 2s - loss: 0.2602 - acc: 0.927 - ETA: 2s - loss: 0.2622 - acc: 0.922 - ETA: 2s - loss: 0.2528 - acc: 0.923 - ETA: 2s - loss: 0.2387 - acc: 0.926 - ETA: 2s - loss: 0.2395 - acc: 0.925 - ETA: 2s - loss: 0.2393 - acc: 0.927 - ETA: 2s - loss: 0.2367 - acc: 0.928 - ETA: 2s - loss: 0.2427 - acc: 0.924 - ETA: 2s - loss: 0.2349 - acc: 0.928 - ETA: 2s - loss: 0.2337 - acc: 0.927 - ETA: 2s - loss: 0.2409 - acc: 0.923 - ETA: 2s - loss: 0.2477 - acc: 0.918 - ETA: 2s - loss: 0.2502 - acc: 0.918 - ETA: 2s - loss: 0.2478 - acc: 0.919 - ETA: 2s - loss: 0.2533 - acc: 0.918 - ETA: 2s - loss: 0.2567 - acc: 0.918 - ETA: 2s - loss: 0.2562 - acc: 0.917 - ETA: 1s - loss: 0.2610 - acc: 0.916 - ETA: 1s - loss: 0.2604 - acc: 0.916 - ETA: 1s - loss: 0.2599 - acc: 0.916 - ETA: 1s - loss: 0.2615 - acc: 0.916 - ETA: 1s - loss: 0.2623 - acc: 0.916 - ETA: 1s - loss: 0.2659 - acc: 0.914 - ETA: 1s - loss: 0.2636 - acc: 0.915 - ETA: 1s - loss: 0.2653 - acc: 0.915 - ETA: 1s - loss: 0.2659 - acc: 0.914 - ETA: 1s - loss: 0.2667 - acc: 0.914 - ETA: 1s - loss: 0.2659 - acc: 0.914 - ETA: 1s - loss: 0.2637 - acc: 0.915 - ETA: 1s - loss: 0.2654 - acc: 0.914 - ETA: 1s - loss: 0.2651 - acc: 0.914 - ETA: 1s - loss: 0.2685 - acc: 0.913 - ETA: 1s - loss: 0.2684 - acc: 0.913 - ETA: 1s - loss: 0.2686 - acc: 0.913 - ETA: 1s - loss: 0.2688 - acc: 0.912 - ETA: 0s - loss: 0.2689 - acc: 0.912 - ETA: 0s - loss: 0.2724 - acc: 0.911 - ETA: 0s - loss: 0.2727 - acc: 0.911 - ETA: 0s - loss: 0.2721 - acc: 0.911 - ETA: 0s - loss: 0.2743 - acc: 0.910 - ETA: 0s - loss: 0.2772 - acc: 0.909 - ETA: 0s - loss: 0.2768 - acc: 0.909 - ETA: 0s - loss: 0.2756 - acc: 0.910 - ETA: 0s - loss: 0.2750 - acc: 0.910 - ETA: 0s - loss: 0.2774 - acc: 0.910 - ETA: 0s - loss: 0.2769 - acc: 0.910 - ETA: 0s - loss: 0.2815 - acc: 0.909 - ETA: 0s - loss: 0.2821 - acc: 0.909 - ETA: 0s - loss: 0.2835 - acc: 0.909 - ETA: 0s - loss: 0.2840 - acc: 0.908 - ETA: 0s - loss: 0.2842 - acc: 0.908 - ETA: 0s - loss: 0.2852 - acc: 0.907 - ETA: 0s - loss: 0.2876 - acc: 0.906 - 3s 515us/step - loss: 0.2876 - acc: 0.9070 - val_loss: 1.2264 - val_acc: 0.7126\n",
      "\n",
      "Epoch 00004: val_loss did not improve from 1.14590\n",
      "Epoch 5/20\n"
     ]
    },
    {
     "name": "stdout",
     "output_type": "stream",
     "text": [
      "6680/6680 [==============================] - ETA: 10s - loss: 0.1532 - acc: 0.95 - ETA: 4s - loss: 0.1291 - acc: 0.9500 - ETA: 4s - loss: 0.2097 - acc: 0.933 - ETA: 3s - loss: 0.1931 - acc: 0.938 - ETA: 3s - loss: 0.1846 - acc: 0.941 - ETA: 3s - loss: 0.1701 - acc: 0.945 - ETA: 3s - loss: 0.1617 - acc: 0.948 - ETA: 3s - loss: 0.1885 - acc: 0.948 - ETA: 3s - loss: 0.1802 - acc: 0.950 - ETA: 3s - loss: 0.1831 - acc: 0.947 - ETA: 3s - loss: 0.1783 - acc: 0.950 - ETA: 3s - loss: 0.1829 - acc: 0.948 - ETA: 3s - loss: 0.1760 - acc: 0.950 - ETA: 3s - loss: 0.1787 - acc: 0.950 - ETA: 3s - loss: 0.1750 - acc: 0.950 - ETA: 3s - loss: 0.1719 - acc: 0.951 - ETA: 3s - loss: 0.1746 - acc: 0.950 - ETA: 3s - loss: 0.1683 - acc: 0.952 - ETA: 3s - loss: 0.1719 - acc: 0.950 - ETA: 3s - loss: 0.1708 - acc: 0.950 - ETA: 3s - loss: 0.1783 - acc: 0.949 - ETA: 3s - loss: 0.1790 - acc: 0.949 - ETA: 3s - loss: 0.1814 - acc: 0.949 - ETA: 3s - loss: 0.1795 - acc: 0.949 - ETA: 2s - loss: 0.1771 - acc: 0.950 - ETA: 2s - loss: 0.1791 - acc: 0.949 - ETA: 2s - loss: 0.1777 - acc: 0.949 - ETA: 2s - loss: 0.1785 - acc: 0.948 - ETA: 2s - loss: 0.1792 - acc: 0.948 - ETA: 2s - loss: 0.1812 - acc: 0.947 - ETA: 2s - loss: 0.1854 - acc: 0.946 - ETA: 2s - loss: 0.1899 - acc: 0.945 - ETA: 2s - loss: 0.1937 - acc: 0.944 - ETA: 1s - loss: 0.1963 - acc: 0.942 - ETA: 1s - loss: 0.1961 - acc: 0.942 - ETA: 1s - loss: 0.1966 - acc: 0.942 - ETA: 1s - loss: 0.1946 - acc: 0.943 - ETA: 1s - loss: 0.1943 - acc: 0.943 - ETA: 1s - loss: 0.1978 - acc: 0.942 - ETA: 1s - loss: 0.1995 - acc: 0.942 - ETA: 1s - loss: 0.1973 - acc: 0.942 - ETA: 1s - loss: 0.1993 - acc: 0.942 - ETA: 1s - loss: 0.1985 - acc: 0.942 - ETA: 1s - loss: 0.1967 - acc: 0.942 - ETA: 1s - loss: 0.1991 - acc: 0.941 - ETA: 1s - loss: 0.1983 - acc: 0.941 - ETA: 0s - loss: 0.1956 - acc: 0.942 - ETA: 0s - loss: 0.1949 - acc: 0.942 - ETA: 0s - loss: 0.1946 - acc: 0.942 - ETA: 0s - loss: 0.1951 - acc: 0.942 - ETA: 0s - loss: 0.1940 - acc: 0.942 - ETA: 0s - loss: 0.1939 - acc: 0.942 - ETA: 0s - loss: 0.1919 - acc: 0.943 - ETA: 0s - loss: 0.1917 - acc: 0.943 - ETA: 0s - loss: 0.1916 - acc: 0.942 - ETA: 0s - loss: 0.1914 - acc: 0.942 - ETA: 0s - loss: 0.1924 - acc: 0.942 - ETA: 0s - loss: 0.1928 - acc: 0.942 - ETA: 0s - loss: 0.1936 - acc: 0.942 - ETA: 0s - loss: 0.1936 - acc: 0.942 - ETA: 0s - loss: 0.1921 - acc: 0.942 - ETA: 0s - loss: 0.1957 - acc: 0.942 - 4s 529us/step - loss: 0.1963 - acc: 0.9422 - val_loss: 1.1332 - val_acc: 0.7377\n",
      "\n",
      "Epoch 00005: val_loss improved from 1.14590 to 1.13319, saving model to model/notebook/weights.best.VGG19.hdf5\n",
      "Epoch 6/20\n",
      "6680/6680 [==============================] - ETA: 2s - loss: 0.1913 - acc: 0.950 - ETA: 4s - loss: 0.1196 - acc: 0.990 - ETA: 4s - loss: 0.0988 - acc: 0.988 - ETA: 3s - loss: 0.1052 - acc: 0.976 - ETA: 3s - loss: 0.1259 - acc: 0.959 - ETA: 3s - loss: 0.1280 - acc: 0.958 - ETA: 2s - loss: 0.1193 - acc: 0.961 - ETA: 2s - loss: 0.1141 - acc: 0.961 - ETA: 2s - loss: 0.1174 - acc: 0.958 - ETA: 2s - loss: 0.1228 - acc: 0.958 - ETA: 2s - loss: 0.1206 - acc: 0.960 - ETA: 2s - loss: 0.1196 - acc: 0.961 - ETA: 2s - loss: 0.1151 - acc: 0.963 - ETA: 2s - loss: 0.1120 - acc: 0.964 - ETA: 2s - loss: 0.1096 - acc: 0.965 - ETA: 2s - loss: 0.1091 - acc: 0.965 - ETA: 2s - loss: 0.1083 - acc: 0.966 - ETA: 2s - loss: 0.1073 - acc: 0.966 - ETA: 2s - loss: 0.1075 - acc: 0.966 - ETA: 2s - loss: 0.1051 - acc: 0.968 - ETA: 2s - loss: 0.1041 - acc: 0.968 - ETA: 2s - loss: 0.1039 - acc: 0.969 - ETA: 2s - loss: 0.1026 - acc: 0.969 - ETA: 1s - loss: 0.1027 - acc: 0.969 - ETA: 1s - loss: 0.1045 - acc: 0.969 - ETA: 1s - loss: 0.1029 - acc: 0.969 - ETA: 1s - loss: 0.1029 - acc: 0.969 - ETA: 1s - loss: 0.1049 - acc: 0.968 - ETA: 1s - loss: 0.1050 - acc: 0.968 - ETA: 1s - loss: 0.1077 - acc: 0.967 - ETA: 1s - loss: 0.1072 - acc: 0.967 - ETA: 1s - loss: 0.1099 - acc: 0.968 - ETA: 1s - loss: 0.1097 - acc: 0.968 - ETA: 1s - loss: 0.1107 - acc: 0.967 - ETA: 1s - loss: 0.1095 - acc: 0.967 - ETA: 1s - loss: 0.1108 - acc: 0.966 - ETA: 1s - loss: 0.1102 - acc: 0.967 - ETA: 1s - loss: 0.1098 - acc: 0.966 - ETA: 1s - loss: 0.1098 - acc: 0.967 - ETA: 0s - loss: 0.1107 - acc: 0.967 - ETA: 0s - loss: 0.1112 - acc: 0.966 - ETA: 0s - loss: 0.1125 - acc: 0.966 - ETA: 0s - loss: 0.1137 - acc: 0.965 - ETA: 0s - loss: 0.1148 - acc: 0.964 - ETA: 0s - loss: 0.1158 - acc: 0.963 - ETA: 0s - loss: 0.1182 - acc: 0.963 - ETA: 0s - loss: 0.1202 - acc: 0.962 - ETA: 0s - loss: 0.1236 - acc: 0.961 - ETA: 0s - loss: 0.1241 - acc: 0.961 - ETA: 0s - loss: 0.1251 - acc: 0.961 - ETA: 0s - loss: 0.1250 - acc: 0.961 - ETA: 0s - loss: 0.1262 - acc: 0.960 - ETA: 0s - loss: 0.1271 - acc: 0.960 - ETA: 0s - loss: 0.1284 - acc: 0.959 - ETA: 0s - loss: 0.1291 - acc: 0.959 - ETA: 0s - loss: 0.1313 - acc: 0.959 - ETA: 0s - loss: 0.1323 - acc: 0.958 - 3s 478us/step - loss: 0.1325 - acc: 0.9587 - val_loss: 1.1802 - val_acc: 0.7485\n",
      "\n",
      "Epoch 00006: val_loss did not improve from 1.13319\n",
      "Epoch 7/20\n",
      "6680/6680 [==============================] - ETA: 5s - loss: 0.4336 - acc: 0.900 - ETA: 3s - loss: 0.2269 - acc: 0.942 - ETA: 3s - loss: 0.1599 - acc: 0.961 - ETA: 2s - loss: 0.1577 - acc: 0.950 - ETA: 2s - loss: 0.1367 - acc: 0.956 - ETA: 2s - loss: 0.1464 - acc: 0.957 - ETA: 2s - loss: 0.1401 - acc: 0.959 - ETA: 2s - loss: 0.1338 - acc: 0.960 - ETA: 2s - loss: 0.1289 - acc: 0.963 - ETA: 2s - loss: 0.1264 - acc: 0.962 - ETA: 2s - loss: 0.1200 - acc: 0.963 - ETA: 2s - loss: 0.1178 - acc: 0.964 - ETA: 2s - loss: 0.1142 - acc: 0.964 - ETA: 2s - loss: 0.1084 - acc: 0.966 - ETA: 2s - loss: 0.1094 - acc: 0.966 - ETA: 2s - loss: 0.1056 - acc: 0.967 - ETA: 2s - loss: 0.1047 - acc: 0.967 - ETA: 2s - loss: 0.1055 - acc: 0.967 - ETA: 1s - loss: 0.1027 - acc: 0.968 - ETA: 1s - loss: 0.1044 - acc: 0.968 - ETA: 1s - loss: 0.1054 - acc: 0.967 - ETA: 1s - loss: 0.1040 - acc: 0.967 - ETA: 1s - loss: 0.1031 - acc: 0.968 - ETA: 1s - loss: 0.1058 - acc: 0.967 - ETA: 1s - loss: 0.1060 - acc: 0.968 - ETA: 1s - loss: 0.1049 - acc: 0.968 - ETA: 1s - loss: 0.1033 - acc: 0.969 - ETA: 1s - loss: 0.1014 - acc: 0.970 - ETA: 1s - loss: 0.1002 - acc: 0.970 - ETA: 1s - loss: 0.1002 - acc: 0.969 - ETA: 1s - loss: 0.0981 - acc: 0.970 - ETA: 1s - loss: 0.0968 - acc: 0.971 - ETA: 1s - loss: 0.0973 - acc: 0.971 - ETA: 1s - loss: 0.0989 - acc: 0.970 - ETA: 1s - loss: 0.0983 - acc: 0.971 - ETA: 1s - loss: 0.0994 - acc: 0.970 - ETA: 1s - loss: 0.0995 - acc: 0.970 - ETA: 0s - loss: 0.1000 - acc: 0.970 - ETA: 0s - loss: 0.1016 - acc: 0.969 - ETA: 0s - loss: 0.1058 - acc: 0.968 - ETA: 0s - loss: 0.1087 - acc: 0.966 - ETA: 0s - loss: 0.1084 - acc: 0.966 - ETA: 0s - loss: 0.1094 - acc: 0.966 - ETA: 0s - loss: 0.1105 - acc: 0.966 - ETA: 0s - loss: 0.1135 - acc: 0.965 - ETA: 0s - loss: 0.1132 - acc: 0.965 - ETA: 0s - loss: 0.1175 - acc: 0.964 - ETA: 0s - loss: 0.1181 - acc: 0.963 - ETA: 0s - loss: 0.1190 - acc: 0.963 - ETA: 0s - loss: 0.1232 - acc: 0.962 - ETA: 0s - loss: 0.1233 - acc: 0.963 - ETA: 0s - loss: 0.1248 - acc: 0.962 - ETA: 0s - loss: 0.1248 - acc: 0.962 - ETA: 0s - loss: 0.1252 - acc: 0.961 - ETA: 0s - loss: 0.1253 - acc: 0.961 - ETA: 0s - loss: 0.1257 - acc: 0.961 - 3s 467us/step - loss: 0.1260 - acc: 0.9618 - val_loss: 1.3287 - val_acc: 0.7305\n",
      "\n",
      "Epoch 00007: val_loss did not improve from 1.13319\n",
      "Epoch 8/20\n"
     ]
    },
    {
     "name": "stdout",
     "output_type": "stream",
     "text": [
      "6680/6680 [==============================] - ETA: 7s - loss: 0.1962 - acc: 0.900 - ETA: 3s - loss: 0.1325 - acc: 0.935 - ETA: 3s - loss: 0.1320 - acc: 0.950 - ETA: 3s - loss: 0.1052 - acc: 0.960 - ETA: 3s - loss: 0.1002 - acc: 0.960 - ETA: 3s - loss: 0.1132 - acc: 0.963 - ETA: 2s - loss: 0.1054 - acc: 0.964 - ETA: 2s - loss: 0.0944 - acc: 0.969 - ETA: 2s - loss: 0.0903 - acc: 0.970 - ETA: 2s - loss: 0.0892 - acc: 0.970 - ETA: 2s - loss: 0.0887 - acc: 0.970 - ETA: 2s - loss: 0.0878 - acc: 0.969 - ETA: 2s - loss: 0.0857 - acc: 0.969 - ETA: 2s - loss: 0.0891 - acc: 0.968 - ETA: 2s - loss: 0.0915 - acc: 0.967 - ETA: 2s - loss: 0.0883 - acc: 0.968 - ETA: 2s - loss: 0.0893 - acc: 0.969 - ETA: 2s - loss: 0.0880 - acc: 0.969 - ETA: 2s - loss: 0.0913 - acc: 0.969 - ETA: 2s - loss: 0.0906 - acc: 0.970 - ETA: 2s - loss: 0.0905 - acc: 0.971 - ETA: 1s - loss: 0.0910 - acc: 0.971 - ETA: 1s - loss: 0.0897 - acc: 0.971 - ETA: 1s - loss: 0.0885 - acc: 0.972 - ETA: 1s - loss: 0.0904 - acc: 0.971 - ETA: 1s - loss: 0.0906 - acc: 0.971 - ETA: 1s - loss: 0.0914 - acc: 0.970 - ETA: 1s - loss: 0.0905 - acc: 0.970 - ETA: 1s - loss: 0.0907 - acc: 0.970 - ETA: 1s - loss: 0.0912 - acc: 0.970 - ETA: 1s - loss: 0.0907 - acc: 0.970 - ETA: 1s - loss: 0.0909 - acc: 0.970 - ETA: 1s - loss: 0.0978 - acc: 0.969 - ETA: 1s - loss: 0.0991 - acc: 0.968 - ETA: 1s - loss: 0.1014 - acc: 0.967 - ETA: 1s - loss: 0.1039 - acc: 0.965 - ETA: 1s - loss: 0.1059 - acc: 0.965 - ETA: 1s - loss: 0.1085 - acc: 0.963 - ETA: 0s - loss: 0.1123 - acc: 0.962 - ETA: 0s - loss: 0.1124 - acc: 0.962 - ETA: 0s - loss: 0.1141 - acc: 0.962 - ETA: 0s - loss: 0.1168 - acc: 0.962 - ETA: 0s - loss: 0.1181 - acc: 0.961 - ETA: 0s - loss: 0.1188 - acc: 0.960 - ETA: 0s - loss: 0.1220 - acc: 0.959 - ETA: 0s - loss: 0.1228 - acc: 0.959 - ETA: 0s - loss: 0.1228 - acc: 0.959 - ETA: 0s - loss: 0.1243 - acc: 0.959 - ETA: 0s - loss: 0.1244 - acc: 0.959 - ETA: 0s - loss: 0.1269 - acc: 0.958 - ETA: 0s - loss: 0.1275 - acc: 0.958 - ETA: 0s - loss: 0.1282 - acc: 0.957 - ETA: 0s - loss: 0.1277 - acc: 0.957 - ETA: 0s - loss: 0.1278 - acc: 0.957 - 3s 457us/step - loss: 0.1313 - acc: 0.9569 - val_loss: 1.2942 - val_acc: 0.7281\n",
      "\n",
      "Epoch 00008: val_loss did not improve from 1.13319\n",
      "Epoch 9/20\n",
      "6680/6680 [==============================] - ETA: 5s - loss: 0.1535 - acc: 0.900 - ETA: 3s - loss: 0.2251 - acc: 0.925 - ETA: 2s - loss: 0.2217 - acc: 0.925 - ETA: 2s - loss: 0.2412 - acc: 0.935 - ETA: 2s - loss: 0.2279 - acc: 0.942 - ETA: 2s - loss: 0.1993 - acc: 0.950 - ETA: 2s - loss: 0.1950 - acc: 0.948 - ETA: 2s - loss: 0.1798 - acc: 0.952 - ETA: 2s - loss: 0.1715 - acc: 0.954 - ETA: 2s - loss: 0.1611 - acc: 0.955 - ETA: 2s - loss: 0.1503 - acc: 0.958 - ETA: 2s - loss: 0.1532 - acc: 0.959 - ETA: 2s - loss: 0.1630 - acc: 0.959 - ETA: 2s - loss: 0.1585 - acc: 0.959 - ETA: 2s - loss: 0.1541 - acc: 0.961 - ETA: 2s - loss: 0.1502 - acc: 0.962 - ETA: 2s - loss: 0.1494 - acc: 0.962 - ETA: 2s - loss: 0.1452 - acc: 0.963 - ETA: 2s - loss: 0.1430 - acc: 0.963 - ETA: 2s - loss: 0.1430 - acc: 0.962 - ETA: 1s - loss: 0.1426 - acc: 0.962 - ETA: 1s - loss: 0.1442 - acc: 0.961 - ETA: 1s - loss: 0.1439 - acc: 0.961 - ETA: 1s - loss: 0.1436 - acc: 0.961 - ETA: 1s - loss: 0.1418 - acc: 0.962 - ETA: 1s - loss: 0.1431 - acc: 0.960 - ETA: 1s - loss: 0.1413 - acc: 0.961 - ETA: 1s - loss: 0.1412 - acc: 0.961 - ETA: 1s - loss: 0.1397 - acc: 0.961 - ETA: 1s - loss: 0.1407 - acc: 0.960 - ETA: 1s - loss: 0.1380 - acc: 0.961 - ETA: 1s - loss: 0.1371 - acc: 0.961 - ETA: 1s - loss: 0.1410 - acc: 0.960 - ETA: 1s - loss: 0.1414 - acc: 0.959 - ETA: 1s - loss: 0.1425 - acc: 0.958 - ETA: 1s - loss: 0.1410 - acc: 0.958 - ETA: 1s - loss: 0.1414 - acc: 0.957 - ETA: 0s - loss: 0.1409 - acc: 0.957 - ETA: 0s - loss: 0.1407 - acc: 0.957 - ETA: 0s - loss: 0.1402 - acc: 0.958 - ETA: 0s - loss: 0.1440 - acc: 0.956 - ETA: 0s - loss: 0.1449 - acc: 0.955 - ETA: 0s - loss: 0.1452 - acc: 0.955 - ETA: 0s - loss: 0.1449 - acc: 0.955 - ETA: 0s - loss: 0.1455 - acc: 0.955 - ETA: 0s - loss: 0.1445 - acc: 0.955 - ETA: 0s - loss: 0.1442 - acc: 0.955 - ETA: 0s - loss: 0.1464 - acc: 0.955 - ETA: 0s - loss: 0.1458 - acc: 0.955 - ETA: 0s - loss: 0.1467 - acc: 0.955 - ETA: 0s - loss: 0.1473 - acc: 0.955 - ETA: 0s - loss: 0.1467 - acc: 0.955 - ETA: 0s - loss: 0.1469 - acc: 0.954 - ETA: 0s - loss: 0.1458 - acc: 0.955 - ETA: 0s - loss: 0.1446 - acc: 0.955 - ETA: 0s - loss: 0.1444 - acc: 0.955 - 3s 473us/step - loss: 0.1446 - acc: 0.9549 - val_loss: 1.2394 - val_acc: 0.7365\n",
      "\n",
      "Epoch 00009: val_loss did not improve from 1.13319\n",
      "Epoch 10/20\n",
      "6680/6680 [==============================] - ETA: 3s - loss: 0.0546 - acc: 0.950 - ETA: 2s - loss: 0.0648 - acc: 0.971 - ETA: 2s - loss: 0.0909 - acc: 0.957 - ETA: 2s - loss: 0.0758 - acc: 0.965 - ETA: 2s - loss: 0.1122 - acc: 0.963 - ETA: 2s - loss: 0.0988 - acc: 0.969 - ETA: 2s - loss: 0.1117 - acc: 0.967 - ETA: 2s - loss: 0.1021 - acc: 0.969 - ETA: 2s - loss: 0.0979 - acc: 0.970 - ETA: 2s - loss: 0.0949 - acc: 0.971 - ETA: 2s - loss: 0.0969 - acc: 0.972 - ETA: 2s - loss: 0.1003 - acc: 0.969 - ETA: 2s - loss: 0.0981 - acc: 0.969 - ETA: 2s - loss: 0.0945 - acc: 0.971 - ETA: 2s - loss: 0.0907 - acc: 0.972 - ETA: 2s - loss: 0.0882 - acc: 0.972 - ETA: 2s - loss: 0.0882 - acc: 0.973 - ETA: 2s - loss: 0.0920 - acc: 0.973 - ETA: 1s - loss: 0.0920 - acc: 0.974 - ETA: 1s - loss: 0.0977 - acc: 0.973 - ETA: 1s - loss: 0.0985 - acc: 0.974 - ETA: 1s - loss: 0.1026 - acc: 0.972 - ETA: 1s - loss: 0.1012 - acc: 0.973 - ETA: 1s - loss: 0.1043 - acc: 0.972 - ETA: 1s - loss: 0.1080 - acc: 0.970 - ETA: 1s - loss: 0.1093 - acc: 0.970 - ETA: 1s - loss: 0.1087 - acc: 0.969 - ETA: 1s - loss: 0.1106 - acc: 0.968 - ETA: 1s - loss: 0.1083 - acc: 0.968 - ETA: 1s - loss: 0.1105 - acc: 0.968 - ETA: 1s - loss: 0.1118 - acc: 0.967 - ETA: 1s - loss: 0.1113 - acc: 0.968 - ETA: 1s - loss: 0.1128 - acc: 0.967 - ETA: 1s - loss: 0.1132 - acc: 0.967 - ETA: 1s - loss: 0.1128 - acc: 0.967 - ETA: 1s - loss: 0.1136 - acc: 0.967 - ETA: 0s - loss: 0.1142 - acc: 0.967 - ETA: 0s - loss: 0.1129 - acc: 0.968 - ETA: 0s - loss: 0.1149 - acc: 0.967 - ETA: 0s - loss: 0.1145 - acc: 0.967 - ETA: 0s - loss: 0.1130 - acc: 0.967 - ETA: 0s - loss: 0.1159 - acc: 0.967 - ETA: 0s - loss: 0.1169 - acc: 0.966 - ETA: 0s - loss: 0.1166 - acc: 0.966 - ETA: 0s - loss: 0.1182 - acc: 0.966 - ETA: 0s - loss: 0.1197 - acc: 0.966 - ETA: 0s - loss: 0.1225 - acc: 0.965 - ETA: 0s - loss: 0.1226 - acc: 0.965 - ETA: 0s - loss: 0.1252 - acc: 0.965 - ETA: 0s - loss: 0.1259 - acc: 0.964 - ETA: 0s - loss: 0.1264 - acc: 0.965 - ETA: 0s - loss: 0.1264 - acc: 0.965 - ETA: 0s - loss: 0.1266 - acc: 0.965 - ETA: 0s - loss: 0.1266 - acc: 0.965 - 3s 453us/step - loss: 0.1282 - acc: 0.9647 - val_loss: 1.3974 - val_acc: 0.7150\n",
      "\n",
      "Epoch 00010: val_loss did not improve from 1.13319\n",
      "Epoch 11/20\n"
     ]
    },
    {
     "name": "stdout",
     "output_type": "stream",
     "text": [
      "6680/6680 [==============================] - ETA: 2s - loss: 0.0401 - acc: 1.000 - ETA: 2s - loss: 0.1218 - acc: 0.957 - ETA: 2s - loss: 0.0973 - acc: 0.960 - ETA: 2s - loss: 0.1063 - acc: 0.959 - ETA: 2s - loss: 0.1179 - acc: 0.955 - ETA: 2s - loss: 0.1233 - acc: 0.953 - ETA: 2s - loss: 0.1264 - acc: 0.953 - ETA: 2s - loss: 0.1424 - acc: 0.950 - ETA: 2s - loss: 0.1424 - acc: 0.952 - ETA: 2s - loss: 0.1364 - acc: 0.953 - ETA: 2s - loss: 0.1299 - acc: 0.954 - ETA: 2s - loss: 0.1275 - acc: 0.956 - ETA: 2s - loss: 0.1279 - acc: 0.957 - ETA: 2s - loss: 0.1226 - acc: 0.959 - ETA: 2s - loss: 0.1195 - acc: 0.960 - ETA: 2s - loss: 0.1164 - acc: 0.961 - ETA: 1s - loss: 0.1136 - acc: 0.962 - ETA: 1s - loss: 0.1090 - acc: 0.964 - ETA: 1s - loss: 0.1121 - acc: 0.964 - ETA: 1s - loss: 0.1087 - acc: 0.965 - ETA: 1s - loss: 0.1064 - acc: 0.966 - ETA: 1s - loss: 0.1057 - acc: 0.966 - ETA: 1s - loss: 0.1080 - acc: 0.966 - ETA: 1s - loss: 0.1051 - acc: 0.967 - ETA: 1s - loss: 0.1017 - acc: 0.968 - ETA: 1s - loss: 0.0986 - acc: 0.969 - ETA: 1s - loss: 0.0994 - acc: 0.969 - ETA: 1s - loss: 0.0990 - acc: 0.969 - ETA: 1s - loss: 0.0999 - acc: 0.968 - ETA: 1s - loss: 0.0993 - acc: 0.968 - ETA: 1s - loss: 0.0984 - acc: 0.968 - ETA: 1s - loss: 0.1007 - acc: 0.968 - ETA: 1s - loss: 0.1022 - acc: 0.968 - ETA: 1s - loss: 0.1005 - acc: 0.969 - ETA: 1s - loss: 0.0996 - acc: 0.968 - ETA: 1s - loss: 0.0991 - acc: 0.969 - ETA: 1s - loss: 0.1020 - acc: 0.968 - ETA: 1s - loss: 0.1017 - acc: 0.969 - ETA: 1s - loss: 0.1011 - acc: 0.969 - ETA: 0s - loss: 0.1022 - acc: 0.969 - ETA: 0s - loss: 0.1015 - acc: 0.969 - ETA: 0s - loss: 0.1039 - acc: 0.968 - ETA: 0s - loss: 0.1056 - acc: 0.968 - ETA: 0s - loss: 0.1068 - acc: 0.967 - ETA: 0s - loss: 0.1062 - acc: 0.967 - ETA: 0s - loss: 0.1068 - acc: 0.967 - ETA: 0s - loss: 0.1092 - acc: 0.966 - ETA: 0s - loss: 0.1080 - acc: 0.967 - ETA: 0s - loss: 0.1081 - acc: 0.966 - ETA: 0s - loss: 0.1068 - acc: 0.967 - ETA: 0s - loss: 0.1077 - acc: 0.967 - ETA: 0s - loss: 0.1091 - acc: 0.966 - ETA: 0s - loss: 0.1084 - acc: 0.966 - ETA: 0s - loss: 0.1072 - acc: 0.967 - ETA: 0s - loss: 0.1081 - acc: 0.967 - ETA: 0s - loss: 0.1076 - acc: 0.967 - ETA: 0s - loss: 0.1076 - acc: 0.967 - ETA: 0s - loss: 0.1110 - acc: 0.966 - ETA: 0s - loss: 0.1117 - acc: 0.966 - ETA: 0s - loss: 0.1108 - acc: 0.967 - 3s 508us/step - loss: 0.1121 - acc: 0.9666 - val_loss: 1.5351 - val_acc: 0.7281\n",
      "\n",
      "Epoch 00011: val_loss did not improve from 1.13319\n",
      "Epoch 12/20\n",
      "6680/6680 [==============================] - ETA: 4s - loss: 0.1194 - acc: 0.950 - ETA: 3s - loss: 0.0906 - acc: 0.971 - ETA: 2s - loss: 0.1040 - acc: 0.961 - ETA: 3s - loss: 0.1176 - acc: 0.958 - ETA: 3s - loss: 0.1193 - acc: 0.962 - ETA: 2s - loss: 0.1197 - acc: 0.961 - ETA: 2s - loss: 0.1237 - acc: 0.964 - ETA: 2s - loss: 0.1222 - acc: 0.965 - ETA: 2s - loss: 0.1130 - acc: 0.967 - ETA: 2s - loss: 0.1053 - acc: 0.970 - ETA: 2s - loss: 0.1122 - acc: 0.971 - ETA: 2s - loss: 0.1105 - acc: 0.970 - ETA: 2s - loss: 0.1058 - acc: 0.971 - ETA: 2s - loss: 0.1050 - acc: 0.971 - ETA: 2s - loss: 0.1002 - acc: 0.973 - ETA: 2s - loss: 0.0989 - acc: 0.973 - ETA: 2s - loss: 0.0978 - acc: 0.973 - ETA: 2s - loss: 0.0970 - acc: 0.973 - ETA: 2s - loss: 0.0958 - acc: 0.973 - ETA: 2s - loss: 0.0950 - acc: 0.974 - ETA: 2s - loss: 0.0929 - acc: 0.974 - ETA: 1s - loss: 0.0957 - acc: 0.973 - ETA: 1s - loss: 0.1010 - acc: 0.971 - ETA: 1s - loss: 0.0999 - acc: 0.971 - ETA: 1s - loss: 0.1019 - acc: 0.969 - ETA: 1s - loss: 0.1043 - acc: 0.968 - ETA: 1s - loss: 0.1065 - acc: 0.968 - ETA: 1s - loss: 0.1068 - acc: 0.968 - ETA: 1s - loss: 0.1073 - acc: 0.967 - ETA: 1s - loss: 0.1079 - acc: 0.967 - ETA: 1s - loss: 0.1096 - acc: 0.967 - ETA: 1s - loss: 0.1077 - acc: 0.968 - ETA: 1s - loss: 0.1062 - acc: 0.968 - ETA: 1s - loss: 0.1048 - acc: 0.969 - ETA: 1s - loss: 0.1074 - acc: 0.968 - ETA: 1s - loss: 0.1060 - acc: 0.968 - ETA: 1s - loss: 0.1064 - acc: 0.968 - ETA: 1s - loss: 0.1065 - acc: 0.968 - ETA: 1s - loss: 0.1106 - acc: 0.966 - ETA: 1s - loss: 0.1099 - acc: 0.967 - ETA: 1s - loss: 0.1103 - acc: 0.966 - ETA: 1s - loss: 0.1134 - acc: 0.965 - ETA: 0s - loss: 0.1122 - acc: 0.966 - ETA: 0s - loss: 0.1148 - acc: 0.964 - ETA: 0s - loss: 0.1150 - acc: 0.964 - ETA: 0s - loss: 0.1153 - acc: 0.964 - ETA: 0s - loss: 0.1150 - acc: 0.963 - ETA: 0s - loss: 0.1141 - acc: 0.964 - ETA: 0s - loss: 0.1138 - acc: 0.964 - ETA: 0s - loss: 0.1141 - acc: 0.963 - ETA: 0s - loss: 0.1123 - acc: 0.964 - ETA: 0s - loss: 0.1118 - acc: 0.964 - ETA: 0s - loss: 0.1133 - acc: 0.964 - ETA: 0s - loss: 0.1134 - acc: 0.963 - ETA: 0s - loss: 0.1163 - acc: 0.962 - ETA: 0s - loss: 0.1181 - acc: 0.961 - ETA: 0s - loss: 0.1186 - acc: 0.961 - ETA: 0s - loss: 0.1216 - acc: 0.961 - 3s 499us/step - loss: 0.1232 - acc: 0.9606 - val_loss: 1.4562 - val_acc: 0.7102\n",
      "\n",
      "Epoch 00012: val_loss did not improve from 1.13319\n",
      "Epoch 13/20\n",
      "6680/6680 [==============================] - ETA: 3s - loss: 0.0168 - acc: 1.000 - ETA: 3s - loss: 0.1047 - acc: 0.971 - ETA: 2s - loss: 0.1474 - acc: 0.969 - ETA: 2s - loss: 0.1263 - acc: 0.967 - ETA: 2s - loss: 0.1632 - acc: 0.959 - ETA: 2s - loss: 0.1586 - acc: 0.956 - ETA: 2s - loss: 0.1475 - acc: 0.957 - ETA: 2s - loss: 0.1466 - acc: 0.958 - ETA: 2s - loss: 0.1345 - acc: 0.961 - ETA: 2s - loss: 0.1438 - acc: 0.960 - ETA: 2s - loss: 0.1421 - acc: 0.959 - ETA: 2s - loss: 0.1429 - acc: 0.958 - ETA: 2s - loss: 0.1387 - acc: 0.958 - ETA: 2s - loss: 0.1353 - acc: 0.959 - ETA: 2s - loss: 0.1304 - acc: 0.960 - ETA: 2s - loss: 0.1319 - acc: 0.958 - ETA: 2s - loss: 0.1302 - acc: 0.959 - ETA: 2s - loss: 0.1258 - acc: 0.960 - ETA: 2s - loss: 0.1221 - acc: 0.962 - ETA: 2s - loss: 0.1222 - acc: 0.962 - ETA: 1s - loss: 0.1213 - acc: 0.963 - ETA: 1s - loss: 0.1177 - acc: 0.964 - ETA: 1s - loss: 0.1144 - acc: 0.965 - ETA: 1s - loss: 0.1128 - acc: 0.965 - ETA: 1s - loss: 0.1162 - acc: 0.963 - ETA: 1s - loss: 0.1167 - acc: 0.963 - ETA: 1s - loss: 0.1144 - acc: 0.964 - ETA: 1s - loss: 0.1140 - acc: 0.964 - ETA: 1s - loss: 0.1123 - acc: 0.964 - ETA: 1s - loss: 0.1109 - acc: 0.965 - ETA: 1s - loss: 0.1095 - acc: 0.965 - ETA: 1s - loss: 0.1095 - acc: 0.966 - ETA: 1s - loss: 0.1073 - acc: 0.966 - ETA: 1s - loss: 0.1108 - acc: 0.965 - ETA: 1s - loss: 0.1096 - acc: 0.965 - ETA: 1s - loss: 0.1082 - acc: 0.965 - ETA: 1s - loss: 0.1078 - acc: 0.965 - ETA: 1s - loss: 0.1088 - acc: 0.965 - ETA: 0s - loss: 0.1085 - acc: 0.965 - ETA: 0s - loss: 0.1113 - acc: 0.965 - ETA: 0s - loss: 0.1134 - acc: 0.965 - ETA: 0s - loss: 0.1119 - acc: 0.965 - ETA: 0s - loss: 0.1119 - acc: 0.965 - ETA: 0s - loss: 0.1107 - acc: 0.966 - ETA: 0s - loss: 0.1108 - acc: 0.966 - ETA: 0s - loss: 0.1120 - acc: 0.965 - ETA: 0s - loss: 0.1117 - acc: 0.965 - ETA: 0s - loss: 0.1125 - acc: 0.964 - ETA: 0s - loss: 0.1112 - acc: 0.965 - ETA: 0s - loss: 0.1119 - acc: 0.964 - ETA: 0s - loss: 0.1137 - acc: 0.964 - ETA: 0s - loss: 0.1146 - acc: 0.964 - ETA: 0s - loss: 0.1152 - acc: 0.964 - ETA: 0s - loss: 0.1196 - acc: 0.964 - ETA: 0s - loss: 0.1195 - acc: 0.964 - ETA: 0s - loss: 0.1196 - acc: 0.964 - 3s 474us/step - loss: 0.1188 - acc: 0.9641 - val_loss: 1.4860 - val_acc: 0.7545\n",
      "\n",
      "Epoch 00013: val_loss did not improve from 1.13319\n",
      "Epoch 14/20\n"
     ]
    },
    {
     "name": "stdout",
     "output_type": "stream",
     "text": [
      "6680/6680 [==============================] - ETA: 6s - loss: 0.1655 - acc: 0.950 - ETA: 5s - loss: 0.1613 - acc: 0.960 - ETA: 5s - loss: 0.1411 - acc: 0.966 - ETA: 4s - loss: 0.0946 - acc: 0.976 - ETA: 3s - loss: 0.1394 - acc: 0.959 - ETA: 3s - loss: 0.1384 - acc: 0.953 - ETA: 3s - loss: 0.1380 - acc: 0.953 - ETA: 3s - loss: 0.1273 - acc: 0.956 - ETA: 3s - loss: 0.1173 - acc: 0.960 - ETA: 3s - loss: 0.1081 - acc: 0.963 - ETA: 2s - loss: 0.0986 - acc: 0.966 - ETA: 2s - loss: 0.1019 - acc: 0.966 - ETA: 2s - loss: 0.1006 - acc: 0.968 - ETA: 2s - loss: 0.0991 - acc: 0.967 - ETA: 2s - loss: 0.0948 - acc: 0.969 - ETA: 2s - loss: 0.0980 - acc: 0.969 - ETA: 2s - loss: 0.0987 - acc: 0.968 - ETA: 2s - loss: 0.1014 - acc: 0.968 - ETA: 2s - loss: 0.0993 - acc: 0.968 - ETA: 2s - loss: 0.1021 - acc: 0.967 - ETA: 2s - loss: 0.1055 - acc: 0.965 - ETA: 2s - loss: 0.1087 - acc: 0.965 - ETA: 2s - loss: 0.1075 - acc: 0.964 - ETA: 2s - loss: 0.1041 - acc: 0.965 - ETA: 2s - loss: 0.1040 - acc: 0.965 - ETA: 1s - loss: 0.1077 - acc: 0.964 - ETA: 1s - loss: 0.1071 - acc: 0.964 - ETA: 1s - loss: 0.1082 - acc: 0.964 - ETA: 1s - loss: 0.1052 - acc: 0.966 - ETA: 1s - loss: 0.1056 - acc: 0.965 - ETA: 1s - loss: 0.1048 - acc: 0.965 - ETA: 1s - loss: 0.1086 - acc: 0.965 - ETA: 1s - loss: 0.1080 - acc: 0.965 - ETA: 1s - loss: 0.1109 - acc: 0.963 - ETA: 1s - loss: 0.1105 - acc: 0.963 - ETA: 1s - loss: 0.1149 - acc: 0.963 - ETA: 1s - loss: 0.1181 - acc: 0.962 - ETA: 1s - loss: 0.1195 - acc: 0.962 - ETA: 1s - loss: 0.1189 - acc: 0.962 - ETA: 1s - loss: 0.1228 - acc: 0.960 - ETA: 0s - loss: 0.1285 - acc: 0.959 - ETA: 0s - loss: 0.1273 - acc: 0.959 - ETA: 0s - loss: 0.1295 - acc: 0.959 - ETA: 0s - loss: 0.1283 - acc: 0.960 - ETA: 0s - loss: 0.1325 - acc: 0.959 - ETA: 0s - loss: 0.1309 - acc: 0.959 - ETA: 0s - loss: 0.1352 - acc: 0.958 - ETA: 0s - loss: 0.1336 - acc: 0.959 - ETA: 0s - loss: 0.1330 - acc: 0.959 - ETA: 0s - loss: 0.1337 - acc: 0.958 - ETA: 0s - loss: 0.1361 - acc: 0.958 - ETA: 0s - loss: 0.1364 - acc: 0.957 - ETA: 0s - loss: 0.1357 - acc: 0.957 - ETA: 0s - loss: 0.1349 - acc: 0.958 - ETA: 0s - loss: 0.1348 - acc: 0.958 - ETA: 0s - loss: 0.1351 - acc: 0.958 - 3s 470us/step - loss: 0.1356 - acc: 0.9578 - val_loss: 1.6425 - val_acc: 0.7198\n",
      "\n",
      "Epoch 00014: val_loss did not improve from 1.13319\n",
      "Epoch 15/20\n",
      "6680/6680 [==============================] - ETA: 3s - loss: 0.1238 - acc: 0.950 - ETA: 2s - loss: 0.0675 - acc: 0.975 - ETA: 2s - loss: 0.0852 - acc: 0.963 - ETA: 2s - loss: 0.0767 - acc: 0.971 - ETA: 2s - loss: 0.0979 - acc: 0.964 - ETA: 2s - loss: 0.0884 - acc: 0.968 - ETA: 2s - loss: 0.0892 - acc: 0.966 - ETA: 2s - loss: 0.0952 - acc: 0.966 - ETA: 2s - loss: 0.0911 - acc: 0.967 - ETA: 2s - loss: 0.0949 - acc: 0.969 - ETA: 2s - loss: 0.0985 - acc: 0.970 - ETA: 2s - loss: 0.0926 - acc: 0.971 - ETA: 2s - loss: 0.0920 - acc: 0.972 - ETA: 2s - loss: 0.0932 - acc: 0.970 - ETA: 2s - loss: 0.0871 - acc: 0.972 - ETA: 2s - loss: 0.0863 - acc: 0.972 - ETA: 1s - loss: 0.0839 - acc: 0.973 - ETA: 1s - loss: 0.0823 - acc: 0.972 - ETA: 1s - loss: 0.0801 - acc: 0.973 - ETA: 1s - loss: 0.0835 - acc: 0.972 - ETA: 1s - loss: 0.0815 - acc: 0.973 - ETA: 1s - loss: 0.0810 - acc: 0.972 - ETA: 1s - loss: 0.0810 - acc: 0.973 - ETA: 1s - loss: 0.0800 - acc: 0.973 - ETA: 1s - loss: 0.0843 - acc: 0.973 - ETA: 1s - loss: 0.0870 - acc: 0.972 - ETA: 1s - loss: 0.0873 - acc: 0.972 - ETA: 1s - loss: 0.0878 - acc: 0.973 - ETA: 1s - loss: 0.0876 - acc: 0.973 - ETA: 1s - loss: 0.0878 - acc: 0.973 - ETA: 1s - loss: 0.0877 - acc: 0.972 - ETA: 1s - loss: 0.0865 - acc: 0.972 - ETA: 1s - loss: 0.0854 - acc: 0.973 - ETA: 1s - loss: 0.0903 - acc: 0.972 - ETA: 1s - loss: 0.0901 - acc: 0.972 - ETA: 0s - loss: 0.0913 - acc: 0.971 - ETA: 0s - loss: 0.0930 - acc: 0.971 - ETA: 0s - loss: 0.0922 - acc: 0.971 - ETA: 0s - loss: 0.0919 - acc: 0.971 - ETA: 0s - loss: 0.0915 - acc: 0.971 - ETA: 0s - loss: 0.0921 - acc: 0.971 - ETA: 0s - loss: 0.0928 - acc: 0.970 - ETA: 0s - loss: 0.0939 - acc: 0.970 - ETA: 0s - loss: 0.0934 - acc: 0.970 - ETA: 0s - loss: 0.0937 - acc: 0.970 - ETA: 0s - loss: 0.0946 - acc: 0.970 - ETA: 0s - loss: 0.0940 - acc: 0.970 - ETA: 0s - loss: 0.0946 - acc: 0.970 - ETA: 0s - loss: 0.0950 - acc: 0.969 - ETA: 0s - loss: 0.0974 - acc: 0.969 - ETA: 0s - loss: 0.1016 - acc: 0.968 - ETA: 0s - loss: 0.1041 - acc: 0.968 - ETA: 0s - loss: 0.1061 - acc: 0.967 - ETA: 0s - loss: 0.1062 - acc: 0.967 - ETA: 0s - loss: 0.1063 - acc: 0.967 - ETA: 0s - loss: 0.1065 - acc: 0.967 - 3s 464us/step - loss: 0.1060 - acc: 0.9675 - val_loss: 1.6287 - val_acc: 0.7401\n",
      "\n",
      "Epoch 00015: val_loss did not improve from 1.13319\n",
      "Epoch 16/20\n",
      "6680/6680 [==============================] - ETA: 4s - loss: 0.2083 - acc: 0.950 - ETA: 2s - loss: 0.0638 - acc: 0.981 - ETA: 2s - loss: 0.0539 - acc: 0.980 - ETA: 2s - loss: 0.0466 - acc: 0.983 - ETA: 2s - loss: 0.0449 - acc: 0.985 - ETA: 2s - loss: 0.0451 - acc: 0.985 - ETA: 2s - loss: 0.0425 - acc: 0.985 - ETA: 2s - loss: 0.0387 - acc: 0.987 - ETA: 2s - loss: 0.0488 - acc: 0.986 - ETA: 2s - loss: 0.0506 - acc: 0.986 - ETA: 2s - loss: 0.0555 - acc: 0.983 - ETA: 2s - loss: 0.0547 - acc: 0.983 - ETA: 2s - loss: 0.0546 - acc: 0.982 - ETA: 2s - loss: 0.0521 - acc: 0.983 - ETA: 2s - loss: 0.0623 - acc: 0.982 - ETA: 2s - loss: 0.0638 - acc: 0.982 - ETA: 2s - loss: 0.0668 - acc: 0.982 - ETA: 1s - loss: 0.0676 - acc: 0.981 - ETA: 1s - loss: 0.0707 - acc: 0.980 - ETA: 1s - loss: 0.0698 - acc: 0.979 - ETA: 1s - loss: 0.0826 - acc: 0.978 - ETA: 1s - loss: 0.0826 - acc: 0.978 - ETA: 1s - loss: 0.0841 - acc: 0.978 - ETA: 1s - loss: 0.0870 - acc: 0.977 - ETA: 1s - loss: 0.0850 - acc: 0.978 - ETA: 1s - loss: 0.0883 - acc: 0.977 - ETA: 1s - loss: 0.0897 - acc: 0.976 - ETA: 1s - loss: 0.0930 - acc: 0.975 - ETA: 1s - loss: 0.0910 - acc: 0.976 - ETA: 1s - loss: 0.0922 - acc: 0.975 - ETA: 1s - loss: 0.0917 - acc: 0.974 - ETA: 1s - loss: 0.0921 - acc: 0.974 - ETA: 1s - loss: 0.0940 - acc: 0.973 - ETA: 1s - loss: 0.0950 - acc: 0.973 - ETA: 1s - loss: 0.0986 - acc: 0.972 - ETA: 0s - loss: 0.0983 - acc: 0.973 - ETA: 0s - loss: 0.1002 - acc: 0.973 - ETA: 0s - loss: 0.1018 - acc: 0.972 - ETA: 0s - loss: 0.1024 - acc: 0.971 - ETA: 0s - loss: 0.1029 - acc: 0.971 - ETA: 0s - loss: 0.1028 - acc: 0.971 - ETA: 0s - loss: 0.1018 - acc: 0.971 - ETA: 0s - loss: 0.1016 - acc: 0.971 - ETA: 0s - loss: 0.1012 - acc: 0.971 - ETA: 0s - loss: 0.1012 - acc: 0.971 - ETA: 0s - loss: 0.1002 - acc: 0.971 - ETA: 0s - loss: 0.1018 - acc: 0.971 - ETA: 0s - loss: 0.1035 - acc: 0.970 - ETA: 0s - loss: 0.1038 - acc: 0.970 - ETA: 0s - loss: 0.1022 - acc: 0.971 - ETA: 0s - loss: 0.1018 - acc: 0.971 - ETA: 0s - loss: 0.1010 - acc: 0.971 - ETA: 0s - loss: 0.0995 - acc: 0.971 - ETA: 0s - loss: 0.0984 - acc: 0.971 - ETA: 0s - loss: 0.0977 - acc: 0.971 - 3s 462us/step - loss: 0.0980 - acc: 0.9716 - val_loss: 1.4719 - val_acc: 0.7521\n",
      "\n",
      "Epoch 00016: val_loss did not improve from 1.13319\n",
      "Epoch 17/20\n"
     ]
    },
    {
     "name": "stdout",
     "output_type": "stream",
     "text": [
      "6680/6680 [==============================] - ETA: 2s - loss: 0.0593 - acc: 0.950 - ETA: 2s - loss: 0.0521 - acc: 0.971 - ETA: 2s - loss: 0.0487 - acc: 0.967 - ETA: 2s - loss: 0.0604 - acc: 0.967 - ETA: 2s - loss: 0.0658 - acc: 0.967 - ETA: 2s - loss: 0.0638 - acc: 0.968 - ETA: 2s - loss: 0.0555 - acc: 0.973 - ETA: 2s - loss: 0.0657 - acc: 0.973 - ETA: 2s - loss: 0.0586 - acc: 0.977 - ETA: 2s - loss: 0.0811 - acc: 0.974 - ETA: 2s - loss: 0.0747 - acc: 0.975 - ETA: 2s - loss: 0.0725 - acc: 0.976 - ETA: 2s - loss: 0.0738 - acc: 0.976 - ETA: 2s - loss: 0.0755 - acc: 0.975 - ETA: 2s - loss: 0.0770 - acc: 0.974 - ETA: 2s - loss: 0.0756 - acc: 0.975 - ETA: 2s - loss: 0.0802 - acc: 0.975 - ETA: 2s - loss: 0.0859 - acc: 0.974 - ETA: 2s - loss: 0.0836 - acc: 0.974 - ETA: 2s - loss: 0.0884 - acc: 0.974 - ETA: 2s - loss: 0.0892 - acc: 0.973 - ETA: 2s - loss: 0.0918 - acc: 0.973 - ETA: 1s - loss: 0.0909 - acc: 0.973 - ETA: 1s - loss: 0.0934 - acc: 0.973 - ETA: 1s - loss: 0.0941 - acc: 0.972 - ETA: 1s - loss: 0.0936 - acc: 0.973 - ETA: 1s - loss: 0.0927 - acc: 0.973 - ETA: 1s - loss: 0.0930 - acc: 0.973 - ETA: 1s - loss: 0.0924 - acc: 0.973 - ETA: 1s - loss: 0.0963 - acc: 0.972 - ETA: 1s - loss: 0.0952 - acc: 0.973 - ETA: 1s - loss: 0.0952 - acc: 0.972 - ETA: 1s - loss: 0.0947 - acc: 0.972 - ETA: 1s - loss: 0.0947 - acc: 0.972 - ETA: 1s - loss: 0.0949 - acc: 0.972 - ETA: 1s - loss: 0.0956 - acc: 0.972 - ETA: 1s - loss: 0.0957 - acc: 0.972 - ETA: 1s - loss: 0.0963 - acc: 0.972 - ETA: 1s - loss: 0.0953 - acc: 0.972 - ETA: 0s - loss: 0.0957 - acc: 0.972 - ETA: 0s - loss: 0.0937 - acc: 0.972 - ETA: 0s - loss: 0.0961 - acc: 0.972 - ETA: 0s - loss: 0.0975 - acc: 0.972 - ETA: 0s - loss: 0.0962 - acc: 0.972 - ETA: 0s - loss: 0.0959 - acc: 0.972 - ETA: 0s - loss: 0.0969 - acc: 0.972 - ETA: 0s - loss: 0.0979 - acc: 0.972 - ETA: 0s - loss: 0.0985 - acc: 0.971 - ETA: 0s - loss: 0.0976 - acc: 0.972 - ETA: 0s - loss: 0.0970 - acc: 0.972 - ETA: 0s - loss: 0.0988 - acc: 0.972 - ETA: 0s - loss: 0.0990 - acc: 0.971 - ETA: 0s - loss: 0.1004 - acc: 0.971 - ETA: 0s - loss: 0.0998 - acc: 0.971 - ETA: 0s - loss: 0.0980 - acc: 0.971 - ETA: 0s - loss: 0.0990 - acc: 0.971 - ETA: 0s - loss: 0.0999 - acc: 0.971 - 3s 477us/step - loss: 0.0999 - acc: 0.9711 - val_loss: 1.6855 - val_acc: 0.7485\n",
      "\n",
      "Epoch 00017: val_loss did not improve from 1.13319\n",
      "Epoch 18/20\n",
      "6680/6680 [==============================] - ETA: 6s - loss: 0.3039 - acc: 0.900 - ETA: 3s - loss: 0.1353 - acc: 0.966 - ETA: 5s - loss: 0.1187 - acc: 0.971 - ETA: 5s - loss: 0.2326 - acc: 0.955 - ETA: 5s - loss: 0.1933 - acc: 0.960 - ETA: 5s - loss: 0.1825 - acc: 0.963 - ETA: 5s - loss: 0.1767 - acc: 0.961 - ETA: 4s - loss: 0.1551 - acc: 0.966 - ETA: 4s - loss: 0.1425 - acc: 0.969 - ETA: 4s - loss: 0.1342 - acc: 0.971 - ETA: 4s - loss: 0.1199 - acc: 0.974 - ETA: 4s - loss: 0.1236 - acc: 0.975 - ETA: 4s - loss: 0.1271 - acc: 0.974 - ETA: 4s - loss: 0.1205 - acc: 0.975 - ETA: 5s - loss: 0.1174 - acc: 0.975 - ETA: 4s - loss: 0.1124 - acc: 0.975 - ETA: 4s - loss: 0.1043 - acc: 0.977 - ETA: 4s - loss: 0.0982 - acc: 0.978 - ETA: 4s - loss: 0.0905 - acc: 0.979 - ETA: 4s - loss: 0.0893 - acc: 0.979 - ETA: 3s - loss: 0.0835 - acc: 0.980 - ETA: 3s - loss: 0.0777 - acc: 0.981 - ETA: 3s - loss: 0.0790 - acc: 0.980 - ETA: 3s - loss: 0.0776 - acc: 0.980 - ETA: 3s - loss: 0.0736 - acc: 0.981 - ETA: 3s - loss: 0.0779 - acc: 0.980 - ETA: 3s - loss: 0.0799 - acc: 0.979 - ETA: 3s - loss: 0.0818 - acc: 0.978 - ETA: 2s - loss: 0.0813 - acc: 0.978 - ETA: 2s - loss: 0.0931 - acc: 0.976 - ETA: 2s - loss: 0.0997 - acc: 0.975 - ETA: 2s - loss: 0.1046 - acc: 0.974 - ETA: 2s - loss: 0.1113 - acc: 0.973 - ETA: 2s - loss: 0.1105 - acc: 0.974 - ETA: 2s - loss: 0.1143 - acc: 0.973 - ETA: 2s - loss: 0.1128 - acc: 0.972 - ETA: 2s - loss: 0.1116 - acc: 0.973 - ETA: 2s - loss: 0.1085 - acc: 0.973 - ETA: 2s - loss: 0.1112 - acc: 0.973 - ETA: 1s - loss: 0.1137 - acc: 0.973 - ETA: 1s - loss: 0.1143 - acc: 0.973 - ETA: 1s - loss: 0.1112 - acc: 0.974 - ETA: 1s - loss: 0.1096 - acc: 0.974 - ETA: 1s - loss: 0.1134 - acc: 0.973 - ETA: 1s - loss: 0.1114 - acc: 0.973 - ETA: 1s - loss: 0.1117 - acc: 0.973 - ETA: 1s - loss: 0.1112 - acc: 0.972 - ETA: 1s - loss: 0.1094 - acc: 0.972 - ETA: 1s - loss: 0.1106 - acc: 0.972 - ETA: 1s - loss: 0.1123 - acc: 0.971 - ETA: 1s - loss: 0.1132 - acc: 0.970 - ETA: 1s - loss: 0.1131 - acc: 0.970 - ETA: 1s - loss: 0.1121 - acc: 0.970 - ETA: 0s - loss: 0.1121 - acc: 0.970 - ETA: 0s - loss: 0.1110 - acc: 0.970 - ETA: 0s - loss: 0.1090 - acc: 0.971 - ETA: 0s - loss: 0.1072 - acc: 0.971 - ETA: 0s - loss: 0.1068 - acc: 0.971 - ETA: 0s - loss: 0.1059 - acc: 0.971 - ETA: 0s - loss: 0.1047 - acc: 0.971 - ETA: 0s - loss: 0.1041 - acc: 0.971 - ETA: 0s - loss: 0.1048 - acc: 0.971 - ETA: 0s - loss: 0.1057 - acc: 0.971 - ETA: 0s - loss: 0.1049 - acc: 0.971 - ETA: 0s - loss: 0.1052 - acc: 0.971 - ETA: 0s - loss: 0.1049 - acc: 0.971 - ETA: 0s - loss: 0.1039 - acc: 0.971 - ETA: 0s - loss: 0.1033 - acc: 0.971 - ETA: 0s - loss: 0.1026 - acc: 0.971 - 4s 596us/step - loss: 0.1020 - acc: 0.9720 - val_loss: 1.7256 - val_acc: 0.7413\n",
      "\n",
      "Epoch 00018: val_loss did not improve from 1.13319\n",
      "Epoch 19/20\n",
      "6680/6680 [==============================] - ETA: 9s - loss: 0.0779 - acc: 0.950 - ETA: 3s - loss: 0.0786 - acc: 0.962 - ETA: 3s - loss: 0.0512 - acc: 0.976 - ETA: 3s - loss: 0.0634 - acc: 0.973 - ETA: 3s - loss: 0.0673 - acc: 0.976 - ETA: 3s - loss: 0.0603 - acc: 0.978 - ETA: 2s - loss: 0.0603 - acc: 0.977 - ETA: 2s - loss: 0.0686 - acc: 0.976 - ETA: 2s - loss: 0.0671 - acc: 0.977 - ETA: 3s - loss: 0.0640 - acc: 0.979 - ETA: 2s - loss: 0.0615 - acc: 0.978 - ETA: 2s - loss: 0.0559 - acc: 0.981 - ETA: 2s - loss: 0.0534 - acc: 0.981 - ETA: 2s - loss: 0.0537 - acc: 0.981 - ETA: 2s - loss: 0.0512 - acc: 0.982 - ETA: 2s - loss: 0.0522 - acc: 0.982 - ETA: 2s - loss: 0.0511 - acc: 0.982 - ETA: 2s - loss: 0.0604 - acc: 0.981 - ETA: 2s - loss: 0.0574 - acc: 0.983 - ETA: 2s - loss: 0.0567 - acc: 0.982 - ETA: 2s - loss: 0.0545 - acc: 0.983 - ETA: 2s - loss: 0.0545 - acc: 0.982 - ETA: 2s - loss: 0.0566 - acc: 0.982 - ETA: 2s - loss: 0.0556 - acc: 0.982 - ETA: 2s - loss: 0.0561 - acc: 0.982 - ETA: 2s - loss: 0.0551 - acc: 0.982 - ETA: 2s - loss: 0.0534 - acc: 0.982 - ETA: 1s - loss: 0.0522 - acc: 0.983 - ETA: 1s - loss: 0.0514 - acc: 0.983 - ETA: 1s - loss: 0.0507 - acc: 0.983 - ETA: 1s - loss: 0.0501 - acc: 0.983 - ETA: 1s - loss: 0.0517 - acc: 0.983 - ETA: 1s - loss: 0.0521 - acc: 0.983 - ETA: 1s - loss: 0.0511 - acc: 0.984 - ETA: 1s - loss: 0.0508 - acc: 0.984 - ETA: 1s - loss: 0.0507 - acc: 0.984 - ETA: 1s - loss: 0.0533 - acc: 0.983 - ETA: 1s - loss: 0.0533 - acc: 0.982 - ETA: 1s - loss: 0.0525 - acc: 0.983 - ETA: 1s - loss: 0.0537 - acc: 0.983 - ETA: 1s - loss: 0.0545 - acc: 0.982 - ETA: 1s - loss: 0.0566 - acc: 0.982 - ETA: 1s - loss: 0.0577 - acc: 0.981 - ETA: 1s - loss: 0.0596 - acc: 0.981 - ETA: 1s - loss: 0.0604 - acc: 0.981 - ETA: 1s - loss: 0.0608 - acc: 0.980 - ETA: 1s - loss: 0.0599 - acc: 0.981 - ETA: 1s - loss: 0.0602 - acc: 0.981 - ETA: 0s - loss: 0.0590 - acc: 0.981 - ETA: 0s - loss: 0.0586 - acc: 0.981 - ETA: 0s - loss: 0.0595 - acc: 0.980 - ETA: 0s - loss: 0.0607 - acc: 0.980 - ETA: 0s - loss: 0.0612 - acc: 0.980 - ETA: 0s - loss: 0.0651 - acc: 0.979 - ETA: 0s - loss: 0.0655 - acc: 0.978 - ETA: 0s - loss: 0.0674 - acc: 0.978 - ETA: 0s - loss: 0.0672 - acc: 0.978 - ETA: 0s - loss: 0.0711 - acc: 0.977 - ETA: 0s - loss: 0.0708 - acc: 0.978 - ETA: 0s - loss: 0.0704 - acc: 0.977 - ETA: 0s - loss: 0.0701 - acc: 0.977 - ETA: 0s - loss: 0.0704 - acc: 0.977 - ETA: 0s - loss: 0.0726 - acc: 0.977 - ETA: 0s - loss: 0.0743 - acc: 0.977 - ETA: 0s - loss: 0.0761 - acc: 0.977 - ETA: 0s - loss: 0.0761 - acc: 0.977 - ETA: 0s - loss: 0.0781 - acc: 0.976 - 4s 566us/step - loss: 0.0777 - acc: 0.9769 - val_loss: 1.7549 - val_acc: 0.7305\n",
      "\n",
      "Epoch 00019: val_loss did not improve from 1.13319\n",
      "Epoch 20/20\n"
     ]
    },
    {
     "name": "stdout",
     "output_type": "stream",
     "text": [
      "6680/6680 [==============================] - ETA: 6s - loss: 0.0025 - acc: 1.000 - ETA: 4s - loss: 0.0764 - acc: 0.975 - ETA: 4s - loss: 0.0686 - acc: 0.977 - ETA: 4s - loss: 0.0815 - acc: 0.976 - ETA: 4s - loss: 0.0904 - acc: 0.979 - ETA: 4s - loss: 0.0813 - acc: 0.980 - ETA: 4s - loss: 0.1031 - acc: 0.972 - ETA: 4s - loss: 0.1146 - acc: 0.973 - ETA: 4s - loss: 0.1137 - acc: 0.972 - ETA: 3s - loss: 0.1046 - acc: 0.974 - ETA: 3s - loss: 0.1005 - acc: 0.972 - ETA: 3s - loss: 0.1042 - acc: 0.969 - ETA: 3s - loss: 0.0964 - acc: 0.971 - ETA: 3s - loss: 0.0941 - acc: 0.972 - ETA: 3s - loss: 0.0986 - acc: 0.972 - ETA: 2s - loss: 0.0916 - acc: 0.973 - ETA: 2s - loss: 0.0912 - acc: 0.972 - ETA: 2s - loss: 0.0871 - acc: 0.973 - ETA: 2s - loss: 0.0857 - acc: 0.973 - ETA: 2s - loss: 0.0859 - acc: 0.973 - ETA: 2s - loss: 0.0837 - acc: 0.973 - ETA: 2s - loss: 0.0819 - acc: 0.973 - ETA: 2s - loss: 0.0820 - acc: 0.973 - ETA: 2s - loss: 0.0888 - acc: 0.972 - ETA: 2s - loss: 0.0913 - acc: 0.971 - ETA: 1s - loss: 0.0938 - acc: 0.971 - ETA: 1s - loss: 0.0945 - acc: 0.970 - ETA: 1s - loss: 0.0914 - acc: 0.971 - ETA: 1s - loss: 0.0880 - acc: 0.972 - ETA: 1s - loss: 0.0882 - acc: 0.972 - ETA: 1s - loss: 0.0906 - acc: 0.971 - ETA: 1s - loss: 0.0876 - acc: 0.972 - ETA: 1s - loss: 0.0914 - acc: 0.971 - ETA: 1s - loss: 0.0926 - acc: 0.971 - ETA: 1s - loss: 0.0927 - acc: 0.972 - ETA: 1s - loss: 0.0912 - acc: 0.973 - ETA: 1s - loss: 0.0930 - acc: 0.972 - ETA: 1s - loss: 0.0967 - acc: 0.972 - ETA: 1s - loss: 0.0958 - acc: 0.972 - ETA: 1s - loss: 0.0968 - acc: 0.972 - ETA: 0s - loss: 0.0964 - acc: 0.972 - ETA: 0s - loss: 0.0968 - acc: 0.972 - ETA: 0s - loss: 0.0974 - acc: 0.971 - ETA: 0s - loss: 0.0969 - acc: 0.971 - ETA: 0s - loss: 0.0979 - acc: 0.971 - ETA: 0s - loss: 0.0967 - acc: 0.971 - ETA: 0s - loss: 0.0986 - acc: 0.971 - ETA: 0s - loss: 0.0979 - acc: 0.971 - ETA: 0s - loss: 0.0981 - acc: 0.971 - ETA: 0s - loss: 0.0994 - acc: 0.971 - ETA: 0s - loss: 0.0998 - acc: 0.970 - ETA: 0s - loss: 0.1043 - acc: 0.970 - ETA: 0s - loss: 0.1045 - acc: 0.970 - ETA: 0s - loss: 0.1032 - acc: 0.971 - ETA: 0s - loss: 0.1029 - acc: 0.971 - ETA: 0s - loss: 0.1019 - acc: 0.971 - ETA: 0s - loss: 0.1020 - acc: 0.971 - ETA: 0s - loss: 0.1010 - acc: 0.971 - 3s 487us/step - loss: 0.1003 - acc: 0.9720 - val_loss: 1.7640 - val_acc: 0.7293\n",
      "\n",
      "Epoch 00020: val_loss did not improve from 1.13319\n"
     ]
    },
    {
     "data": {
      "text/plain": [
       "<keras.callbacks.History at 0x1dea589f080>"
      ]
     },
     "execution_count": 29,
     "metadata": {},
     "output_type": "execute_result"
    }
   ],
   "source": [
    "### TODO: Train the model.\n",
    "from keras.callbacks import ModelCheckpoint  \n",
    "\n",
    "#The below fits the CNN and saves the weights for the epoch which yields the ebst results\n",
    "checkpointer = ModelCheckpoint(filepath='model/notebook/weights.best.VGG19.hdf5', \n",
    "                               verbose=1, save_best_only=True)\n",
    "\n",
    "VGG19_model.fit(train_VGG19, train_targets, \n",
    "          validation_data=(valid_VGG19, valid_targets),\n",
    "          epochs=20, batch_size=20, callbacks=[checkpointer], verbose=1)"
   ]
  },
  {
   "cell_type": "markdown",
   "metadata": {},
   "source": [
    "### (IMPLEMENTATION) Load the Model with the Best Validation Loss"
   ]
  },
  {
   "cell_type": "code",
   "execution_count": 30,
   "metadata": {},
   "outputs": [],
   "source": [
    "### TODO: Load the model weights with the best validation loss.\n",
    "VGG19_model.load_weights('model/notebook/weights.best.VGG19.hdf5')"
   ]
  },
  {
   "cell_type": "markdown",
   "metadata": {},
   "source": [
    "### (IMPLEMENTATION) Test the Model\n",
    "\n",
    "Try out your model on the test dataset of dog images. Ensure that your test accuracy is greater than 60%."
   ]
  },
  {
   "cell_type": "code",
   "execution_count": 31,
   "metadata": {},
   "outputs": [
    {
     "name": "stdout",
     "output_type": "stream",
     "text": [
      "Test accuracy: 73.4450%\n"
     ]
    }
   ],
   "source": [
    "### TODO: Calculate classification accuracy on the test dataset.\n",
    "VGG19_predictions = [np.argmax(VGG19_model.predict(np.expand_dims(feature, axis=0))) for feature in test_VGG19]\n",
    "\n",
    "# report test accuracy\n",
    "test_accuracy = 100*np.sum(np.array(VGG19_predictions)==np.argmax(test_targets, axis=1))/len(VGG19_predictions)\n",
    "print('Test accuracy: %.4f%%' % test_accuracy)"
   ]
  },
  {
   "cell_type": "markdown",
   "metadata": {},
   "source": [
    "### (IMPLEMENTATION) Predict Dog Breed with the Model\n",
    "\n",
    "Write a function that takes an image path as input and returns the dog breed (`Affenpinscher`, `Afghan_hound`, etc) that is predicted by your model.  \n",
    "\n",
    "Similar to the analogous function in Step 5, your function should have three steps:\n",
    "1. Extract the bottleneck features corresponding to the chosen CNN model.\n",
    "2. Supply the bottleneck features as input to the model to return the predicted vector.  Note that the argmax of this prediction vector gives the index of the predicted dog breed.\n",
    "3. Use the `dog_names` array defined in Step 0 of this notebook to return the corresponding breed.\n",
    "\n",
    "The functions to extract the bottleneck features can be found in `extract_bottleneck_features.py`, and they have been imported in an earlier code cell.  To obtain the bottleneck features corresponding to your chosen CNN architecture, you need to use the function\n",
    "\n",
    "    extract_{network}\n",
    "    \n",
    "where `{network}`, in the above filename, should be one of `VGG19`, `Resnet50`, `InceptionV3`, or `Xception`."
   ]
  },
  {
   "cell_type": "code",
   "execution_count": 32,
   "metadata": {},
   "outputs": [],
   "source": [
    "### TODO: Write a function that takes a path to an image as input\n",
    "### and returns the dog breed that is predicted by the model.\n",
    "\n",
    "def VGG19_predict_breed(img_path):\n",
    "    \"\"\"Takes a file path of an image, extracts features then classifies it then\n",
    "    states what breed the image mostly resembles according to the VGG19 model.\n",
    "\n",
    "    Parameters:\n",
    "    img_path (String): Path to a file containing the image.\n",
    "\n",
    "    Returns:\n",
    "    (Boolean): The breed which the image submitted most resembles\n",
    "    \"\"\"\n",
    "    # extract bottleneck features\n",
    "    bottleneck_feature = extract_VGG19(path_to_tensor(img_path))\n",
    "    # obtain predicted vector\n",
    "    predicted_vector = VGG19_model.predict(bottleneck_feature)\n",
    "    # return dog breed that is predicted by the model\n",
    "    return dog_names[np.argmax(predicted_vector)]"
   ]
  },
  {
   "cell_type": "markdown",
   "metadata": {},
   "source": [
    "---\n",
    "<a id='step6'></a>\n",
    "## Step 6: Write your Algorithm\n",
    "\n",
    "Write an algorithm that accepts a file path to an image and first determines whether the image contains a human, dog, or neither.  Then,\n",
    "- if a __dog__ is detected in the image, return the predicted breed.\n",
    "- if a __human__ is detected in the image, return the resembling dog breed.\n",
    "- if __neither__ is detected in the image, provide output that indicates an error.\n",
    "\n",
    "You are welcome to write your own functions for detecting humans and dogs in images, but feel free to use the `face_detector` and `dog_detector` functions developed above.  You are __required__ to use your CNN from Step 5 to predict dog breed.  \n",
    "\n",
    "A sample image and output for our algorithm is provided below, but feel free to design your own user experience!\n",
    "\n",
    "![Sample Human Output](images/sample_human_2.png)\n",
    "\n",
    "This photo looks like an Afghan Hound.\n",
    "### (IMPLEMENTATION) Write your Algorithm"
   ]
  },
  {
   "cell_type": "code",
   "execution_count": 33,
   "metadata": {},
   "outputs": [],
   "source": [
    "### TODO: Write your algorithm.\n",
    "### Feel free to use as many code cells as needed.\n",
    "def dog_breed_predictor(img_path):\n",
    "    \"\"\"Takes a file path of an image, classifies if it is potentially a dog or human then\n",
    "    states what breed the image mostly resembles.\n",
    "\n",
    "    Parameters:\n",
    "    img_path (String): Path to a file containing the image.\n",
    "\n",
    "    Returns:\n",
    "    (Boolean): The breed which the image submitted most resembles if a human/dog is found.\n",
    "    \"\"\"\n",
    "    #Detects if there's human or dog faces\n",
    "    if face_detector(img_path) > 0 or dog_detector(img_path) > 0:\n",
    "        #Predicts breed\n",
    "        output = VGG19_predict_breed(img_path).split('.')[-1]\n",
    "    else:\n",
    "        output = \"No human face or dog found.\"\n",
    "        \n",
    "    return output"
   ]
  },
  {
   "cell_type": "markdown",
   "metadata": {},
   "source": [
    "---\n",
    "<a id='step7'></a>\n",
    "## Step 7: Test Your Algorithm\n",
    "\n",
    "In this section, you will take your new algorithm for a spin!  What kind of dog does the algorithm think that __you__ look like?  If you have a dog, does it predict your dog's breed accurately?  If you have a cat, does it mistakenly think that your cat is a dog?\n",
    "\n",
    "### (IMPLEMENTATION) Test Your Algorithm on Sample Images!\n",
    "\n",
    "Test your algorithm at least six images on your computer.  Feel free to use any images you like.  Use at least two human and two dog images.  \n",
    "\n",
    "__Question 6:__ Is the output better than you expected :) ?  Or worse :( ?  Provide at least three possible points of improvement for your algorithm.\n",
    "\n",
    "__Answer:__ "
   ]
  },
  {
   "cell_type": "code",
   "execution_count": 35,
   "metadata": {},
   "outputs": [
    {
     "name": "stdout",
     "output_type": "stream",
     "text": [
      "Wayne's world:  Pekingese\n",
      "Johnny Depp:  Parson_russell_terrier\n",
      "Ariana:  French_bulldog\n",
      "Bulldog:  Boxer\n",
      "Malamute:  Chinese_crested\n",
      "Labrador:  Golden_retriever\n"
     ]
    }
   ],
   "source": [
    "print(\"Wayne's world: \", dog_breed_predictor('app/static/sample_human_2.png'))\n",
    "print(\"Johnny Depp: \", dog_breed_predictor('app/static/Johnny-Depp.jpg'))\n",
    "print(\"Ariana: \", dog_breed_predictor('app/static/Ariana.jpg'))\n",
    "print(\"Bulldog: \", dog_breed_predictor('app/static/Bulldog.jpg'))\n",
    "print(\"Malamute: \", dog_breed_predictor('app/static/Malamute.jpg'))\n",
    "print(\"Labrador: \", dog_breed_predictor('app/static/Lab.jpg')) "
   ]
  },
  {
   "cell_type": "markdown",
   "metadata": {},
   "source": [
    "The model performs well in some scenarios, but in others it hasn't done so well (i.e. Malamute).\n",
    "\n",
    "In short, the above model will predict a cat as a dog. This is because it is trying map the images to a dog breed and there will be a breed which looks most similar. This is NOT to say, it thinks a cat is a dog with high probability, but it looks more like one breed than another\n",
    "\n",
    "## Improvements\n",
    "Firstly,The model is currently biased as there are more images for Malamute than there are for Manchester Terriers, this means the model will favour features which detect Malamutes over those for Manchester Terriers.\n",
    "\n",
    "Secondly, The model is quite basic, taking taking only the features for one model. We could potentially add more features, from multiple models which may give us more information for prediction.\n",
    "\n",
    "Thirdly, the model is currently geared up to only predict over the total image. IF there are multiple dogs in an image, this is not the prepared well for prediction. Extra preprocessing / tagging could be used to isolate different animals within the dataset, isolate these images out, then predict on what they are. This could give better results / be more applicable to a wider range of images.\n",
    "\n",
    "Finally, images tend to be of the correct orientation (by inspection) in the dataset. To improve on this, or to refine the model further, it could be possible to change the orientation of these images and refit for these newly generated images.\n",
    "\n"
   ]
  },
  {
   "cell_type": "code",
   "execution_count": null,
   "metadata": {},
   "outputs": [],
   "source": []
  }
 ],
 "metadata": {
  "anaconda-cloud": {},
  "kernelspec": {
   "display_name": "Python 3",
   "language": "python",
   "name": "python3"
  },
  "language_info": {
   "codemirror_mode": {
    "name": "ipython",
    "version": 3
   },
   "file_extension": ".py",
   "mimetype": "text/x-python",
   "name": "python",
   "nbconvert_exporter": "python",
   "pygments_lexer": "ipython3",
   "version": "3.7.3"
  }
 },
 "nbformat": 4,
 "nbformat_minor": 1
}
